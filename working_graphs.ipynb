{
 "cells": [
  {
   "cell_type": "code",
   "execution_count": 1,
   "id": "a4be2891",
   "metadata": {},
   "outputs": [
    {
     "data": {
      "application/javascript": [
       "IPython.notebook.set_autosave_interval(5000)"
      ]
     },
     "metadata": {},
     "output_type": "display_data"
    },
    {
     "name": "stdout",
     "output_type": "stream",
     "text": [
      "Autosaving every 5 seconds\n"
     ]
    },
    {
     "data": {
      "application/javascript": [
       "IPython.notebook.set_autosave_interval(5000)"
      ]
     },
     "metadata": {},
     "output_type": "display_data"
    },
    {
     "name": "stdout",
     "output_type": "stream",
     "text": [
      "Autosaving every 5 seconds\n",
      "3.9.12 (main, Jun  1 2022, 06:36:29) \n",
      "[Clang 12.0.0 ]\n"
     ]
    }
   ],
   "source": [
    "import subprocess\n",
    "import pdb\n",
    "\n",
    "import os\n",
    "import glob\n",
    "import numpy as np\n",
    "from numpy.fft import fft, ifft, fftfreq\n",
    "import pandas as pd\n",
    "import matplotlib.pyplot as plt\n",
    "from matplotlib import gridspec\n",
    "from matplotlib.animation import FuncAnimation\n",
    "from nilearn.plotting import view_img_on_surf, view_img\n",
    "from scipy.stats import ttest_1samp\n",
    "\n",
    "import networkx as nx\n",
    "from IPython.display import HTML\n",
    "\n",
    "# import nest_asyncio\n",
    "# nest_asyncio.apply()\n",
    "# import datalad.api as dl\n",
    "\n",
    "import warnings\n",
    "import sys \n",
    "if not sys.warnoptions:\n",
    "    warnings.simplefilter(\"ignore\")\n",
    "\n",
    "import pandas as pd\n",
    "import scipy.io\n",
    "from scipy import stats\n",
    "\n",
    "from sklearn.manifold import MDS\n",
    "import scipy.spatial.distance as sp_distance\n",
    "from sklearn.preprocessing import RobustScaler, StandardScaler\n",
    "\n",
    "import matplotlib.pyplot as plt\n",
    "import seaborn as sns \n",
    "from mpl_toolkits.mplot3d import Axes3D\n",
    "\n",
    "import time\n",
    "from copy import deepcopy\n",
    "import numpy as np\n",
    "import pandas as pd \n",
    "\n",
    "from nilearn import datasets\n",
    "from nilearn import surface\n",
    "from nilearn import plotting\n",
    "from nilearn.input_data import NiftiMasker, NiftiLabelsMasker\n",
    "import nibabel as nib\n",
    "\n",
    "from nltools.data import Brain_Data, Adjacency\n",
    "from nltools.mask import expand_mask, roi_to_brain\n",
    "from nltools.stats import isc, isfc, isps, fdr, threshold, phase_randomize, circle_shift, _butter_bandpass_filter, _phase_mean_angle, _phase_vector_length\n",
    "from nilearn.plotting import view_img_on_surf, view_img\n",
    "from sklearn.metrics import pairwise_distances\n",
    "from sklearn.utils import check_random_state\n",
    "\n",
    "# from brainiak import image, io\n",
    "# from brainiak.isc import isc, isfc, permutation_isc\n",
    "import matplotlib.pyplot as plt\n",
    "import seaborn as sns \n",
    "\n",
    "from datetime import datetime as dt\n",
    "from scipy.signal import hilbert, butter, filtfilt\n",
    "from kuramoto import Kuramoto, plot_phase_coherence, plot_activity\n",
    "\n",
    "%autosave 5\n",
    "%matplotlib inline\n",
    "sns.set(style = 'white', context='talk', font_scale=1, rc={\"lines.linewidth\": 2})\n",
    "\n",
    "# %matplotlib notebook\n",
    "%matplotlib inline\n",
    "%autosave 5\n",
    "sns.set(style = 'white', context='poster', rc={\"lines.linewidth\": 2.5})\n",
    "sns.set(palette=\"colorblind\")\n",
    "\n",
    "from py3plex.core import multinet\n",
    "from py3plex.core import random_generators\n",
    "from py3plex.algorithms.community_detection import infomap\n",
    "import numpy as np\n",
    "import queue\n",
    "import matplotlib.pyplot as plt\n",
    "import seaborn as sns\n",
    "\n",
    "from ts2vg import NaturalVG\n",
    "from ts2vg import HorizontalVG\n",
    "import pickle\n",
    "from datetime import datetime\n",
    "from time import time\n",
    "from scipy import stats\n",
    "\n",
    "from py3plex.core.parsers import  parse_network\n",
    "from py3plex.core import multinet\n",
    "\n",
    "import numpy as np\n",
    "import pylab\n",
    "\n",
    "from tqdm import tqdm\n",
    "\n",
    "from multiprocess import Pool\n",
    "from py3plex.algorithms.statistics.basic_statistics import core_network_statistics, identify_n_hubs\n",
    "\n",
    "from py3plex.algorithms.community_detection import community_wrapper as cw\n",
    "from py3plex.core import multinet\n",
    "from py3plex.visualization.multilayer import hairball_plot, plt\n",
    "from py3plex.visualization.colors import colors_default\n",
    "from collections import Counter\n",
    "\n",
    "import community as community_louvain\n",
    "from py3plex.algorithms.multilayer_algorithms.entanglement import compute_entanglement_analysis\n",
    "\n"
   ]
  },
  {
   "cell_type": "code",
   "execution_count": 2,
   "id": "521fa320",
   "metadata": {},
   "outputs": [],
   "source": [
    "def onetoughjar(path2dic):\n",
    "    p = os.path.join(path2dic)\n",
    "    list_of_files = glob.glob(p) # * means all if need specific format then *.csv\n",
    "    print(list_of_files)\n",
    "    latest_file = max(list_of_files, key=os.path.getctime)\n",
    "    print(latest_file)\n",
    "    with open(latest_file, 'rb') as pickle_file:\n",
    "        try:\n",
    "            while True:\n",
    "                output = pickle.load(pickle_file)\n",
    "        except EOFError:\n",
    "            pass\n",
    "    return(output)\n",
    "    \n",
    "    \n",
    "    "
   ]
  },
  {
   "cell_type": "code",
   "execution_count": 3,
   "id": "3b3e381a",
   "metadata": {},
   "outputs": [],
   "source": [
    "def adillyofapickle(basepath, dic, name):\n",
    "    datefmt='%m-%d-%Y_%I-%M-%S'\n",
    "    st = datetime.fromtimestamp(time()).strftime(datefmt)\n",
    "    if os.path.exists(os.path.join(basepath,'tmp')):\n",
    "        print('already have tmp')\n",
    "    else:\n",
    "        os.makedirs(os.path.join(basepath,'tmp'))\n",
    "    pickle.dump(dic, open(os.path.join(basepath,'tmp','%s_%s'%(name,st)), 'wb'), protocol=4)\n"
   ]
  },
  {
   "cell_type": "code",
   "execution_count": 4,
   "id": "c3e04393",
   "metadata": {},
   "outputs": [],
   "source": [
    "datapath = '/Users/gracer/Documents/BBC_21-2939_prepro_data/derivatives/output/clamp'"
   ]
  },
  {
   "cell_type": "code",
   "execution_count": 5,
   "id": "2d76752a",
   "metadata": {},
   "outputs": [],
   "source": [
    "basepath = '/Users/gracer/Documents/BBC_21-2939_prepro_data'\n",
    "tasks = ['base','clamp']\n",
    "\n",
    "savepath = os.path.join(basepath,'derivatives','output')"
   ]
  },
  {
   "cell_type": "code",
   "execution_count": 6,
   "id": "e87e276a",
   "metadata": {},
   "outputs": [
    {
     "name": "stdout",
     "output_type": "stream",
     "text": [
      "['/Users/gracer/Documents/BBC_21-2939_prepro_data/derivatives/output/tmp/multi_nets_06-30-2022_03-08-29', '/Users/gracer/Documents/BBC_21-2939_prepro_data/derivatives/output/tmp/multi_nets_06-30-2022_06-02-40', '/Users/gracer/Documents/BBC_21-2939_prepro_data/derivatives/output/tmp/multi_nets_06-30-2022_05-49-00']\n",
      "/Users/gracer/Documents/BBC_21-2939_prepro_data/derivatives/output/tmp/multi_nets_06-30-2022_06-02-40\n"
     ]
    }
   ],
   "source": [
    "multi_nets = onetoughjar(os.path.join(savepath, 'tmp','multi_nets*'))"
   ]
  },
  {
   "cell_type": "code",
   "execution_count": 7,
   "id": "2cbc9213",
   "metadata": {},
   "outputs": [
    {
     "name": "stdout",
     "output_type": "stream",
     "text": [
      "['/Users/gracer/Documents/BBC_21-2939_prepro_data/derivatives/output/tmp/graphs_weight_dist_smz_06-23-2022_05-03-32', '/Users/gracer/Documents/BBC_21-2939_prepro_data/derivatives/output/tmp/graphs_weight_dist_smz_06-23-2022_05-01-20', '/Users/gracer/Documents/BBC_21-2939_prepro_data/derivatives/output/tmp/graphs_weight_dist_smz_06-30-2022_01-27-24']\n",
      "/Users/gracer/Documents/BBC_21-2939_prepro_data/derivatives/output/tmp/graphs_weight_dist_smz_06-30-2022_01-27-24\n"
     ]
    }
   ],
   "source": [
    "X = onetoughjar(os.path.join(savepath,'tmp','graphs_weight_dist_smz*'))"
   ]
  },
  {
   "cell_type": "code",
   "execution_count": 8,
   "id": "f72b4f75",
   "metadata": {},
   "outputs": [],
   "source": [
    "shapeup = {'high':\n",
    "           {'20001':{},'20002':{},'20003':{},'20004':{},'20008':{},'20010':{}},\n",
    "           'neu':{'20001':{},'20002':{},'20003':{},'20004':{},'20008':{},'20010':{}},\n",
    "           'low':{'20001':{},'20002':{},'20003':{},'20004':{},'20008':{},'20010':{}}}"
   ]
  },
  {
   "cell_type": "code",
   "execution_count": 9,
   "id": "3ec58540",
   "metadata": {},
   "outputs": [],
   "source": [
    "for z in multi_nets:\n",
    "    for key, value in z.items():\n",
    "        for k, v in value.items():\n",
    "            for num, net in v.items():\n",
    "                shapeup[k][key].update({num : net['network']})\n",
    "    "
   ]
  },
  {
   "cell_type": "code",
   "execution_count": 10,
   "id": "91da962d",
   "metadata": {},
   "outputs": [
    {
     "data": {
      "text/plain": [
       "dict_keys(['high', 'neu', 'low'])"
      ]
     },
     "execution_count": 10,
     "metadata": {},
     "output_type": "execute_result"
    }
   ],
   "source": [
    "shapeup.keys()"
   ]
  },
  {
   "cell_type": "code",
   "execution_count": null,
   "id": "42b57f65",
   "metadata": {
    "scrolled": true
   },
   "outputs": [],
   "source": [
    "value = shapeup['low']['20001']['1']\n",
    "network_labels, graphs, multilinks = value.get_layers()"
   ]
  },
  {
   "cell_type": "code",
   "execution_count": null,
   "id": "c5fec7a4",
   "metadata": {},
   "outputs": [],
   "source": [
    "G = graphs[0]\n",
    "H = G.copy()"
   ]
  },
  {
   "cell_type": "code",
   "execution_count": null,
   "id": "0677d829",
   "metadata": {
    "scrolled": true
   },
   "outputs": [],
   "source": [
    "rmv = {}\n",
    "for node, value in G.degree():\n",
    "    if value < 5:\n",
    "        rmv[node] = value\n",
    "        H.remove_node(node)"
   ]
  },
  {
   "cell_type": "code",
   "execution_count": null,
   "id": "80d73bb0",
   "metadata": {},
   "outputs": [],
   "source": [
    "H.nodes(data = True)"
   ]
  },
  {
   "cell_type": "code",
   "execution_count": null,
   "id": "d600cd1f",
   "metadata": {
    "scrolled": true
   },
   "outputs": [],
   "source": [
    "X['low']['20001']['Pu'][1]['node_maps']"
   ]
  },
  {
   "cell_type": "code",
   "execution_count": null,
   "id": "e4d09589",
   "metadata": {},
   "outputs": [],
   "source": [
    "keep"
   ]
  },
  {
   "cell_type": "code",
   "execution_count": null,
   "id": "3490bbc2",
   "metadata": {},
   "outputs": [],
   "source": [
    "keep = {}\n",
    "for x,y in H.nodes(data = True):\n",
    "    print('thsi is %s'%x[0])\n",
    "    for k, v in X['low']['20001']['Pu'][1]['node_maps'].items():\n",
    "#         print(v)\n",
    "        print('this is %s'%v)\n",
    "        if int(v) == int(x[0]):\n",
    "            print('same!')\n",
    "            keep[k] = v"
   ]
  },
  {
   "cell_type": "code",
   "execution_count": 54,
   "id": "2bb4f83a",
   "metadata": {},
   "outputs": [],
   "source": [
    "import matplotlib as mpl\n",
    "from mpl_toolkits.axes_grid1 import make_axes_locatable\n"
   ]
  },
  {
   "cell_type": "code",
   "execution_count": 74,
   "id": "33f4f821",
   "metadata": {
    "scrolled": false
   },
   "outputs": [
    {
     "name": "stdout",
     "output_type": "stream",
     "text": [
      "-------------------- \n",
      " Network splitting in progress \n",
      " --------------------\n"
     ]
    },
    {
     "name": "stderr",
     "output_type": "stream",
     "text": [
      "100%|████████████████████████████████████████| 100/100 [00:00<00:00, 260.34it/s]\n"
     ]
    },
    {
     "name": "stdout",
     "output_type": "stream",
     "text": [
      "BarnesHut Approximation  took  0.05  seconds\n",
      "Repulsion forces  took  0.29  seconds\n",
      "Gravitational forces  took  0.01  seconds\n",
      "Attraction forces  took  0.02  seconds\n",
      "AdjustSpeedAndApplyForces step  took  0.02  seconds\n"
     ]
    },
    {
     "name": "stderr",
     "output_type": "stream",
     "text": [
      "100%|████████████████████████████████████████| 100/100 [00:00<00:00, 295.15it/s]\n"
     ]
    },
    {
     "name": "stdout",
     "output_type": "stream",
     "text": [
      "BarnesHut Approximation  took  0.05  seconds\n",
      "Repulsion forces  took  0.24  seconds\n",
      "Gravitational forces  took  0.01  seconds\n",
      "Attraction forces  took  0.02  seconds\n",
      "AdjustSpeedAndApplyForces step  took  0.02  seconds\n"
     ]
    },
    {
     "name": "stderr",
     "output_type": "stream",
     "text": [
      "100%|████████████████████████████████████████| 100/100 [00:00<00:00, 244.47it/s]\n"
     ]
    },
    {
     "name": "stdout",
     "output_type": "stream",
     "text": [
      "BarnesHut Approximation  took  0.05  seconds\n",
      "Repulsion forces  took  0.32  seconds\n",
      "Gravitational forces  took  0.01  seconds\n",
      "Attraction forces  took  0.02  seconds\n",
      "AdjustSpeedAndApplyForces step  took  0.01  seconds\n"
     ]
    },
    {
     "name": "stderr",
     "output_type": "stream",
     "text": [
      "100%|████████████████████████████████████████| 100/100 [00:00<00:00, 254.48it/s]\n"
     ]
    },
    {
     "name": "stdout",
     "output_type": "stream",
     "text": [
      "BarnesHut Approximation  took  0.05  seconds\n",
      "Repulsion forces  took  0.30  seconds\n",
      "Gravitational forces  took  0.01  seconds\n",
      "Attraction forces  took  0.02  seconds\n",
      "AdjustSpeedAndApplyForces step  took  0.02  seconds\n"
     ]
    },
    {
     "name": "stderr",
     "output_type": "stream",
     "text": [
      "100%|████████████████████████████████████████| 100/100 [00:00<00:00, 251.94it/s]\n"
     ]
    },
    {
     "name": "stdout",
     "output_type": "stream",
     "text": [
      "BarnesHut Approximation  took  0.05  seconds\n",
      "Repulsion forces  took  0.30  seconds\n",
      "Gravitational forces  took  0.01  seconds\n",
      "Attraction forces  took  0.02  seconds\n",
      "AdjustSpeedAndApplyForces step  took  0.02  seconds\n"
     ]
    },
    {
     "name": "stderr",
     "output_type": "stream",
     "text": [
      "100%|████████████████████████████████████████| 100/100 [00:00<00:00, 267.23it/s]\n"
     ]
    },
    {
     "name": "stdout",
     "output_type": "stream",
     "text": [
      "BarnesHut Approximation  took  0.05  seconds\n",
      "Repulsion forces  took  0.28  seconds\n",
      "Gravitational forces  took  0.01  seconds\n",
      "Attraction forces  took  0.02  seconds\n",
      "AdjustSpeedAndApplyForces step  took  0.01  seconds\n"
     ]
    },
    {
     "name": "stderr",
     "output_type": "stream",
     "text": [
      "100%|████████████████████████████████████████| 100/100 [00:00<00:00, 246.15it/s]\n"
     ]
    },
    {
     "name": "stdout",
     "output_type": "stream",
     "text": [
      "BarnesHut Approximation  took  0.05  seconds\n",
      "Repulsion forces  took  0.31  seconds\n",
      "Gravitational forces  took  0.01  seconds\n",
      "Attraction forces  took  0.02  seconds\n",
      "AdjustSpeedAndApplyForces step  took  0.01  seconds\n",
      "Finished with layout..\n"
     ]
    },
    {
     "data": {
      "image/png": "[encoded data removed]",
      "text/plain": [
       "<Figure size 864x864 with 1 Axes>"
      ]
     },
     "metadata": {},
     "output_type": "display_data"
    },
    {
     "name": "stdout",
     "output_type": "stream",
     "text": [
      "-------------------- \n",
      " Network splitting in progress \n",
      " --------------------\n"
     ]
    },
    {
     "name": "stderr",
     "output_type": "stream",
     "text": [
      "100%|█████████████████████████████████████████| 100/100 [00:01<00:00, 95.19it/s]\n"
     ]
    },
    {
     "name": "stdout",
     "output_type": "stream",
     "text": [
      "BarnesHut Approximation  took  0.12  seconds\n",
      "Repulsion forces  took  0.83  seconds\n",
      "Gravitational forces  took  0.01  seconds\n",
      "Attraction forces  took  0.05  seconds\n",
      "AdjustSpeedAndApplyForces step  took  0.03  seconds\n"
     ]
    },
    {
     "name": "stderr",
     "output_type": "stream",
     "text": [
      "100%|████████████████████████████████████████| 100/100 [00:00<00:00, 102.05it/s]\n"
     ]
    },
    {
     "name": "stdout",
     "output_type": "stream",
     "text": [
      "BarnesHut Approximation  took  0.12  seconds\n",
      "Repulsion forces  took  0.77  seconds\n",
      "Gravitational forces  took  0.01  seconds\n",
      "Attraction forces  took  0.05  seconds\n",
      "AdjustSpeedAndApplyForces step  took  0.03  seconds\n"
     ]
    },
    {
     "name": "stderr",
     "output_type": "stream",
     "text": [
      "100%|█████████████████████████████████████████| 100/100 [00:01<00:00, 87.85it/s]\n"
     ]
    },
    {
     "name": "stdout",
     "output_type": "stream",
     "text": [
      "BarnesHut Approximation  took  0.11  seconds\n",
      "Repulsion forces  took  0.93  seconds\n",
      "Gravitational forces  took  0.01  seconds\n",
      "Attraction forces  took  0.05  seconds\n",
      "AdjustSpeedAndApplyForces step  took  0.03  seconds\n"
     ]
    },
    {
     "name": "stderr",
     "output_type": "stream",
     "text": [
      "100%|█████████████████████████████████████████| 100/100 [00:01<00:00, 92.95it/s]\n"
     ]
    },
    {
     "name": "stdout",
     "output_type": "stream",
     "text": [
      "BarnesHut Approximation  took  0.12  seconds\n",
      "Repulsion forces  took  0.86  seconds\n",
      "Gravitational forces  took  0.01  seconds\n",
      "Attraction forces  took  0.05  seconds\n",
      "AdjustSpeedAndApplyForces step  took  0.03  seconds\n"
     ]
    },
    {
     "name": "stderr",
     "output_type": "stream",
     "text": [
      "100%|████████████████████████████████████████| 100/100 [00:00<00:00, 106.21it/s]\n"
     ]
    },
    {
     "name": "stdout",
     "output_type": "stream",
     "text": [
      "BarnesHut Approximation  took  0.11  seconds\n",
      "Repulsion forces  took  0.73  seconds\n",
      "Gravitational forces  took  0.01  seconds\n",
      "Attraction forces  took  0.05  seconds\n",
      "AdjustSpeedAndApplyForces step  took  0.03  seconds\n"
     ]
    },
    {
     "name": "stderr",
     "output_type": "stream",
     "text": [
      "100%|█████████████████████████████████████████| 100/100 [00:01<00:00, 90.22it/s]\n"
     ]
    },
    {
     "name": "stdout",
     "output_type": "stream",
     "text": [
      "BarnesHut Approximation  took  0.11  seconds\n",
      "Repulsion forces  took  0.89  seconds\n",
      "Gravitational forces  took  0.01  seconds\n",
      "Attraction forces  took  0.05  seconds\n",
      "AdjustSpeedAndApplyForces step  took  0.03  seconds\n"
     ]
    },
    {
     "name": "stderr",
     "output_type": "stream",
     "text": [
      "100%|████████████████████████████████████████| 100/100 [00:00<00:00, 108.26it/s]\n"
     ]
    },
    {
     "name": "stdout",
     "output_type": "stream",
     "text": [
      "BarnesHut Approximation  took  0.11  seconds\n",
      "Repulsion forces  took  0.71  seconds\n",
      "Gravitational forces  took  0.01  seconds\n",
      "Attraction forces  took  0.05  seconds\n",
      "AdjustSpeedAndApplyForces step  took  0.03  seconds\n",
      "Finished with layout..\n"
     ]
    },
    {
     "data": {
      "image/png": "[encoded data removed]",
      "text/plain": [
       "<Figure size 864x864 with 1 Axes>"
      ]
     },
     "metadata": {},
     "output_type": "display_data"
    },
    {
     "name": "stdout",
     "output_type": "stream",
     "text": [
      "-------------------- \n",
      " Network splitting in progress \n",
      " --------------------\n"
     ]
    },
    {
     "name": "stderr",
     "output_type": "stream",
     "text": [
      "100%|███████████████████████████████████████| 100/100 [00:00<00:00, 3699.89it/s]\n"
     ]
    },
    {
     "name": "stdout",
     "output_type": "stream",
     "text": [
      "BarnesHut Approximation  took  0.01  seconds\n",
      "Repulsion forces  took  0.01  seconds\n",
      "Gravitational forces  took  0.00  seconds\n",
      "Attraction forces  took  0.00  seconds\n",
      "AdjustSpeedAndApplyForces step  took  0.00  seconds\n"
     ]
    },
    {
     "name": "stderr",
     "output_type": "stream",
     "text": [
      "100%|███████████████████████████████████████| 100/100 [00:00<00:00, 9562.06it/s]\n"
     ]
    },
    {
     "name": "stdout",
     "output_type": "stream",
     "text": [
      "BarnesHut Approximation  took  0.00  seconds\n",
      "Repulsion forces  took  0.00  seconds\n",
      "Gravitational forces  took  0.00  seconds\n",
      "Attraction forces  took  0.00  seconds\n",
      "AdjustSpeedAndApplyForces step  took  0.00  seconds\n"
     ]
    },
    {
     "name": "stderr",
     "output_type": "stream",
     "text": [
      "100%|██████████████████████████████████████| 100/100 [00:00<00:00, 13390.49it/s]\n"
     ]
    },
    {
     "name": "stdout",
     "output_type": "stream",
     "text": [
      "BarnesHut Approximation  took  0.00  seconds\n",
      "Repulsion forces  took  0.00  seconds\n",
      "Gravitational forces  took  0.00  seconds\n",
      "Attraction forces  took  0.00  seconds\n",
      "AdjustSpeedAndApplyForces step  took  0.00  seconds\n"
     ]
    },
    {
     "name": "stderr",
     "output_type": "stream",
     "text": [
      "100%|███████████████████████████████████████| 100/100 [00:00<00:00, 5121.88it/s]\n"
     ]
    },
    {
     "name": "stdout",
     "output_type": "stream",
     "text": [
      "BarnesHut Approximation  took  0.01  seconds\n",
      "Repulsion forces  took  0.01  seconds\n",
      "Gravitational forces  took  0.00  seconds\n",
      "Attraction forces  took  0.00  seconds\n",
      "AdjustSpeedAndApplyForces step  took  0.00  seconds\n"
     ]
    },
    {
     "name": "stderr",
     "output_type": "stream",
     "text": [
      "100%|███████████████████████████████████████| 100/100 [00:00<00:00, 7147.39it/s]\n"
     ]
    },
    {
     "name": "stdout",
     "output_type": "stream",
     "text": [
      "BarnesHut Approximation  took  0.00  seconds\n",
      "Repulsion forces  took  0.01  seconds\n",
      "Gravitational forces  took  0.00  seconds\n",
      "Attraction forces  took  0.00  seconds\n",
      "AdjustSpeedAndApplyForces step  took  0.00  seconds\n"
     ]
    },
    {
     "name": "stderr",
     "output_type": "stream",
     "text": [
      "100%|███████████████████████████████████████| 100/100 [00:00<00:00, 4699.50it/s]\n"
     ]
    },
    {
     "name": "stdout",
     "output_type": "stream",
     "text": [
      "BarnesHut Approximation  took  0.00  seconds\n",
      "Repulsion forces  took  0.01  seconds\n",
      "Gravitational forces  took  0.00  seconds\n",
      "Attraction forces  took  0.00  seconds\n",
      "AdjustSpeedAndApplyForces step  took  0.00  seconds\n"
     ]
    },
    {
     "name": "stderr",
     "output_type": "stream",
     "text": [
      "100%|██████████████████████████████████████| 100/100 [00:00<00:00, 14607.17it/s]\n"
     ]
    },
    {
     "name": "stdout",
     "output_type": "stream",
     "text": [
      "BarnesHut Approximation  took  0.00  seconds\n",
      "Repulsion forces  took  0.00  seconds\n",
      "Gravitational forces  took  0.00  seconds\n",
      "Attraction forces  took  0.00  seconds\n",
      "AdjustSpeedAndApplyForces step  took  0.00  seconds\n",
      "Finished with layout..\n",
      "-------------------- \n",
      " Network splitting in progress \n",
      " --------------------\n"
     ]
    },
    {
     "name": "stderr",
     "output_type": "stream",
     "text": [
      "100%|████████████████████████████████████████| 100/100 [00:00<00:00, 147.85it/s]\n"
     ]
    },
    {
     "name": "stdout",
     "output_type": "stream",
     "text": [
      "BarnesHut Approximation  took  0.08  seconds\n",
      "Repulsion forces  took  0.52  seconds\n",
      "Gravitational forces  took  0.01  seconds\n",
      "Attraction forces  took  0.04  seconds\n",
      "AdjustSpeedAndApplyForces step  took  0.02  seconds\n"
     ]
    },
    {
     "name": "stderr",
     "output_type": "stream",
     "text": [
      "100%|████████████████████████████████████████| 100/100 [00:00<00:00, 145.99it/s]\n"
     ]
    },
    {
     "name": "stdout",
     "output_type": "stream",
     "text": [
      "BarnesHut Approximation  took  0.08  seconds\n",
      "Repulsion forces  took  0.53  seconds\n",
      "Gravitational forces  took  0.01  seconds\n",
      "Attraction forces  took  0.04  seconds\n",
      "AdjustSpeedAndApplyForces step  took  0.02  seconds\n"
     ]
    },
    {
     "name": "stderr",
     "output_type": "stream",
     "text": [
      "100%|████████████████████████████████████████| 100/100 [00:00<00:00, 146.97it/s]\n"
     ]
    },
    {
     "name": "stdout",
     "output_type": "stream",
     "text": [
      "BarnesHut Approximation  took  0.08  seconds\n",
      "Repulsion forces  took  0.54  seconds\n",
      "Gravitational forces  took  0.01  seconds\n",
      "Attraction forces  took  0.03  seconds\n",
      "AdjustSpeedAndApplyForces step  took  0.02  seconds\n"
     ]
    },
    {
     "name": "stderr",
     "output_type": "stream",
     "text": [
      "100%|████████████████████████████████████████| 100/100 [00:00<00:00, 145.81it/s]\n"
     ]
    },
    {
     "name": "stdout",
     "output_type": "stream",
     "text": [
      "BarnesHut Approximation  took  0.08  seconds\n",
      "Repulsion forces  took  0.54  seconds\n",
      "Gravitational forces  took  0.01  seconds\n",
      "Attraction forces  took  0.04  seconds\n",
      "AdjustSpeedAndApplyForces step  took  0.02  seconds\n"
     ]
    },
    {
     "name": "stderr",
     "output_type": "stream",
     "text": [
      "100%|████████████████████████████████████████| 100/100 [00:00<00:00, 132.33it/s]\n"
     ]
    },
    {
     "name": "stdout",
     "output_type": "stream",
     "text": [
      "BarnesHut Approximation  took  0.08  seconds\n",
      "Repulsion forces  took  0.61  seconds\n",
      "Gravitational forces  took  0.01  seconds\n",
      "Attraction forces  took  0.03  seconds\n",
      "AdjustSpeedAndApplyForces step  took  0.02  seconds\n"
     ]
    },
    {
     "name": "stderr",
     "output_type": "stream",
     "text": [
      "100%|████████████████████████████████████████| 100/100 [00:00<00:00, 143.86it/s]\n"
     ]
    },
    {
     "name": "stdout",
     "output_type": "stream",
     "text": [
      "BarnesHut Approximation  took  0.08  seconds\n",
      "Repulsion forces  took  0.54  seconds\n",
      "Gravitational forces  took  0.01  seconds\n",
      "Attraction forces  took  0.04  seconds\n",
      "AdjustSpeedAndApplyForces step  took  0.02  seconds\n"
     ]
    },
    {
     "name": "stderr",
     "output_type": "stream",
     "text": [
      "100%|████████████████████████████████████████| 100/100 [00:00<00:00, 139.70it/s]\n"
     ]
    },
    {
     "name": "stdout",
     "output_type": "stream",
     "text": [
      "BarnesHut Approximation  took  0.08  seconds\n",
      "Repulsion forces  took  0.56  seconds\n",
      "Gravitational forces  took  0.01  seconds\n",
      "Attraction forces  took  0.04  seconds\n",
      "AdjustSpeedAndApplyForces step  took  0.02  seconds\n",
      "Finished with layout..\n"
     ]
    },
    {
     "data": {
      "image/png": "[encoded data removed]",
      "text/plain": [
       "<Figure size 864x864 with 1 Axes>"
      ]
     },
     "metadata": {},
     "output_type": "display_data"
    },
    {
     "data": {
      "image/png": "[encoded data removed]",
      "text/plain": [
       "<Figure size 864x864 with 1 Axes>"
      ]
     },
     "metadata": {},
     "output_type": "display_data"
    },
    {
     "name": "stdout",
     "output_type": "stream",
     "text": [
      "-------------------- \n",
      " Network splitting in progress \n",
      " --------------------\n"
     ]
    },
    {
     "name": "stderr",
     "output_type": "stream",
     "text": [
      "100%|███████████████████████████████████████| 100/100 [00:00<00:00, 2547.27it/s]\n"
     ]
    },
    {
     "name": "stdout",
     "output_type": "stream",
     "text": [
      "BarnesHut Approximation  took  0.01  seconds\n",
      "Repulsion forces  took  0.02  seconds\n",
      "Gravitational forces  took  0.00  seconds\n",
      "Attraction forces  took  0.00  seconds\n",
      "AdjustSpeedAndApplyForces step  took  0.00  seconds\n"
     ]
    },
    {
     "name": "stderr",
     "output_type": "stream",
     "text": [
      "100%|███████████████████████████████████████| 100/100 [00:00<00:00, 1769.82it/s]\n"
     ]
    },
    {
     "name": "stdout",
     "output_type": "stream",
     "text": [
      "BarnesHut Approximation  took  0.01  seconds\n",
      "Repulsion forces  took  0.04  seconds\n",
      "Gravitational forces  took  0.00  seconds\n",
      "Attraction forces  took  0.00  seconds\n",
      "AdjustSpeedAndApplyForces step  took  0.00  seconds\n"
     ]
    },
    {
     "name": "stderr",
     "output_type": "stream",
     "text": [
      "100%|███████████████████████████████████████| 100/100 [00:00<00:00, 2189.44it/s]\n"
     ]
    },
    {
     "name": "stdout",
     "output_type": "stream",
     "text": [
      "BarnesHut Approximation  took  0.01  seconds\n",
      "Repulsion forces  took  0.03  seconds\n",
      "Gravitational forces  took  0.00  seconds\n",
      "Attraction forces  took  0.00  seconds\n",
      "AdjustSpeedAndApplyForces step  took  0.00  seconds\n"
     ]
    },
    {
     "name": "stderr",
     "output_type": "stream",
     "text": [
      "100%|███████████████████████████████████████| 100/100 [00:00<00:00, 3053.62it/s]\n"
     ]
    },
    {
     "name": "stdout",
     "output_type": "stream",
     "text": [
      "BarnesHut Approximation  took  0.01  seconds\n",
      "Repulsion forces  took  0.02  seconds\n",
      "Gravitational forces  took  0.00  seconds\n",
      "Attraction forces  took  0.00  seconds\n",
      "AdjustSpeedAndApplyForces step  took  0.00  seconds\n"
     ]
    },
    {
     "name": "stderr",
     "output_type": "stream",
     "text": [
      "100%|███████████████████████████████████████| 100/100 [00:00<00:00, 2273.46it/s]\n"
     ]
    },
    {
     "name": "stdout",
     "output_type": "stream",
     "text": [
      "BarnesHut Approximation  took  0.01  seconds\n",
      "Repulsion forces  took  0.03  seconds\n",
      "Gravitational forces  took  0.00  seconds\n",
      "Attraction forces  took  0.00  seconds\n",
      "AdjustSpeedAndApplyForces step  took  0.00  seconds\n"
     ]
    },
    {
     "name": "stderr",
     "output_type": "stream",
     "text": [
      "100%|███████████████████████████████████████| 100/100 [00:00<00:00, 2389.77it/s]\n"
     ]
    },
    {
     "name": "stdout",
     "output_type": "stream",
     "text": [
      "BarnesHut Approximation  took  0.01  seconds\n",
      "Repulsion forces  took  0.02  seconds\n",
      "Gravitational forces  took  0.00  seconds\n",
      "Attraction forces  took  0.00  seconds\n",
      "AdjustSpeedAndApplyForces step  took  0.00  seconds\n"
     ]
    },
    {
     "name": "stderr",
     "output_type": "stream",
     "text": [
      "100%|███████████████████████████████████████| 100/100 [00:00<00:00, 6652.03it/s]\n"
     ]
    },
    {
     "name": "stdout",
     "output_type": "stream",
     "text": [
      "BarnesHut Approximation  took  0.00  seconds\n",
      "Repulsion forces  took  0.01  seconds\n",
      "Gravitational forces  took  0.00  seconds\n",
      "Attraction forces  took  0.00  seconds\n",
      "AdjustSpeedAndApplyForces step  took  0.00  seconds\n",
      "Finished with layout..\n",
      "-------------------- \n",
      " Network splitting in progress \n",
      " --------------------\n"
     ]
    },
    {
     "name": "stderr",
     "output_type": "stream",
     "text": [
      "100%|████████████████████████████████████████| 100/100 [00:00<00:00, 254.35it/s]\n"
     ]
    },
    {
     "name": "stdout",
     "output_type": "stream",
     "text": [
      "BarnesHut Approximation  took  0.05  seconds\n",
      "Repulsion forces  took  0.30  seconds\n",
      "Gravitational forces  took  0.01  seconds\n",
      "Attraction forces  took  0.02  seconds\n",
      "AdjustSpeedAndApplyForces step  took  0.02  seconds\n"
     ]
    },
    {
     "name": "stderr",
     "output_type": "stream",
     "text": [
      "100%|████████████████████████████████████████| 100/100 [00:00<00:00, 252.20it/s]\n"
     ]
    },
    {
     "name": "stdout",
     "output_type": "stream",
     "text": [
      "BarnesHut Approximation  took  0.05  seconds\n",
      "Repulsion forces  took  0.30  seconds\n",
      "Gravitational forces  took  0.01  seconds\n",
      "Attraction forces  took  0.02  seconds\n",
      "AdjustSpeedAndApplyForces step  took  0.02  seconds\n"
     ]
    },
    {
     "name": "stderr",
     "output_type": "stream",
     "text": [
      "100%|████████████████████████████████████████| 100/100 [00:00<00:00, 228.65it/s]\n"
     ]
    },
    {
     "name": "stdout",
     "output_type": "stream",
     "text": [
      "BarnesHut Approximation  took  0.05  seconds\n",
      "Repulsion forces  took  0.34  seconds\n",
      "Gravitational forces  took  0.01  seconds\n",
      "Attraction forces  took  0.02  seconds\n",
      "AdjustSpeedAndApplyForces step  took  0.02  seconds\n"
     ]
    },
    {
     "name": "stderr",
     "output_type": "stream",
     "text": [
      "100%|████████████████████████████████████████| 100/100 [00:00<00:00, 243.50it/s]\n"
     ]
    },
    {
     "name": "stdout",
     "output_type": "stream",
     "text": [
      "BarnesHut Approximation  took  0.05  seconds\n",
      "Repulsion forces  took  0.32  seconds\n",
      "Gravitational forces  took  0.01  seconds\n",
      "Attraction forces  took  0.02  seconds\n",
      "AdjustSpeedAndApplyForces step  took  0.02  seconds\n"
     ]
    },
    {
     "name": "stderr",
     "output_type": "stream",
     "text": [
      "100%|████████████████████████████████████████| 100/100 [00:00<00:00, 254.16it/s]\n"
     ]
    },
    {
     "name": "stdout",
     "output_type": "stream",
     "text": [
      "BarnesHut Approximation  took  0.05  seconds\n",
      "Repulsion forces  took  0.30  seconds\n",
      "Gravitational forces  took  0.01  seconds\n",
      "Attraction forces  took  0.02  seconds\n",
      "AdjustSpeedAndApplyForces step  took  0.02  seconds\n"
     ]
    },
    {
     "name": "stderr",
     "output_type": "stream",
     "text": [
      "100%|████████████████████████████████████████| 100/100 [00:00<00:00, 209.95it/s]\n"
     ]
    },
    {
     "name": "stdout",
     "output_type": "stream",
     "text": [
      "BarnesHut Approximation  took  0.05  seconds\n",
      "Repulsion forces  took  0.38  seconds\n",
      "Gravitational forces  took  0.01  seconds\n",
      "Attraction forces  took  0.02  seconds\n",
      "AdjustSpeedAndApplyForces step  took  0.02  seconds\n"
     ]
    },
    {
     "name": "stderr",
     "output_type": "stream",
     "text": [
      "100%|████████████████████████████████████████| 100/100 [00:00<00:00, 233.04it/s]\n"
     ]
    },
    {
     "name": "stdout",
     "output_type": "stream",
     "text": [
      "BarnesHut Approximation  took  0.05  seconds\n",
      "Repulsion forces  took  0.33  seconds\n",
      "Gravitational forces  took  0.01  seconds\n",
      "Attraction forces  took  0.02  seconds\n",
      "AdjustSpeedAndApplyForces step  took  0.02  seconds\n",
      "Finished with layout..\n"
     ]
    },
    {
     "data": {
      "image/png": "[encoded data removed]",
      "text/plain": [
       "<Figure size 864x864 with 1 Axes>"
      ]
     },
     "metadata": {},
     "output_type": "display_data"
    },
    {
     "data": {
      "image/png": "[encoded data removed]",
      "text/plain": [
       "<Figure size 864x864 with 1 Axes>"
      ]
     },
     "metadata": {},
     "output_type": "display_data"
    },
    {
     "name": "stdout",
     "output_type": "stream",
     "text": [
      "-------------------- \n",
      " Network splitting in progress \n",
      " --------------------\n"
     ]
    },
    {
     "name": "stderr",
     "output_type": "stream",
     "text": [
      "100%|████████████████████████████████████████| 100/100 [00:00<00:00, 508.16it/s]\n"
     ]
    },
    {
     "name": "stdout",
     "output_type": "stream",
     "text": [
      "BarnesHut Approximation  took  0.03  seconds\n",
      "Repulsion forces  took  0.14  seconds\n",
      "Gravitational forces  took  0.00  seconds\n",
      "Attraction forces  took  0.01  seconds\n",
      "AdjustSpeedAndApplyForces step  took  0.01  seconds\n"
     ]
    },
    {
     "name": "stderr",
     "output_type": "stream",
     "text": [
      "100%|████████████████████████████████████████| 100/100 [00:00<00:00, 523.56it/s]\n"
     ]
    },
    {
     "name": "stdout",
     "output_type": "stream",
     "text": [
      "BarnesHut Approximation  took  0.03  seconds\n",
      "Repulsion forces  took  0.13  seconds\n",
      "Gravitational forces  took  0.00  seconds\n",
      "Attraction forces  took  0.01  seconds\n",
      "AdjustSpeedAndApplyForces step  took  0.01  seconds\n"
     ]
    },
    {
     "name": "stderr",
     "output_type": "stream",
     "text": [
      "100%|████████████████████████████████████████| 100/100 [00:00<00:00, 525.70it/s]\n"
     ]
    },
    {
     "name": "stdout",
     "output_type": "stream",
     "text": [
      "BarnesHut Approximation  took  0.03  seconds\n",
      "Repulsion forces  took  0.14  seconds\n",
      "Gravitational forces  took  0.00  seconds\n",
      "Attraction forces  took  0.01  seconds\n",
      "AdjustSpeedAndApplyForces step  took  0.01  seconds\n"
     ]
    },
    {
     "name": "stderr",
     "output_type": "stream",
     "text": [
      "100%|████████████████████████████████████████| 100/100 [00:00<00:00, 487.69it/s]\n"
     ]
    },
    {
     "name": "stdout",
     "output_type": "stream",
     "text": [
      "BarnesHut Approximation  took  0.03  seconds\n",
      "Repulsion forces  took  0.15  seconds\n",
      "Gravitational forces  took  0.00  seconds\n",
      "Attraction forces  took  0.01  seconds\n",
      "AdjustSpeedAndApplyForces step  took  0.01  seconds\n"
     ]
    },
    {
     "name": "stderr",
     "output_type": "stream",
     "text": [
      "100%|████████████████████████████████████████| 100/100 [00:00<00:00, 588.06it/s]\n"
     ]
    },
    {
     "name": "stdout",
     "output_type": "stream",
     "text": [
      "BarnesHut Approximation  took  0.03  seconds\n",
      "Repulsion forces  took  0.12  seconds\n",
      "Gravitational forces  took  0.00  seconds\n",
      "Attraction forces  took  0.01  seconds\n",
      "AdjustSpeedAndApplyForces step  took  0.01  seconds\n"
     ]
    },
    {
     "name": "stderr",
     "output_type": "stream",
     "text": [
      "100%|████████████████████████████████████████| 100/100 [00:00<00:00, 507.78it/s]\n"
     ]
    },
    {
     "name": "stdout",
     "output_type": "stream",
     "text": [
      "BarnesHut Approximation  took  0.03  seconds\n",
      "Repulsion forces  took  0.14  seconds\n",
      "Gravitational forces  took  0.00  seconds\n",
      "Attraction forces  took  0.01  seconds\n",
      "AdjustSpeedAndApplyForces step  took  0.01  seconds\n"
     ]
    },
    {
     "name": "stderr",
     "output_type": "stream",
     "text": [
      "100%|████████████████████████████████████████| 100/100 [00:00<00:00, 483.31it/s]\n"
     ]
    },
    {
     "name": "stdout",
     "output_type": "stream",
     "text": [
      "BarnesHut Approximation  took  0.03  seconds\n",
      "Repulsion forces  took  0.15  seconds\n",
      "Gravitational forces  took  0.00  seconds\n",
      "Attraction forces  took  0.01  seconds\n",
      "AdjustSpeedAndApplyForces step  took  0.01  seconds\n",
      "Finished with layout..\n",
      "-------------------- \n",
      " Network splitting in progress \n",
      " --------------------\n"
     ]
    },
    {
     "name": "stderr",
     "output_type": "stream",
     "text": [
      "100%|████████████████████████████████████████| 100/100 [00:00<00:00, 250.17it/s]\n"
     ]
    },
    {
     "name": "stdout",
     "output_type": "stream",
     "text": [
      "BarnesHut Approximation  took  0.05  seconds\n",
      "Repulsion forces  took  0.31  seconds\n",
      "Gravitational forces  took  0.01  seconds\n",
      "Attraction forces  took  0.02  seconds\n",
      "AdjustSpeedAndApplyForces step  took  0.01  seconds\n"
     ]
    },
    {
     "name": "stderr",
     "output_type": "stream",
     "text": [
      "100%|████████████████████████████████████████| 100/100 [00:00<00:00, 246.95it/s]\n"
     ]
    },
    {
     "name": "stdout",
     "output_type": "stream",
     "text": [
      "BarnesHut Approximation  took  0.05  seconds\n",
      "Repulsion forces  took  0.32  seconds\n",
      "Gravitational forces  took  0.01  seconds\n",
      "Attraction forces  took  0.02  seconds\n",
      "AdjustSpeedAndApplyForces step  took  0.02  seconds\n"
     ]
    },
    {
     "name": "stderr",
     "output_type": "stream",
     "text": [
      "100%|████████████████████████████████████████| 100/100 [00:00<00:00, 274.73it/s]\n"
     ]
    },
    {
     "name": "stdout",
     "output_type": "stream",
     "text": [
      "BarnesHut Approximation  took  0.05  seconds\n",
      "Repulsion forces  took  0.27  seconds\n",
      "Gravitational forces  took  0.01  seconds\n",
      "Attraction forces  took  0.02  seconds\n",
      "AdjustSpeedAndApplyForces step  took  0.02  seconds\n"
     ]
    },
    {
     "name": "stderr",
     "output_type": "stream",
     "text": [
      "100%|████████████████████████████████████████| 100/100 [00:00<00:00, 244.29it/s]\n"
     ]
    },
    {
     "name": "stdout",
     "output_type": "stream",
     "text": [
      "BarnesHut Approximation  took  0.05  seconds\n",
      "Repulsion forces  took  0.32  seconds\n",
      "Gravitational forces  took  0.01  seconds\n",
      "Attraction forces  took  0.02  seconds\n",
      "AdjustSpeedAndApplyForces step  took  0.02  seconds\n"
     ]
    },
    {
     "name": "stderr",
     "output_type": "stream",
     "text": [
      "100%|████████████████████████████████████████| 100/100 [00:00<00:00, 242.25it/s]\n"
     ]
    },
    {
     "name": "stdout",
     "output_type": "stream",
     "text": [
      "BarnesHut Approximation  took  0.05  seconds\n",
      "Repulsion forces  took  0.32  seconds\n",
      "Gravitational forces  took  0.01  seconds\n",
      "Attraction forces  took  0.02  seconds\n",
      "AdjustSpeedAndApplyForces step  took  0.01  seconds\n"
     ]
    },
    {
     "name": "stderr",
     "output_type": "stream",
     "text": [
      "100%|████████████████████████████████████████| 100/100 [00:00<00:00, 304.86it/s]\n"
     ]
    },
    {
     "name": "stdout",
     "output_type": "stream",
     "text": [
      "BarnesHut Approximation  took  0.05  seconds\n",
      "Repulsion forces  took  0.23  seconds\n",
      "Gravitational forces  took  0.01  seconds\n",
      "Attraction forces  took  0.02  seconds\n",
      "AdjustSpeedAndApplyForces step  took  0.02  seconds\n"
     ]
    },
    {
     "name": "stderr",
     "output_type": "stream",
     "text": [
      "100%|████████████████████████████████████████| 100/100 [00:00<00:00, 248.60it/s]\n"
     ]
    },
    {
     "name": "stdout",
     "output_type": "stream",
     "text": [
      "BarnesHut Approximation  took  0.05  seconds\n",
      "Repulsion forces  took  0.31  seconds\n",
      "Gravitational forces  took  0.01  seconds\n",
      "Attraction forces  took  0.02  seconds\n",
      "AdjustSpeedAndApplyForces step  took  0.01  seconds\n",
      "Finished with layout..\n"
     ]
    },
    {
     "data": {
      "image/png": "[encoded data removed]",
      "text/plain": [
       "<Figure size 864x864 with 1 Axes>"
      ]
     },
     "metadata": {},
     "output_type": "display_data"
    },
    {
     "data": {
      "image/png": "[encoded data removed]",
      "text/plain": [
       "<Figure size 864x864 with 1 Axes>"
      ]
     },
     "metadata": {},
     "output_type": "display_data"
    },
    {
     "name": "stdout",
     "output_type": "stream",
     "text": [
      "-------------------- \n",
      " Network splitting in progress \n",
      " --------------------\n"
     ]
    },
    {
     "name": "stderr",
     "output_type": "stream",
     "text": [
      "100%|████████████████████████████████████████| 100/100 [00:00<00:00, 255.51it/s]\n"
     ]
    },
    {
     "name": "stdout",
     "output_type": "stream",
     "text": [
      "BarnesHut Approximation  took  0.05  seconds\n",
      "Repulsion forces  took  0.30  seconds\n",
      "Gravitational forces  took  0.01  seconds\n",
      "Attraction forces  took  0.02  seconds\n",
      "AdjustSpeedAndApplyForces step  took  0.02  seconds\n"
     ]
    },
    {
     "name": "stderr",
     "output_type": "stream",
     "text": [
      "100%|████████████████████████████████████████| 100/100 [00:00<00:00, 231.30it/s]\n"
     ]
    },
    {
     "name": "stdout",
     "output_type": "stream",
     "text": [
      "BarnesHut Approximation  took  0.05  seconds\n",
      "Repulsion forces  took  0.34  seconds\n",
      "Gravitational forces  took  0.01  seconds\n",
      "Attraction forces  took  0.02  seconds\n",
      "AdjustSpeedAndApplyForces step  took  0.01  seconds\n"
     ]
    },
    {
     "name": "stderr",
     "output_type": "stream",
     "text": [
      "100%|████████████████████████████████████████| 100/100 [00:00<00:00, 252.13it/s]\n"
     ]
    },
    {
     "name": "stdout",
     "output_type": "stream",
     "text": [
      "BarnesHut Approximation  took  0.05  seconds\n",
      "Repulsion forces  took  0.31  seconds\n",
      "Gravitational forces  took  0.01  seconds\n",
      "Attraction forces  took  0.02  seconds\n",
      "AdjustSpeedAndApplyForces step  took  0.02  seconds\n"
     ]
    },
    {
     "name": "stderr",
     "output_type": "stream",
     "text": [
      "100%|████████████████████████████████████████| 100/100 [00:00<00:00, 275.11it/s]\n"
     ]
    },
    {
     "name": "stdout",
     "output_type": "stream",
     "text": [
      "BarnesHut Approximation  took  0.05  seconds\n",
      "Repulsion forces  took  0.27  seconds\n",
      "Gravitational forces  took  0.01  seconds\n",
      "Attraction forces  took  0.02  seconds\n",
      "AdjustSpeedAndApplyForces step  took  0.02  seconds\n"
     ]
    },
    {
     "name": "stderr",
     "output_type": "stream",
     "text": [
      "100%|████████████████████████████████████████| 100/100 [00:00<00:00, 242.86it/s]\n"
     ]
    },
    {
     "name": "stdout",
     "output_type": "stream",
     "text": [
      "BarnesHut Approximation  took  0.05  seconds\n",
      "Repulsion forces  took  0.31  seconds\n",
      "Gravitational forces  took  0.01  seconds\n",
      "Attraction forces  took  0.02  seconds\n",
      "AdjustSpeedAndApplyForces step  took  0.02  seconds\n"
     ]
    },
    {
     "name": "stderr",
     "output_type": "stream",
     "text": [
      "100%|████████████████████████████████████████| 100/100 [00:00<00:00, 253.52it/s]\n"
     ]
    },
    {
     "name": "stdout",
     "output_type": "stream",
     "text": [
      "BarnesHut Approximation  took  0.05  seconds\n",
      "Repulsion forces  took  0.30  seconds\n",
      "Gravitational forces  took  0.01  seconds\n",
      "Attraction forces  took  0.02  seconds\n",
      "AdjustSpeedAndApplyForces step  took  0.01  seconds\n"
     ]
    },
    {
     "name": "stderr",
     "output_type": "stream",
     "text": [
      "100%|████████████████████████████████████████| 100/100 [00:00<00:00, 269.56it/s]\n"
     ]
    },
    {
     "name": "stdout",
     "output_type": "stream",
     "text": [
      "BarnesHut Approximation  took  0.05  seconds\n",
      "Repulsion forces  took  0.27  seconds\n",
      "Gravitational forces  took  0.01  seconds\n",
      "Attraction forces  took  0.02  seconds\n",
      "AdjustSpeedAndApplyForces step  took  0.01  seconds\n",
      "Finished with layout..\n",
      "-------------------- \n",
      " Network splitting in progress \n",
      " --------------------\n"
     ]
    },
    {
     "name": "stderr",
     "output_type": "stream",
     "text": [
      "100%|████████████████████████████████████████| 100/100 [00:00<00:00, 284.87it/s]\n"
     ]
    },
    {
     "name": "stdout",
     "output_type": "stream",
     "text": [
      "BarnesHut Approximation  took  0.05  seconds\n",
      "Repulsion forces  took  0.26  seconds\n",
      "Gravitational forces  took  0.01  seconds\n",
      "Attraction forces  took  0.02  seconds\n",
      "AdjustSpeedAndApplyForces step  took  0.02  seconds\n"
     ]
    },
    {
     "name": "stderr",
     "output_type": "stream",
     "text": [
      "100%|████████████████████████████████████████| 100/100 [00:00<00:00, 243.30it/s]\n"
     ]
    },
    {
     "name": "stdout",
     "output_type": "stream",
     "text": [
      "BarnesHut Approximation  took  0.05  seconds\n",
      "Repulsion forces  took  0.32  seconds\n",
      "Gravitational forces  took  0.01  seconds\n",
      "Attraction forces  took  0.02  seconds\n",
      "AdjustSpeedAndApplyForces step  took  0.02  seconds\n"
     ]
    },
    {
     "name": "stderr",
     "output_type": "stream",
     "text": [
      "100%|████████████████████████████████████████| 100/100 [00:00<00:00, 242.82it/s]\n"
     ]
    },
    {
     "name": "stdout",
     "output_type": "stream",
     "text": [
      "BarnesHut Approximation  took  0.05  seconds\n",
      "Repulsion forces  took  0.32  seconds\n",
      "Gravitational forces  took  0.01  seconds\n",
      "Attraction forces  took  0.02  seconds\n",
      "AdjustSpeedAndApplyForces step  took  0.02  seconds\n"
     ]
    },
    {
     "name": "stderr",
     "output_type": "stream",
     "text": [
      "100%|████████████████████████████████████████| 100/100 [00:00<00:00, 266.14it/s]\n"
     ]
    },
    {
     "name": "stdout",
     "output_type": "stream",
     "text": [
      "BarnesHut Approximation  took  0.05  seconds\n",
      "Repulsion forces  took  0.28  seconds\n",
      "Gravitational forces  took  0.01  seconds\n",
      "Attraction forces  took  0.02  seconds\n",
      "AdjustSpeedAndApplyForces step  took  0.02  seconds\n"
     ]
    },
    {
     "name": "stderr",
     "output_type": "stream",
     "text": [
      "100%|████████████████████████████████████████| 100/100 [00:00<00:00, 243.46it/s]\n"
     ]
    },
    {
     "name": "stdout",
     "output_type": "stream",
     "text": [
      "BarnesHut Approximation  took  0.05  seconds\n",
      "Repulsion forces  took  0.32  seconds\n",
      "Gravitational forces  took  0.01  seconds\n",
      "Attraction forces  took  0.02  seconds\n",
      "AdjustSpeedAndApplyForces step  took  0.01  seconds\n"
     ]
    },
    {
     "name": "stderr",
     "output_type": "stream",
     "text": [
      "100%|████████████████████████████████████████| 100/100 [00:00<00:00, 261.56it/s]\n"
     ]
    },
    {
     "name": "stdout",
     "output_type": "stream",
     "text": [
      "BarnesHut Approximation  took  0.05  seconds\n",
      "Repulsion forces  took  0.29  seconds\n",
      "Gravitational forces  took  0.01  seconds\n",
      "Attraction forces  took  0.02  seconds\n",
      "AdjustSpeedAndApplyForces step  took  0.01  seconds\n"
     ]
    },
    {
     "name": "stderr",
     "output_type": "stream",
     "text": [
      "100%|████████████████████████████████████████| 100/100 [00:00<00:00, 257.87it/s]\n"
     ]
    },
    {
     "name": "stdout",
     "output_type": "stream",
     "text": [
      "BarnesHut Approximation  took  0.05  seconds\n",
      "Repulsion forces  took  0.29  seconds\n",
      "Gravitational forces  took  0.01  seconds\n",
      "Attraction forces  took  0.02  seconds\n",
      "AdjustSpeedAndApplyForces step  took  0.02  seconds\n",
      "Finished with layout..\n"
     ]
    },
    {
     "data": {
      "image/png": "[encoded data removed]",
      "text/plain": [
       "<Figure size 864x864 with 1 Axes>"
      ]
     },
     "metadata": {},
     "output_type": "display_data"
    },
    {
     "data": {
      "image/png": "[encoded data removed]",
      "text/plain": [
       "<Figure size 864x864 with 1 Axes>"
      ]
     },
     "metadata": {},
     "output_type": "display_data"
    }
   ],
   "source": [
    "level = 'low'\n",
    "scl = 10\n",
    "for key, value in shapeup[level]['20001'].items():\n",
    "    network_labels, graphs, multilinks = value.get_layers()\n",
    "    G = graphs[0]\n",
    "    H = G.copy()\n",
    "    nodesize = {node:val*25 for (node, val) in H.degree()}\n",
    "    nsz = {}\n",
    "    for i, (node, value) in enumerate(G.degree()):\n",
    "        if value < 5:\n",
    "            H.remove_node(node) \n",
    "\n",
    "    edgs = []\n",
    "    for edge in H.edges():\n",
    "        edgs.append(edge[0][0])\n",
    "        edgs.append(edge[1][0])\n",
    "    \n",
    "    h = H.copy()\n",
    "    for x in list(H.nodes()):\n",
    "        if x[0] in edgs:\n",
    "#             print('here!')\n",
    "            continue\n",
    "        else:\n",
    "            h.remove_node(x) \n",
    "    # NODE SIZE        \n",
    "    for n, v in h.nodes(data = True):\n",
    "        nsz[n] = nodesize[n]\n",
    "    NODESIZE = list(nsz.values())\n",
    "    NODESIZE2 = [i * scl for i in NODESIZE]\n",
    "    node_array = np.array(NODESIZE2)\n",
    "    \n",
    "    \n",
    "    fig, ax = plt.subplots(figsize=(12, 12))\n",
    "        \n",
    "    # EDGE SIZE\n",
    "    edgewidth = []\n",
    "    for key1,key2, value in h.edges(data = True):\n",
    "        edgewidth.append(float(value['weight']))\n",
    "    edgewidth2 = [i * scl for i in edgewidth]\n",
    "    edge_array = np.array(edgewidth2)\n",
    "        \n",
    "    \n",
    "    try:\n",
    "        nm = X[level]['20001']['Pu'][int(key)]['node_maps']\n",
    "        keep = {}\n",
    "        for x,y in h.nodes(data = True):\n",
    "            for k, v in nm.items():\n",
    "                if int(v) == int(x[0]):\n",
    "                    keep[k] = v\n",
    "        ts = X[level]['20001']['Pu'][int(key)]['ts']\n",
    "        test_dict = {}\n",
    "        new = {}\n",
    "        new_text = {}\n",
    "        pos_edit = [.025,-.025]\n",
    "\n",
    "        for i, time in keep.items():\n",
    "            x = time\n",
    "            y = ts[i]\n",
    "            test_dict.update({('%s'%x, 'Pu'):[x,y]})\n",
    "            new.update({('%s'%x, 'Pu'):[x-pos_edit[0],y+pos_edit[0]]})\n",
    "            new_text.update({('%s'%x, 'Pu'):'TR %s'%x})\n",
    "            pos_edit.reverse()\n",
    "        try:\n",
    "            edge_min = min(edge_array)\n",
    "            edge_max = max(edge_array)\n",
    "            edge_cmap = plt.cm.plasma\n",
    "            edge_colors = list(range(round(edge_min)-1, round(edge_max)+1))\n",
    "#             pdb.set_trace()\n",
    "\n",
    "            node_min = min(node_array)\n",
    "            node_max = max(node_array)\n",
    "            node_cmap = plt.cm.spring\n",
    "            node_colors = list(range(round(node_min)-1, round(node_max)+1))\n",
    "#             pdb.set_trace()\n",
    "\n",
    "            \n",
    "            # Edges\n",
    "            edges = nx.draw_networkx_edges(h, test_dict, alpha=0.3, width=edgewidth2, edge_color=edgewidth2,\n",
    "                                   edge_cmap = edge_cmap, edge_vmin = edge_min, edge_vmax = edge_max)\n",
    "            # Nodes\n",
    "            nodes = nx.draw_networkx_nodes(h, test_dict, node_size=NODESIZE2, \n",
    "                                   node_color=NODESIZE2, \n",
    "                                   cmap = node_cmap, \n",
    "                                   vmin = node_min, \n",
    "                                   vmax = node_max,\n",
    "                                   alpha=0.9)\n",
    "            # Labels\n",
    "            nx.draw_networkx_labels(h, pos = new, labels = new_text, font_size = 25, font_color = 'black')\n",
    "            ax.margins(0.1, 0.05)\n",
    "            \n",
    "            fig.tight_layout()\n",
    "            plt.axis(\"off\")\n",
    "            saver = os.path.join(savepath,'%s_%s_%s.png')%('20001',level, key)\n",
    "            plt.savefig('%s'%saver,  transparent=True)\n",
    "            plt.show()\n",
    "    #         pdb.set_trace()\n",
    "        except ValueError:\n",
    "            continue\n",
    "        \n",
    "    except KeyError:\n",
    "        continue"
   ]
  },
  {
   "cell_type": "code",
   "execution_count": null,
   "id": "2a14579c",
   "metadata": {},
   "outputs": [],
   "source": [
    "from py3plex.visualization.multilayer import draw_multiedges, draw_multilayer_default, hairball_plot, plt\n",
    "from py3plex.visualization import bezier"
   ]
  },
  {
   "cell_type": "code",
   "execution_count": null,
   "id": "a38de816",
   "metadata": {},
   "outputs": [],
   "source": [
    "import matplotlib.pyplot as plt"
   ]
  },
  {
   "cell_type": "code",
   "execution_count": null,
   "id": "ff4e69c4",
   "metadata": {},
   "outputs": [],
   "source": [
    "import collections"
   ]
  },
  {
   "cell_type": "code",
   "execution_count": null,
   "id": "c3b998bf",
   "metadata": {},
   "outputs": [],
   "source": [
    "od = collections.OrderedDict(sorted(shapeup['high']['20001'].items()))"
   ]
  },
  {
   "cell_type": "code",
   "execution_count": null,
   "id": "b7cf1f30",
   "metadata": {},
   "outputs": [],
   "source": [
    "od"
   ]
  },
  {
   "cell_type": "code",
   "execution_count": null,
   "id": "8b86dbfa",
   "metadata": {},
   "outputs": [],
   "source": [
    "shapeup['high']['20001'].keys()"
   ]
  },
  {
   "cell_type": "code",
   "execution_count": null,
   "id": "31db1bad",
   "metadata": {},
   "outputs": [],
   "source": [
    "G"
   ]
  },
  {
   "cell_type": "code",
   "execution_count": null,
   "id": "06d43d65",
   "metadata": {},
   "outputs": [],
   "source": [
    "colors = ['EB3AD9','#E95F69','#A485F7','#E95F69','#5CC894','#56BEEC']\n"
   ]
  },
  {
   "cell_type": "markdown",
   "id": "299bc899",
   "metadata": {},
   "source": [
    "'#56BEEC','#E95F69','#E95F69','#5CC894','#A485F7','#55BA36','EB3AD9'"
   ]
  },
  {
   "cell_type": "code",
   "execution_count": null,
   "id": "e43031dd",
   "metadata": {},
   "outputs": [],
   "source": [
    "def hex_to_RGB(hex):\n",
    "    ''' \"#FFFFFF\" -> [255,255,255] '''\n",
    "    # Pass 16 to the integer function for change of base\n",
    "    return [int(hex[i:i + 2], 16) for i in range(1, 6, 2)]\n"
   ]
  },
  {
   "cell_type": "code",
   "execution_count": null,
   "id": "fee4d9a1",
   "metadata": {},
   "outputs": [],
   "source": [
    "colors2 =[]\n",
    "for color in colors:\n",
    "    colors2.append(hex_to_RGB(color))"
   ]
  },
  {
   "cell_type": "code",
   "execution_count": null,
   "id": "74ec5220",
   "metadata": {},
   "outputs": [],
   "source": [
    "colors2"
   ]
  },
  {
   "cell_type": "code",
   "execution_count": null,
   "id": "26d82faf",
   "metadata": {},
   "outputs": [],
   "source": [
    "Circle((1 + 1,\n",
    "                    1 + 1),\n",
    "                   10,\n",
    "                   color='#56BEEC',\n",
    "                   alpha=0)\n",
    "plt.show()"
   ]
  },
  {
   "cell_type": "code",
   "execution_count": null,
   "id": "95ac33b1",
   "metadata": {},
   "outputs": [],
   "source": [
    "import numpy as np\n",
    "import networkx as nx\n",
    "try:\n",
    "    from matplotlib.patches import Rectangle\n",
    "    from matplotlib.patches import Circle\n",
    "except:\n",
    "    pass\n",
    "\n",
    "import random\n",
    "\n",
    "import matplotlib.pyplot as plt\n",
    "\n",
    "from py3plex.visualization import colors  # those are color ranges\n",
    "from py3plex.visualization import bezier  # those are bezier curves\n",
    "from py3plex.visualization import polyfit\n",
    "from py3plex.visualization.layout_algorithms import compute_force_directed_layout, compute_random_layout\n",
    "from py3plex.visualization import drawing_machinery\n",
    "\n",
    "try:\n",
    "    import plotly.graph_objects as go\n",
    "    plotly_import = True\n",
    "    \n",
    "except:\n",
    "    plotly_import = False\n",
    "def test_draw_multilayer_default(network_list,\n",
    "                            display=True,\n",
    "                            node_size=10,\n",
    "                            alphalevel=0.13,\n",
    "                            rectanglex=1,\n",
    "                            rectangley=1,\n",
    "                            background_shape=\"circle\",\n",
    "                            background_color=\"rainbow\",\n",
    "                            networks_color=\"rainbow\",\n",
    "                            labels=False,\n",
    "                            arrowsize=0.5,\n",
    "                            label_position=1,\n",
    "                            verbose=False,\n",
    "                            remove_isolated_nodes=False,\n",
    "                            axis=None,\n",
    "                            edge_size=1,\n",
    "                            node_labels=False,\n",
    "                            node_font_size=5,\n",
    "                            scale_by_size=False):\n",
    "\n",
    "    \n",
    "    \"\"\"Core multilayer drawing method\n",
    "    Args:\n",
    "    network_list (list): a list of networks\n",
    "    display (bool): Whether to display or not (directly)\n",
    "    node_size (int): size of the nodes\n",
    "    alphalevel (float): transparency level\n",
    "    rectanglex (float): size of rectangles (background) (horizontal part)\n",
    "    rectangley (float): size of vertical parts of rectangles\n",
    "    background_shape (string): Background shape, either circle or rectangle\n",
    "    background_color (string): Background color\n",
    "    networks_color (string): Color of individual networks\n",
    "    labels (bool): Display labels?\n",
    "    arrowsize (float): Sizes of individual arrows\n",
    "    label_position (int): position of labels  (diagonal right)\n",
    "    verbose (bool): Verbose printout?\n",
    "    remove_isolated_nodes (bool): Remove isolated nodes?\n",
    "    axis (bools): axis are displayed\n",
    "    edge_size (float): Size of edges\n",
    "    node_labels (bool): Display node labels?\n",
    "    node_font_size (int): Size of the font\n",
    "    scale_by_size (bool): Scale nodes according to their degrees?\n",
    "    Returns:\n",
    "        None\n",
    "    \"\"\"\n",
    "#    main_figure = plt.figure()\n",
    "#    shape_subplot = main_figure.add_subplot(111)\n",
    "\n",
    "    shape_subplot = plt.gca()\n",
    "    facecolor_list_background = ['#EB3AD9','#E95F69','#A485F7','#E95F69','#5CC894','#56BEEC']*20\n",
    "    alphalevel = 0\n",
    "       \n",
    "\n",
    "    \n",
    "    facecolor_list = ['#EB3AD9','#E95F69','#A485F7','#E95F69','#5CC894','#56BEEC']*20\n",
    "        \n",
    "\n",
    "    start_location_network = 0\n",
    "    start_location_background = 0\n",
    "    color = 0\n",
    "    shadow_size = 0.5\n",
    "    circle_size = 1.05\n",
    "\n",
    "    for network in network_list:\n",
    "        if remove_isolated_nodes:\n",
    "            isolates = list(nx.isolates(network))\n",
    "            network = network.copy()\n",
    "            network.remove_nodes_from(isolates)\n",
    "\n",
    "        if verbose:\n",
    "            print(nx.info(network))\n",
    "        degrees = dict(nx.degree(nx.Graph(network)))\n",
    "        cntr = 0\n",
    "        cntr_all = 0\n",
    "        no_position = []\n",
    "        all_positions = []\n",
    "        for node in network.nodes(data=True):\n",
    "            if 'pos' not in node[1]:\n",
    "                no_position.append(node[0])\n",
    "                cntr += 1\n",
    "            else:\n",
    "                all_positions.append(node[1]['pos'])\n",
    "                cntr_all += 1\n",
    "\n",
    "        if len(no_position) > 0:\n",
    "            network = network.copy()\n",
    "            network.remove_nodes_from(no_position)\n",
    "\n",
    "        positions = nx.get_node_attributes(network, 'pos')\n",
    "        cntr = 0\n",
    "\n",
    "        for node, position in positions.items():\n",
    "            position += start_location_network\n",
    "\n",
    "        # this is the default delay for matplotlib canvas\n",
    "        if labels != False:\n",
    "            try:\n",
    "                plt.text(start_location_network + label_position,\n",
    "                                   start_location_network - label_position,\n",
    "                                   labels[color])\n",
    "            except Exception as es:                \n",
    "                print(es)\n",
    "        \n",
    "        print(facecolor_list_background[color])\n",
    "\n",
    "        shape_subplot.add_patch(\n",
    "            Circle((start_location_background + shadow_size,\n",
    "                    start_location_background + shadow_size),\n",
    "                   circle_size,\n",
    "                   color=facecolor_list_background[color],\n",
    "                   alpha=alphalevel))\n",
    "        color = color+1\n",
    "        \n",
    "\n",
    "        start_location_network += 1.5\n",
    "        start_location_background += 1.5\n",
    "        # if len(network.nodes()) > 10000:\n",
    "        #     correction=10\n",
    "        # else:\n",
    "        #     correction = 1\n",
    "\n",
    "        if scale_by_size:\n",
    "            node_sizes = [vx * node_size for vx in degrees.values()]\n",
    "        else:\n",
    "            node_sizes = [node_size for vx in degrees.values()]\n",
    "\n",
    "        if np.sum(node_sizes) == 0:\n",
    "            node_sizes = [node_size for vx in degrees.values()]\n",
    "\n",
    "\n",
    "\n",
    "        drawing_machinery.draw(network,\n",
    "                               positions,\n",
    "                               node_color='black',\n",
    "                               with_labels=node_labels,\n",
    "                               edge_size=edge_size,\n",
    "                               node_size=node_sizes,\n",
    "                               arrowsize=arrowsize,\n",
    "                               ax=axis,\n",
    "                               font_size=node_font_size)\n",
    "\n",
    "\n",
    "    if display == True:\n",
    "        plt.show()"
   ]
  },
  {
   "cell_type": "code",
   "execution_count": null,
   "id": "1184ac89",
   "metadata": {},
   "outputs": [],
   "source": [
    "def test_draw_multiedges(network_list,\n",
    "                    multi_edge_tuple,\n",
    "                    input_type=\"nodes\",\n",
    "                    linepoints=\"-.\",\n",
    "                    alphachannel=0.3,\n",
    "                    linecolor=\"black\",\n",
    "                    curve_height=1,\n",
    "                    style=\"curve2_bezier\",\n",
    "                    linewidth=1,\n",
    "                    invert=False,\n",
    "                    linmod=\"both\",\n",
    "                    resolution=0.001):\n",
    "    # indices are correct network positions\n",
    "#    main_figure = plt.figure()\n",
    "#    shape_subplot = main_figure.add_subplot(111)\n",
    "    \n",
    "    if input_type == \"nodes\":\n",
    "\n",
    "        network_positions = [\n",
    "            nx.get_node_attributes(network, 'pos') for network in network_list\n",
    "        ]\n",
    "\n",
    "        global_positions = {}\n",
    "        for position in network_positions:\n",
    "            for k, v in position.items():\n",
    "                global_positions[k] = v\n",
    "\n",
    "        for pair in multi_edge_tuple:\n",
    "            try:\n",
    "\n",
    "                coordinates_node_first = global_positions[pair[0]]\n",
    "                coordinates_node_second = global_positions[pair[1]]\n",
    "                color = int(float(pair[2]['weight']))\n",
    "\n",
    "                p1 = [coordinates_node_first[0], coordinates_node_second[0]]\n",
    "                #[coordinates_node_first[0], coordinates_node_first[1]]\n",
    "                p2 = [coordinates_node_first[1],\n",
    "                      coordinates_node_second[1]]  # []\n",
    "\n",
    "                if style == \"line\":\n",
    "\n",
    "                    plt.plot(p1,\n",
    "                             p2,\n",
    "                             linestyle=linepoints,\n",
    "                             lw=1,\n",
    "                             alpha=alphachannel,\n",
    "                             color=linecolor)\n",
    "\n",
    "                elif style == \"curve2_bezier\":\n",
    "\n",
    "                    x, y = bezier.draw_bezier(len(network_list),\n",
    "                                              p1,\n",
    "                                              p2,\n",
    "                                              path_height=curve_height,\n",
    "                                              inversion=invert,\n",
    "                                              linemode=linmod,\n",
    "                                              resolution=resolution)\n",
    "                    if int(float(pair[2]['weight'])) >= 7:\n",
    "                        c = test['hex'][color]\n",
    "\n",
    "                        plt.plot(x,\n",
    "                                 y,\n",
    "                                 linestyle=linepoints,\n",
    "                                 lw=linewidth,\n",
    "                                 alpha=alphachannel,\n",
    "                                 color=c)\n",
    "\n",
    "                elif style == \"curve3_bezier\":\n",
    "\n",
    "                    x, y = bezier.draw_bezier(len(network_list),\n",
    "                                              p1,\n",
    "                                              p2,\n",
    "                                              mode=\"cubic\",\n",
    "                                              resolution=resolution)\n",
    "\n",
    "                elif style == \"curve3_fit\":\n",
    "\n",
    "                    x, y = polyfit.draw_order3(len(network_list), p1, p2)\n",
    "\n",
    "                    plt.plot(x, y)\n",
    "\n",
    "                elif style == \"piramidal\":\n",
    "\n",
    "                    x, y = polyfit.draw_piramidal(len(network_list), p1, p2)\n",
    "                    plt.plot(x,\n",
    "                             y,\n",
    "                             linestyle=linepoints,\n",
    "                             lw=1,\n",
    "                             alpha=alphachannel,\n",
    "                             color=linecolor)\n",
    "\n",
    "                else:\n",
    "                    pass\n",
    "\n",
    "            except Exception as err:\n",
    "                pass\n"
   ]
  },
  {
   "cell_type": "code",
   "execution_count": null,
   "id": "72653708",
   "metadata": {},
   "outputs": [],
   "source": [
    "def test_visualize_network(self,\n",
    "                          sub = False,\n",
    "                          ROI = False,\n",
    "                            i = False,\n",
    "                          style=\"diagonal\",\n",
    "                          parameters_layers=None,\n",
    "                          parameters_multiedges=None,\n",
    "                          show=False,\n",
    "                          compute_layouts=\"force\",\n",
    "                          layouts_parameters=None,\n",
    "                          verbose=True,\n",
    "                          orientation=\"upper\",\n",
    "                          resolution=0.01,\n",
    "                          axis=None,\n",
    "                          fig=None,\n",
    "                          no_labels=False,\n",
    "                          linewidth=1.7,\n",
    "                          alphachannel=0.3,\n",
    "                          linepoints=\"-.\",\n",
    "                          legend=False):\n",
    "#         if server_mode:\n",
    "#             return 0\n",
    "        \"\"\" \n",
    "        network visualization.\n",
    "        Either use diagonal or hairball style. Additional parameters are added with parameters_layers and parameters_edges etc.\n",
    "        \"\"\"\n",
    "\n",
    "        if style == \"diagonal\":\n",
    "            network_labels, graphs, multilinks = self.get_layers(style)\n",
    "            if no_labels:\n",
    "                network_labels = None\n",
    "            if parameters_layers is None:\n",
    "                if axis:\n",
    "                    axis = draw_multilayer_default(graphs,\n",
    "                                                   display=False,\n",
    "                                                   background_shape=\"circle\",\n",
    "                                                   labels=network_labels,\n",
    "                                                   node_size=3,\n",
    "                                                   verbose=verbose)\n",
    "                else:\n",
    "                    ax = test_draw_multilayer_default(graphs,\n",
    "                                                 display=False,\n",
    "                                                 background_shape=\"circle\",\n",
    "                                                 labels=network_labels,\n",
    "                                                 node_size=3,\n",
    "                                                 verbose=verbose)\n",
    "            else:\n",
    "                if axis:\n",
    "                    axis = draw_multilayer_default(graphs, **parameters_layers)\n",
    "                else:\n",
    "                    ax = test_draw_multilayer_default(graphs, **parameters_layers)\n",
    "\n",
    "            if parameters_multiedges is None:\n",
    "                enum = 1\n",
    "                for edge_type, edges in multilinks.items():\n",
    "                    if edge_type == \"coupling\":\n",
    "                        if axis:\n",
    "                            axis = draw_multiedges(graphs,\n",
    "                                                   edges,\n",
    "                                                   alphachannel=alphachannel,\n",
    "                                                   linepoints=linepoints,\n",
    "                                                   linecolor=\"red\",\n",
    "                                                   curve_height=2,\n",
    "                                                   linmod=\"bottom\",\n",
    "                                                   linewidth=linewidth,\n",
    "                                                   resolution=resolution)\n",
    "                        else:\n",
    "                            ax = draw_multiedges(graphs,\n",
    "                                                 edges,\n",
    "                                                 alphachannel=alphachannel,\n",
    "                                                 linepoints=linepoints,\n",
    "                                                 linecolor=\"red\",\n",
    "                                                 curve_height=2,\n",
    "                                                 linmod=\"bottom\",\n",
    "                                                 linewidth=linewidth,\n",
    "                                                 resolution=resolution)\n",
    "                    else:\n",
    "                        if axis:\n",
    "                            axis = draw_multiedges(graphs,\n",
    "                                                   edges,\n",
    "                                                   alphachannel=alphachannel,\n",
    "                                                   linepoints=\"--\",\n",
    "                                                   linecolor=\"black\",\n",
    "                                                   curve_height=2,\n",
    "                                                   linmod=orientation,\n",
    "                                                   linewidth=linewidth,\n",
    "                                                   resolution=resolution)\n",
    "                        else:\n",
    "                            ax = test_draw_multiedges(graphs,\n",
    "                                                 edges,\n",
    "                                                 alphachannel=alphachannel,\n",
    "                                                 linepoints=\"--\",\n",
    "                                                 linecolor=\"black\",\n",
    "                                                 curve_height=2,\n",
    "                                                 linmod=orientation,\n",
    "                                                 linewidth=linewidth,\n",
    "                                                 resolution=resolution)\n",
    "                    enum += 1\n",
    "            \n",
    "            else:\n",
    "                enum = 1\n",
    "                for edge_type, edges in multilinks.items():\n",
    "                    if axis:\n",
    "                        axis = draw_multiedges(graphs, edges,\n",
    "                                               **parameters_multiedges)\n",
    "                    else:\n",
    "                        ax = draw_multiedges(graphs, edges,\n",
    "                                             **parameters_multiedges)\n",
    "                    enum += 1\n",
    "            if show:\n",
    "                saver = os.path.join(savepath,'test%s_%s_%s.png'%(sub,ROI,  i))\n",
    "                plt.savefig('%s'%saver,  transparent=True)\n",
    "                plt.show()\n",
    "                \n",
    "\n",
    "            if axis:\n",
    "                return axis\n",
    "                saver = os.path.join(savepath,'test%s_%s_%s.png'%(sub,ROI,  i))\n",
    "                plt.savefig('%s'%saver,  transparent=True)\n",
    "            else:\n",
    "                return ax\n",
    "                saver = os.path.join(savepath,'test%s_%s_%s.png'%(sub, ROI,  i))\n",
    "                plt.savefig('%s'%saver,  transparent=True)\n",
    "\n",
    "        \n",
    "                \n",
    "        else:\n",
    "            raise Exception(\n",
    "                \"Please, specify visualization style using: .style. keyword\")\n"
   ]
  },
  {
   "cell_type": "code",
   "execution_count": null,
   "id": "4c44bf54",
   "metadata": {},
   "outputs": [],
   "source": [
    "od = collections.OrderedDict(sorted(shapeup['low']['20001'].items()))"
   ]
  },
  {
   "cell_type": "code",
   "execution_count": null,
   "id": "a16ab682",
   "metadata": {
    "scrolled": false
   },
   "outputs": [],
   "source": [
    "plt.rcParams['figure.figsize'] = [20, 10]\n",
    "\n",
    "for i, G in od.items():\n",
    "    print(i)\n",
    "    test_visualize_network(G,sub = 'sub-20001',\n",
    "                          ROI = 'low',\n",
    "                            i = i,\n",
    "                          style=\"diagonal\",\n",
    "                          parameters_layers={'scale_by_size':True, \n",
    "                                             'display':True, \n",
    "                                             'labels':network_labels, \n",
    "                                             \"remove_isolated_nodes\":True,\n",
    "                                            \"background_color\":'cust',\n",
    "                            \"networks_color\":'cust'},\n",
    "                          parameters_multiedges=None,\n",
    "                          show=True,\n",
    "                          compute_layouts=\"force\",\n",
    "                          layouts_parameters=None,\n",
    "                          verbose=True,\n",
    "                          orientation=\"upper\",\n",
    "                          resolution=0.01,\n",
    "                          axis=None,\n",
    "                          fig=None,\n",
    "                          no_labels=False,\n",
    "                          linewidth=1.7,\n",
    "                          alphachannel=0.3,\n",
    "                          linepoints=\"-.\",\n",
    "                          legend=False)"
   ]
  },
  {
   "cell_type": "code",
   "execution_count": null,
   "id": "4df3371a",
   "metadata": {},
   "outputs": [],
   "source": [
    "G = graphs[1]"
   ]
  },
  {
   "cell_type": "code",
   "execution_count": null,
   "id": "aee8bd87",
   "metadata": {},
   "outputs": [],
   "source": [
    "G"
   ]
  },
  {
   "cell_type": "code",
   "execution_count": null,
   "id": "7b7e573f",
   "metadata": {},
   "outputs": [],
   "source": [
    "X = onetoughjar(os.path.join(savepath,'tmp','graphs_weight_dist_smz*'))"
   ]
  },
  {
   "cell_type": "code",
   "execution_count": null,
   "id": "f617a90b",
   "metadata": {},
   "outputs": [],
   "source": [
    "G.nodes(data = True)[('2340', 'Ca')]"
   ]
  },
  {
   "cell_type": "code",
   "execution_count": null,
   "id": "c7b9ee96",
   "metadata": {
    "scrolled": false
   },
   "outputs": [],
   "source": [
    "X['low']['20001']['Ca'][8]"
   ]
  },
  {
   "cell_type": "code",
   "execution_count": null,
   "id": "687074ba",
   "metadata": {},
   "outputs": [],
   "source": [
    "X['low']['20001']['Ca'][1].keys()"
   ]
  },
  {
   "cell_type": "code",
   "execution_count": null,
   "id": "0c00138e",
   "metadata": {
    "scrolled": true
   },
   "outputs": [],
   "source": [
    "import matplotlib.pyplot as plt\n",
    "import networkx as nx\n",
    "import networkx.algorithms.approximation as nx_app\n",
    "import math\n",
    "pos = nx.get_node_attributes(G, \"pos\")\n",
    "\n",
    "# Depot should be at (0,0)\n",
    "#pos[0] = (0.5, 0.5)\n",
    "\n",
    "keepX = [0]*len(pos)\n",
    "keepY = [0]*len(pos)\n",
    "keepDist = []\n",
    "for i, (key, value) in enumerate(pos.items()):\n",
    "    print(i)\n",
    "    if i == 0:\n",
    "        keepX[i] = value[0]\n",
    "        keepY[i] = value[1]\n",
    "    else:\n",
    "        keepX[i] = value[0]\n",
    "        keepY[i] = value[1]\n",
    "        dist = math.hypot(keepX[i-1] - keepX[i], keepY[i-1] - keepY[i])\n",
    "        keepDist.append(dist)\n",
    "        H.add_edge(i-1, i, weight=dist)\n",
    "\n",
    "# H = G.copy()\n",
    "\n",
    "pos.keys()"
   ]
  },
  {
   "cell_type": "code",
   "execution_count": null,
   "id": "47d7a120",
   "metadata": {
    "scrolled": true
   },
   "outputs": [],
   "source": [
    "pos"
   ]
  },
  {
   "cell_type": "code",
   "execution_count": null,
   "id": "43b7b84c",
   "metadata": {
    "scrolled": true
   },
   "outputs": [],
   "source": [
    "H.edges(data = True)"
   ]
  },
  {
   "cell_type": "code",
   "execution_count": null,
   "id": "e5f82be5",
   "metadata": {
    "scrolled": true
   },
   "outputs": [],
   "source": [
    "pos"
   ]
  },
  {
   "cell_type": "code",
   "execution_count": null,
   "id": "5e0bf44d",
   "metadata": {},
   "outputs": [],
   "source": [
    "H.nodes(data = True)"
   ]
  },
  {
   "cell_type": "code",
   "execution_count": null,
   "id": "8d216aed",
   "metadata": {
    "scrolled": true
   },
   "outputs": [],
   "source": [
    "rmv = []\n",
    "for node, X in H.nodes(data = True):\n",
    "#     print(len(X['pos']))\n",
    "    try:\n",
    "        if len(X['pos']) < 2:\n",
    "            rmv.append(node)\n",
    "    except KeyError:\n",
    "        rmv.append(node)\n",
    "        "
   ]
  },
  {
   "cell_type": "code",
   "execution_count": null,
   "id": "08b60b42",
   "metadata": {},
   "outputs": [],
   "source": [
    "for node in rmv:\n",
    "    H.remove_node(node)"
   ]
  },
  {
   "cell_type": "code",
   "execution_count": null,
   "id": "1aaeac6e",
   "metadata": {},
   "outputs": [],
   "source": [
    "G.add_node(1,pos=(1,1))"
   ]
  },
  {
   "cell_type": "code",
   "execution_count": null,
   "id": "e2f45d4a",
   "metadata": {},
   "outputs": [],
   "source": [
    "H.nodes(data = True)"
   ]
  },
  {
   "cell_type": "code",
   "execution_count": null,
   "id": "ff1d7440",
   "metadata": {},
   "outputs": [],
   "source": [
    "nx.draw_networkx(\n",
    "    H,\n",
    "    pos,\n",
    "    with_labels=True,\n",
    "    edge_color=\"red\",\n",
    "    node_size=200,\n",
    "    width=3,\n",
    ")"
   ]
  },
  {
   "cell_type": "code",
   "execution_count": null,
   "id": "603ba5fd",
   "metadata": {
    "scrolled": true
   },
   "outputs": [],
   "source": [
    "H.edges(data = True)"
   ]
  },
  {
   "cell_type": "code",
   "execution_count": null,
   "id": "2f6e285d",
   "metadata": {},
   "outputs": [],
   "source": [
    "pos.values()"
   ]
  },
  {
   "cell_type": "code",
   "execution_count": null,
   "id": "c53d36c1",
   "metadata": {},
   "outputs": [],
   "source": [
    "G = nx.random_geometric_graph(20, radius=0.4, seed=3)\n",
    "pos = nx.get_node_attributes(G, \"pos\")"
   ]
  },
  {
   "cell_type": "code",
   "execution_count": null,
   "id": "57ca12f1",
   "metadata": {
    "scrolled": true
   },
   "outputs": [],
   "source": [
    "pos"
   ]
  },
  {
   "cell_type": "code",
   "execution_count": null,
   "id": "5c739ef3",
   "metadata": {
    "scrolled": true
   },
   "outputs": [],
   "source": [
    "for x, y in pos.items():\n",
    "    print(y)"
   ]
  },
  {
   "cell_type": "code",
   "execution_count": null,
   "id": "36019958",
   "metadata": {},
   "outputs": [],
   "source": [
    "pos.keys()"
   ]
  },
  {
   "cell_type": "code",
   "execution_count": null,
   "id": "bd6630d4",
   "metadata": {
    "scrolled": true
   },
   "outputs": [],
   "source": [
    "len(pos)"
   ]
  },
  {
   "cell_type": "code",
   "execution_count": null,
   "id": "47852d7c",
   "metadata": {},
   "outputs": [],
   "source": [
    "network_labels"
   ]
  },
  {
   "cell_type": "code",
   "execution_count": null,
   "id": "effb2cdb",
   "metadata": {},
   "outputs": [],
   "source": []
  },
  {
   "cell_type": "code",
   "execution_count": null,
   "id": "ad0766a1",
   "metadata": {},
   "outputs": [],
   "source": [
    "test={'hex':['#F5F5DC','#F5F5DC','#F5F5DC','#FFB6C1','#32CD32','#9370DB','#FF0000','#40E0D0']}"
   ]
  }
 ],
 "metadata": {
  "kernelspec": {
   "display_name": "Python 3 (ipykernel)",
   "language": "python",
   "name": "python3"
  },
  "language_info": {
   "codemirror_mode": {
    "name": "ipython",
    "version": 3
   },
   "file_extension": ".py",
   "mimetype": "text/x-python",
   "name": "python",
   "nbconvert_exporter": "python",
   "pygments_lexer": "ipython3",
   "version": "3.9.12"
  }
 },
 "nbformat": 4,
 "nbformat_minor": 5
}
