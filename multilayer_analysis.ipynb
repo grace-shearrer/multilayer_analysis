{
 "cells": [
  {
   "cell_type": "code",
   "execution_count": 1,
   "id": "0e5b46af",
   "metadata": {
    "scrolled": true
   },
   "outputs": [
    {
     "name": "stderr",
     "output_type": "stream",
     "text": [
      "/Users/gracer/opt/anaconda3/envs/venv/lib/python3.7/site-packages/sklearn/linear_model/least_angle.py:30: DeprecationWarning: `np.float` is a deprecated alias for the builtin `float`. To silence this warning, use `float` by itself. Doing this will not modify any behavior and is safe. If you specifically wanted the numpy scalar type, use `np.float64` here.\n",
      "Deprecated in NumPy 1.20; for more details and guidance: https://numpy.org/devdocs/release/1.20.0-notes.html#deprecations\n",
      "  method='lar', copy_X=True, eps=np.finfo(np.float).eps,\n",
      "/Users/gracer/opt/anaconda3/envs/venv/lib/python3.7/site-packages/sklearn/linear_model/least_angle.py:167: DeprecationWarning: `np.float` is a deprecated alias for the builtin `float`. To silence this warning, use `float` by itself. Doing this will not modify any behavior and is safe. If you specifically wanted the numpy scalar type, use `np.float64` here.\n",
      "Deprecated in NumPy 1.20; for more details and guidance: https://numpy.org/devdocs/release/1.20.0-notes.html#deprecations\n",
      "  method='lar', copy_X=True, eps=np.finfo(np.float).eps,\n",
      "/Users/gracer/opt/anaconda3/envs/venv/lib/python3.7/site-packages/sklearn/linear_model/least_angle.py:284: DeprecationWarning: `np.float` is a deprecated alias for the builtin `float`. To silence this warning, use `float` by itself. Doing this will not modify any behavior and is safe. If you specifically wanted the numpy scalar type, use `np.float64` here.\n",
      "Deprecated in NumPy 1.20; for more details and guidance: https://numpy.org/devdocs/release/1.20.0-notes.html#deprecations\n",
      "  eps=np.finfo(np.float).eps, copy_Gram=True, verbose=0,\n",
      "/Users/gracer/opt/anaconda3/envs/venv/lib/python3.7/site-packages/sklearn/linear_model/least_angle.py:862: DeprecationWarning: `np.float` is a deprecated alias for the builtin `float`. To silence this warning, use `float` by itself. Doing this will not modify any behavior and is safe. If you specifically wanted the numpy scalar type, use `np.float64` here.\n",
      "Deprecated in NumPy 1.20; for more details and guidance: https://numpy.org/devdocs/release/1.20.0-notes.html#deprecations\n",
      "  eps=np.finfo(np.float).eps, copy_X=True, fit_path=True,\n",
      "/Users/gracer/opt/anaconda3/envs/venv/lib/python3.7/site-packages/sklearn/linear_model/least_angle.py:1101: DeprecationWarning: `np.float` is a deprecated alias for the builtin `float`. To silence this warning, use `float` by itself. Doing this will not modify any behavior and is safe. If you specifically wanted the numpy scalar type, use `np.float64` here.\n",
      "Deprecated in NumPy 1.20; for more details and guidance: https://numpy.org/devdocs/release/1.20.0-notes.html#deprecations\n",
      "  eps=np.finfo(np.float).eps, copy_X=True, fit_path=True,\n",
      "/Users/gracer/opt/anaconda3/envs/venv/lib/python3.7/site-packages/sklearn/linear_model/least_angle.py:1127: DeprecationWarning: `np.float` is a deprecated alias for the builtin `float`. To silence this warning, use `float` by itself. Doing this will not modify any behavior and is safe. If you specifically wanted the numpy scalar type, use `np.float64` here.\n",
      "Deprecated in NumPy 1.20; for more details and guidance: https://numpy.org/devdocs/release/1.20.0-notes.html#deprecations\n",
      "  eps=np.finfo(np.float).eps, positive=False):\n",
      "/Users/gracer/opt/anaconda3/envs/venv/lib/python3.7/site-packages/sklearn/linear_model/least_angle.py:1362: DeprecationWarning: `np.float` is a deprecated alias for the builtin `float`. To silence this warning, use `float` by itself. Doing this will not modify any behavior and is safe. If you specifically wanted the numpy scalar type, use `np.float64` here.\n",
      "Deprecated in NumPy 1.20; for more details and guidance: https://numpy.org/devdocs/release/1.20.0-notes.html#deprecations\n",
      "  max_n_alphas=1000, n_jobs=None, eps=np.finfo(np.float).eps,\n",
      "/Users/gracer/opt/anaconda3/envs/venv/lib/python3.7/site-packages/sklearn/linear_model/least_angle.py:1602: DeprecationWarning: `np.float` is a deprecated alias for the builtin `float`. To silence this warning, use `float` by itself. Doing this will not modify any behavior and is safe. If you specifically wanted the numpy scalar type, use `np.float64` here.\n",
      "Deprecated in NumPy 1.20; for more details and guidance: https://numpy.org/devdocs/release/1.20.0-notes.html#deprecations\n",
      "  max_n_alphas=1000, n_jobs=None, eps=np.finfo(np.float).eps,\n",
      "/Users/gracer/opt/anaconda3/envs/venv/lib/python3.7/site-packages/sklearn/linear_model/least_angle.py:1738: DeprecationWarning: `np.float` is a deprecated alias for the builtin `float`. To silence this warning, use `float` by itself. Doing this will not modify any behavior and is safe. If you specifically wanted the numpy scalar type, use `np.float64` here.\n",
      "Deprecated in NumPy 1.20; for more details and guidance: https://numpy.org/devdocs/release/1.20.0-notes.html#deprecations\n",
      "  eps=np.finfo(np.float).eps, copy_X=True, positive=False):\n",
      "/Users/gracer/opt/anaconda3/envs/venv/lib/python3.7/site-packages/sklearn/decomposition/online_lda.py:29: DeprecationWarning: `np.float` is a deprecated alias for the builtin `float`. To silence this warning, use `float` by itself. Doing this will not modify any behavior and is safe. If you specifically wanted the numpy scalar type, use `np.float64` here.\n",
      "Deprecated in NumPy 1.20; for more details and guidance: https://numpy.org/devdocs/release/1.20.0-notes.html#deprecations\n",
      "  EPS = np.finfo(np.float).eps\n",
      "/Users/gracer/opt/anaconda3/envs/venv/lib/python3.7/site-packages/sklearn/feature_extraction/image.py:167: DeprecationWarning: `np.int` is a deprecated alias for the builtin `int`. To silence this warning, use `int` by itself. Doing this will not modify any behavior and is safe. When replacing `np.int`, you may wish to use e.g. `np.int64` or `np.int32` to specify the precision. If you wish to review your current use, check the release note link for additional information.\n",
      "Deprecated in NumPy 1.20; for more details and guidance: https://numpy.org/devdocs/release/1.20.0-notes.html#deprecations\n",
      "  dtype=np.int):\n"
     ]
    },
    {
     "data": {
      "application/javascript": [
       "IPython.notebook.set_autosave_interval(5000)"
      ]
     },
     "metadata": {},
     "output_type": "display_data"
    },
    {
     "name": "stdout",
     "output_type": "stream",
     "text": [
      "Autosaving every 5 seconds\n"
     ]
    },
    {
     "data": {
      "application/javascript": [
       "IPython.notebook.set_autosave_interval(5000)"
      ]
     },
     "metadata": {},
     "output_type": "display_data"
    },
    {
     "name": "stdout",
     "output_type": "stream",
     "text": [
      "Autosaving every 5 seconds\n"
     ]
    }
   ],
   "source": [
    "import subprocess\n",
    "import pdb\n",
    "\n",
    "import os\n",
    "import glob\n",
    "import numpy as np\n",
    "from numpy.fft import fft, ifft, fftfreq\n",
    "import pandas as pd\n",
    "import matplotlib.pyplot as plt\n",
    "from matplotlib import gridspec\n",
    "from matplotlib.animation import FuncAnimation\n",
    "from nilearn.plotting import view_img_on_surf, view_img\n",
    "from scipy.stats import ttest_1samp\n",
    "\n",
    "import networkx as nx\n",
    "from IPython.display import HTML\n",
    "\n",
    "# import nest_asyncio\n",
    "# nest_asyncio.apply()\n",
    "# import datalad.api as dl\n",
    "\n",
    "import warnings\n",
    "import sys \n",
    "if not sys.warnoptions:\n",
    "    warnings.simplefilter(\"ignore\")\n",
    "\n",
    "import pandas as pd\n",
    "import scipy.io\n",
    "from scipy import stats\n",
    "\n",
    "from sklearn.manifold import MDS\n",
    "import scipy.spatial.distance as sp_distance\n",
    "from sklearn.preprocessing import RobustScaler, StandardScaler\n",
    "\n",
    "import matplotlib.pyplot as plt\n",
    "import seaborn as sns \n",
    "from mpl_toolkits.mplot3d import Axes3D\n",
    "\n",
    "import time\n",
    "from copy import deepcopy\n",
    "import numpy as np\n",
    "import pandas as pd \n",
    "\n",
    "from nilearn import datasets\n",
    "from nilearn import surface\n",
    "from nilearn import plotting\n",
    "from nilearn.input_data import NiftiMasker, NiftiLabelsMasker\n",
    "import nibabel as nib\n",
    "\n",
    "from nltools.data import Brain_Data, Adjacency\n",
    "from nltools.mask import expand_mask, roi_to_brain\n",
    "from nltools.stats import isc, isfc, isps, fdr, threshold, phase_randomize, circle_shift, _butter_bandpass_filter, _phase_mean_angle, _phase_vector_length\n",
    "from nilearn.plotting import view_img_on_surf, view_img\n",
    "from sklearn.metrics import pairwise_distances\n",
    "from sklearn.utils import check_random_state\n",
    "\n",
    "from brainiak import image, io\n",
    "from brainiak.isc import isc, isfc, permutation_isc\n",
    "import matplotlib.pyplot as plt\n",
    "import seaborn as sns \n",
    "\n",
    "from datetime import datetime as dt\n",
    "from scipy.signal import hilbert, butter, filtfilt\n",
    "from kuramoto import Kuramoto, plot_phase_coherence, plot_activity\n",
    "\n",
    "%autosave 5\n",
    "%matplotlib inline\n",
    "sns.set(style = 'white', context='talk', font_scale=1, rc={\"lines.linewidth\": 2})\n",
    "\n",
    "# %matplotlib notebook\n",
    "%matplotlib inline\n",
    "%autosave 5\n",
    "sns.set(style = 'white', context='poster', rc={\"lines.linewidth\": 2.5})\n",
    "sns.set(palette=\"colorblind\")\n"
   ]
  },
  {
   "cell_type": "markdown",
   "id": "adbda761",
   "metadata": {},
   "source": [
    "# Functions to register the images\n",
    "Normal registrations lead to severe stretching an distortion of the functional images. Therefore, the ROIs (in MNI asym 09) and the T1 were registered to the functional image. While not standard, because this is an ROI analysis not whole brain we feel that this method is the best way to get the true areas of the ROIs in the functional images"
   ]
  },
  {
   "cell_type": "code",
   "execution_count": null,
   "id": "9eaa10da",
   "metadata": {},
   "outputs": [],
   "source": [
    "def get_t1(strc, basepath):\n",
    "    T1 = strc\n",
    "    sub = strc.split('/')[-1].split('.')[0].split('_')[-1]\n",
    "    output_path = os.path.join(basepath,'derivatives','reg')\n",
    "    return([sub,output_path,T1])"
   ]
  },
  {
   "cell_type": "code",
   "execution_count": null,
   "id": "c855f7e6",
   "metadata": {},
   "outputs": [],
   "source": [
    "def get_example_func(reference,T1,output_path,sub,style):\n",
    "    example_func = '%s/%s_%s_example_func.nii.gz'%(output_path,sub,style)\n",
    "    example_func_cmd = '/usr/local/fsl/bin/fslroi %s %s 300 1'%(reference,example_func)\n",
    "    example_func_cmd_list= example_func_cmd.split(' ')\n",
    "    subprocess.call(example_func_cmd_list)\n",
    "    print(example_func)\n",
    "    return(example_func)"
   ]
  },
  {
   "cell_type": "code",
   "execution_count": null,
   "id": "845c4de4",
   "metadata": {},
   "outputs": [],
   "source": [
    "def func_thresh(example_func,output_path,sub):\n",
    "    # threshold out extra bullshit\n",
    "    print('thresholding')\n",
    "    x = example_func.split('.')[0]\n",
    "    x = '%s_thr'%x\n",
    "    print(x)\n",
    "    thr_cmd = '/usr/local/fsl/bin/fslmaths %s -thr 200 %s'%(example_func,x)\n",
    "    thr_cmd_list = thr_cmd.split(' ')\n",
    "    subprocess.call(thr_cmd_list)\n",
    "    #example_func_thr = '%s/%s_example_func_thr.nii.gz'%(output_path,sub)\n",
    "    example_func_thr = '%s.nii.gz'%x\n",
    "    return(example_func_thr)"
   ]
  },
  {
   "cell_type": "code",
   "execution_count": null,
   "id": "5d7848b9",
   "metadata": {},
   "outputs": [],
   "source": [
    "def heavy_lifting(T1,example_func_thr, output_path, sub, basepath):\n",
    "# register the T1 to the BOLD\n",
    "    ## get the matrix\n",
    "    print('welcome to the matrix')\n",
    "    x = example_func.split('.')[0]\n",
    "    outp = '%s_T12func.mat'%x\n",
    "    cmd = 'flirt -in %s -ref %s -out outputvol -omat %s'%(T1,example_func_thr,outp)\n",
    "    cmd_list = cmd.split(' ')\n",
    "    subprocess.call(cmd_list)\n",
    "    ## use the matrix\n",
    "    print('neo use the matrix')\n",
    "    matrix = outp\n",
    "    y = '%s_T12func'%x\n",
    "    flirt_cmd = 'flirt -in %s -ref %s -applyxfm -init %s -out %s'%(T1, example_func_thr,matrix,y)\n",
    "    flrt_cmd_list = flirt_cmd.split(' ')\n",
    "    subprocess.call(flrt_cmd_list)\n",
    "    # Register the atlas image to the T1\n",
    "    print('registering')\n",
    "    T1_reg = y\n",
    "    hi2std = '%s_highres2standard'%x\n",
    "    hi2stdmat = '%s_highres2standard.mat'%x\n",
    "    standard = os.path.join(basepath,'atlases','CIT168_Reinf_Learn_v1.1.0','MNI152-Nonlin-Asym-2009c','CIT168toMNI152-2009c_T1w_brain.nii.gz')\n",
    "    s2t1_cmd = '/usr/local/fsl/bin/flirt -in %s -ref %s -out %s -omat %s -cost corratio -dof 12 -searchrx -90 90 -searchry -90 90 -searchrz -90 90 -interp trilinear'%(standard,T1_reg, hi2std,hi2stdmat)\n",
    "    s2t1_cmd_list = s2t1_cmd.split(' ')\n",
    "    subprocess.call(s2t1_cmd_list)\n",
    "    return(hi2stdmat, T1_reg)"
   ]
  },
  {
   "cell_type": "code",
   "execution_count": null,
   "id": "86f0d5c6",
   "metadata": {},
   "outputs": [],
   "source": [
    "def roi_dir(mask_dir, sub, style):\n",
    "    roi_out = os.path.join(mask_dir,'%s_%s'%(style,sub))\n",
    "    try:\n",
    "        os.makedirs(roi_out)\n",
    "    except FileExistsError:\n",
    "        pass\n",
    "    return(roi_out)\n"
   ]
  },
  {
   "cell_type": "code",
   "execution_count": null,
   "id": "fe96184e",
   "metadata": {},
   "outputs": [],
   "source": [
    "def roi_create(roi_orig, roi_out, T1_reg, matrix):\n",
    "    roi = roi_orig.split('/')[-1].split('_')[-1].split('.')[0]\n",
    "    print(roi)\n",
    "    ### align with the standard brain\n",
    "    outp = '%s/%s_roi2T1'%(roi_out,roi)\n",
    "    roi_cmd = 'flirt -in %s -ref %s -applyxfm -init %s -out %s'%(roi_orig,T1_reg,matrix,outp)\n",
    "    print(roi_cmd)\n",
    "    roi_cmd_list = roi_cmd.split(' ')\n",
    "    subprocess.call(roi_cmd_list)\n",
    "    return(outp, roi)"
   ]
  },
  {
   "cell_type": "code",
   "execution_count": null,
   "id": "b226e48a",
   "metadata": {},
   "outputs": [],
   "source": [
    "def roi_thresh(roi,roi_out,thresh):\n",
    "    inp ='%s/%s_roi2T1.nii.gz'%(roi_out,roi)\n",
    "    oot = '%s/%s_%s_roi2T1_thresh'%(roi_out,roi,thresh)\n",
    "    print(thresh)\n",
    "    thresh_cmd = '/usr/local/fsl/bin/fslmaths %s -thr %s %s'%(inp,thresh,oot)\n",
    "    print(thresh_cmd)\n",
    "    thresh_cmd_list = thresh_cmd.split(' ')\n",
    "    subprocess.run(thresh_cmd_list)\n",
    "    num = roi.split('l')[1]\n",
    "    oupt = '%s/%s_%s_roi2T1_thresh_bin'%(roi_out,roi,thresh)\n",
    "    bin_cmd = 'fslmaths %s -bin -mul %s %s'%(oot,num,oupt)\n",
    "    bin_cmd_list = bin_cmd.split(' ')\n",
    "    subprocess.run(bin_cmd_list)\n",
    "    return(oupt)"
   ]
  },
  {
   "cell_type": "code",
   "execution_count": null,
   "id": "6c417fc9",
   "metadata": {},
   "outputs": [],
   "source": [
    "def roi_merger(path2rois, thresh):\n",
    "    ## make a total brain\n",
    "    rois = glob.glob(os.path.join(path2rois,'vol*_%s_roi2T1_thresh_bin.nii.gz'%thresh))\n",
    "    print(len(rois))\n",
    "    finalgirl = os.path.join(path2rois,'total_rois')\n",
    "    rois.append(finalgirl)\n",
    "    roi_cmd2 = 'fslmaths %s -add %s -add %s -add %s -add %s -add %s -add %s -add %s -add %s -add %s -add %s -add %s -add %s -add %s -add %s -add %s -add %s %s'%tuple(rois)\n",
    "    roi_cmd2_list=roi_cmd2.split(' ')\n",
    "    subprocess.run(roi_cmd2_list)\n",
    "    \n",
    "    \n",
    "    \n",
    "    \n",
    "    \n",
    "    "
   ]
  },
  {
   "cell_type": "code",
   "execution_count": null,
   "id": "1e85b752",
   "metadata": {},
   "outputs": [],
   "source": [
    "def extractor(nifti, output):\n",
    "    bet_cmd = 'bet %s %s -F'%(nifti, output)\n",
    "    subprocess.run(['bet','%s'%nifti,'%s'%output,'-F'])"
   ]
  },
  {
   "cell_type": "code",
   "execution_count": 2,
   "id": "859452b3",
   "metadata": {},
   "outputs": [],
   "source": [
    "basepath = '/Users/gracer/Documents/BBC_21-2939_prepro_data'"
   ]
  },
  {
   "cell_type": "code",
   "execution_count": 3,
   "id": "8d00c093",
   "metadata": {},
   "outputs": [],
   "source": [
    "tasks = ['base','clamp']"
   ]
  },
  {
   "cell_type": "markdown",
   "id": "65b97029",
   "metadata": {},
   "source": [
    "## need to register the two new ROIS to the same template as the others"
   ]
  },
  {
   "cell_type": "code",
   "execution_count": null,
   "id": "448c70cb",
   "metadata": {},
   "outputs": [],
   "source": [
    "inp = os.path.join(basepath,'atlases','anatomical.nii.gz')\n",
    "out = os.path.join(basepath,'atlases','anatomical_asym.nii.gz')\n",
    "ref = os.path.join(basepath,'atlases','CIT168_Reinf_Learn_v1.1.0','MNI152-Nonlin-Asym-2009c','CIT168toMNI152-2009c_T1w_brain.nii.gz')\n",
    "outmat = os.path.join(basepath,'atlases','anatomical_asym.mat')\n",
    "fl_cmd = 'flirt -in %s -ref %s -out %s -omat %s'%(inp, ref, out,outmat)\n",
    "fl_cmd_list = fl_cmd.split(' ')\n",
    "subprocess.run(fl_cmd_list)\n"
   ]
  },
  {
   "cell_type": "code",
   "execution_count": null,
   "id": "f3e97b8a",
   "metadata": {},
   "outputs": [],
   "source": [
    "inp = os.path.join(basepath,'atlases','dlpfc_association-test_z_FDR_0.01.nii.gz')\n",
    "out = os.path.join(basepath,'atlases','atlas','CIT168toMNI152_prob_atlas_bilat_1mm__vol17')\n",
    "ref = os.path.join(basepath,'atlases','CIT168_Reinf_Learn_v1.1.0','MNI152-Nonlin-Asym-2009c','CIT168toMNI152-2009c_T1w_brain.nii.gz')\n",
    "inmat = os.path.join(basepath,'atlases','anatomical_asym.mat')\n",
    "fl2_cmd = 'flirt -in %s -ref %s -out %s -init %s -applyxfm'%(inp, ref, out, inmat)\n",
    "fl2_cmd_list = fl2_cmd.split(' ')\n",
    "subprocess.run(fl2_cmd_list)\n"
   ]
  },
  {
   "cell_type": "code",
   "execution_count": null,
   "id": "dd1b178c",
   "metadata": {},
   "outputs": [],
   "source": [
    "inp = os.path.join(basepath,'atlases','visual_cortex_association-test_z_FDR_0.01.nii.gz')\n",
    "out = os.path.join(basepath,'atlases','atlas','CIT168toMNI152_prob_atlas_bilat_1mm__vol18')\n",
    "ref = os.path.join(basepath,'atlases','CIT168_Reinf_Learn_v1.1.0','MNI152-Nonlin-Asym-2009c','CIT168toMNI152-2009c_T1w_brain.nii.gz')\n",
    "inmat = os.path.join(basepath,'atlases','anatomical_asym.mat')\n",
    "fl3_cmd = 'flirt -in %s -ref %s -out %s -init %s -applyxfm'%(inp, ref, out, inmat)\n",
    "fl3_cmd_list = fl3_cmd.split(' ')\n",
    "subprocess.run(fl3_cmd_list)\n"
   ]
  },
  {
   "cell_type": "code",
   "execution_count": null,
   "id": "493f4df7",
   "metadata": {},
   "outputs": [],
   "source": [
    "inp = os.path.join(basepath,'atlases','hippocampus_association-test_z_FDR_0.01.nii.gz')\n",
    "out = os.path.join(basepath,'atlases','atlas','CIT168toMNI152_prob_atlas_bilat_1mm__vol19')\n",
    "ref = os.path.join(basepath,'atlases','CIT168_Reinf_Learn_v1.1.0','MNI152-Nonlin-Asym-2009c','CIT168toMNI152-2009c_T1w_brain.nii.gz')\n",
    "inmat = os.path.join(basepath,'atlases','anatomical_asym.mat')\n",
    "fl4_cmd = 'flirt -in %s -ref %s -out %s -init %s -applyxfm'%(inp, ref, out, inmat)\n",
    "fl4_cmd_list = fl4_cmd.split(' ')\n",
    "subprocess.run(fl4_cmd_list)"
   ]
  },
  {
   "cell_type": "markdown",
   "id": "a6a4e31e",
   "metadata": {},
   "source": [
    "## Needed to prethreshold these. They are from neurosyth and pick up a lot of excess areas"
   ]
  },
  {
   "cell_type": "code",
   "execution_count": null,
   "id": "788ecd5b",
   "metadata": {},
   "outputs": [],
   "source": [
    "inp = '/Users/gracer/Documents/BBC_21-2939_prepro_data/atlases/atlas/CIT168toMNI152_prob_atlas_bilat_1mm__vol19.nii.gz'\n",
    "oot = '/Users/gracer/Documents/BBC_21-2939_prepro_data/atlases/atlas/threshCIT168toMNI152_prob_atlas_bilat_1mm__vol19.nii.gz'\n",
    "thresh = '10'\n",
    "thresh_cmd = '/usr/local/fsl/bin/fslmaths %s -thr %s %s'%(inp,thresh,oot)\n",
    "print(thresh_cmd)\n",
    "thresh_cmd_list = thresh_cmd.split(' ')\n",
    "subprocess.run(thresh_cmd_list)"
   ]
  },
  {
   "cell_type": "code",
   "execution_count": null,
   "id": "97fac8dd",
   "metadata": {
    "scrolled": true
   },
   "outputs": [],
   "source": [
    "inp = '/Users/gracer/Documents/BBC_21-2939_prepro_data/atlases/atlas/CIT168toMNI152_prob_atlas_bilat_1mm__vol18.nii.gz'\n",
    "oot = '/Users/gracer/Documents/BBC_21-2939_prepro_data/atlases/atlas/threshCIT168toMNI152_prob_atlas_bilat_1mm__vol18.nii.gz'\n",
    "thresh = '3'\n",
    "thresh_cmd = '/usr/local/fsl/bin/fslmaths %s -thr %s %s'%(inp,thresh,oot)\n",
    "print(thresh_cmd)\n",
    "thresh_cmd_list = thresh_cmd.split(' ')\n",
    "subprocess.run(thresh_cmd_list)"
   ]
  },
  {
   "cell_type": "code",
   "execution_count": null,
   "id": "2e9ac286",
   "metadata": {
    "scrolled": true
   },
   "outputs": [],
   "source": [
    "inp = '/Users/gracer/Documents/BBC_21-2939_prepro_data/atlases/atlas/CIT168toMNI152_prob_atlas_bilat_1mm__vol17.nii.gz'\n",
    "oot = '/Users/gracer/Documents/BBC_21-2939_prepro_data/atlases/atlas/threshCIT168toMNI152_prob_atlas_bilat_1mm__vol17.nii.gz'\n",
    "thresh = '6'\n",
    "thresh_cmd = '/usr/local/fsl/bin/fslmaths %s -thr %s %s'%(inp,thresh,oot)\n",
    "print(thresh_cmd)\n",
    "thresh_cmd_list = thresh_cmd.split(' ')\n",
    "subprocess.run(thresh_cmd_list)"
   ]
  },
  {
   "cell_type": "markdown",
   "id": "f8ae66dd",
   "metadata": {},
   "source": [
    "# Skull stripping"
   ]
  },
  {
   "cell_type": "code",
   "execution_count": null,
   "id": "acd6c466",
   "metadata": {},
   "outputs": [],
   "source": [
    "for task in tasks:\n",
    "    print(task)\n",
    "    for nifti in glob.glob(os.path.join(basepath,'func','%s'%task,'*.nii')):\n",
    "        print(nifti)\n",
    "        name = nifti.split('/')[-1].split('.')[0]\n",
    "        output = os.path.join(basepath,'derivatives','BET','%s_brain'%name)\n",
    "        extractor(nifti, output)"
   ]
  },
  {
   "cell_type": "markdown",
   "id": "e974c914",
   "metadata": {},
   "source": [
    "# Registration"
   ]
  },
  {
   "cell_type": "markdown",
   "id": "633101c0",
   "metadata": {},
   "source": [
    "## Try not to run unless you got time"
   ]
  },
  {
   "cell_type": "code",
   "execution_count": null,
   "id": "ea54aecd",
   "metadata": {
    "scrolled": true
   },
   "outputs": [],
   "source": [
    "for strc in glob.glob(os.path.join(basepath, 'anat','ss_t1*.nii')):\n",
    "    sub,output_path,T1 = get_t1(strc,basepath)\n",
    "    print(sub)\n",
    "    for task in tasks:\n",
    "        for ref in glob.glob(os.path.join(basepath,'derivatives','BET','%s'%task,'*%s*_brain.nii.gz'%sub)):\n",
    "            style = ref.split('_')[4]\n",
    "            example_func = get_example_func(ref,T1,output_path,sub,style)\n",
    "            example_func_thr = func_thresh(example_func,output_path,sub)\n",
    "            matrix, T1_reg = heavy_lifting(T1, example_func_thr, output_path, sub, basepath)\n",
    "            mask_dir = os.path.join(basepath,'atlases','atlas')\n",
    "            for x in glob.glob(os.path.join(mask_dir,'CIT168toMNI152_prob_atlas_bilat_1mm__vol*.nii.gz')):\n",
    "                \n",
    "                roi_orig = os.path.join(mask_dir,x)\n",
    "                roi_out = roi_dir(mask_dir, sub,style)\n",
    "                roi_path,roi = roi_create(roi_orig, roi_out, T1_reg, matrix)\n",
    "                roithr = roi_thresh(roi,roi_out,'0.5')\n"
   ]
  },
  {
   "cell_type": "markdown",
   "id": "d8fde851",
   "metadata": {},
   "source": [
    "Exlcuding the PBP, VTA, SNr due to low signal. Need to fix roi_merger so it can predict the number of inputs"
   ]
  },
  {
   "cell_type": "code",
   "execution_count": null,
   "id": "fc8c577b",
   "metadata": {},
   "outputs": [],
   "source": [
    "for path2rois in glob.glob(os.path.join('/Users/gracer/Documents/BBC_21-2939_prepro_data/atlases/atlas','*_*/')):\n",
    "    print(path2rois)\n",
    "    roi_merger(path2rois, '0.5')"
   ]
  },
  {
   "cell_type": "markdown",
   "id": "24248ae2",
   "metadata": {},
   "source": [
    "# Parcellation "
   ]
  },
  {
   "cell_type": "code",
   "execution_count": null,
   "id": "cabbb764",
   "metadata": {},
   "outputs": [],
   "source": [
    "def parcellator(basepath, func, corrlabel):\n",
    "    print(\"starting parcellation\")\n",
    "    corrtxt = os.path.join(basepath,'corrlabel_ts.txt')\n",
    "    cmd = 'fslmeants -i %s --label=%s -o %s'%(func, corrlabel, corrtxt)\n",
    "    cmd_list = cmd.split(' ')\n",
    "    print(cmd_list)\n",
    "    subprocess.run(cmd_list)"
   ]
  },
  {
   "cell_type": "code",
   "execution_count": null,
   "id": "3a18207b",
   "metadata": {
    "scrolled": true
   },
   "outputs": [],
   "source": [
    "outpath = '/Users/gracer/Documents/BBC_21-2939_prepro_data/derivatives/output'\n",
    "for task in tasks:\n",
    "    for func in glob.glob(os.path.join(basepath,'derivatives','BET','%s'%task,'*_brain.nii.gz')):\n",
    "        sub = func.split('/')[-1].split('_')[0].split('u')[-1]\n",
    "        style = func.split('/')[-1].split('_')[1]\n",
    "        print(sub)\n",
    "        print(style)\n",
    "        try:\n",
    "            op = os.path.join(outpath,style,sub)\n",
    "            os.makedirs(op)\n",
    "        except FileExistsError:\n",
    "            pass\n",
    "        corrlabel = os.path.join('/Users/gracer/Documents/BBC_21-2939_prepro_data/atlases/atlas','%s_%s'%(style,sub),'total_rois.nii.gz')\n",
    "        parcellator(op, func, corrlabel)\n"
   ]
  },
  {
   "cell_type": "markdown",
   "id": "c77c9ad3",
   "metadata": {},
   "source": [
    "Slight overlap with hippocampus and the Nac and hippocampus and the putamen. Delete the last two columns "
   ]
  },
  {
   "cell_type": "markdown",
   "id": "32e50bbc",
   "metadata": {},
   "source": [
    "# Correlations"
   ]
  },
  {
   "cell_type": "code",
   "execution_count": null,
   "id": "82d008ef",
   "metadata": {},
   "outputs": [],
   "source": [
    "def correlations(outpath, txtfile):\n",
    "    print('starting correlation')\n",
    "    rtxt = os.path.join(outpath,'new_r_matrix.csv')\n",
    "    ztxt = os.path.join(outpath,'new_zr_matrix.csv')\n",
    "    corrtxt = os.path.join(outpath,txtfile)\n",
    "    \n",
    "    if os.path.isfile(corrtxt):        \n",
    "#         timeseries = pd.read_csv(corrtxt, header=None,  skiprows=[0])\n",
    "        timeseries = pd.read_csv(corrtxt, header = None, sep = '  ')\n",
    "#         pdb.set_trace()\n",
    "        timeseries = timeseries.drop([0], 1)\n",
    "        timeseries = timeseries.apply(pd.to_numeric)\n",
    "#         pdb.set_trace()\n",
    "        myres = timeseries.corr(method='pearson')\n",
    "\n",
    "        \n",
    "\n",
    "        zrmaps = stats.zscore(myres, nan_policy='omit')\n",
    "        \n",
    "        pd.DataFrame(zrmaps).to_csv(ztxt, index=False, header= False)\n",
    "        pd.DataFrame(myres).to_csv(rtxt, index=False, header= False)\n",
    "\n"
   ]
  },
  {
   "cell_type": "markdown",
   "id": "c79ed76c",
   "metadata": {},
   "source": [
    "# Insulin kinetics"
   ]
  },
  {
   "cell_type": "code",
   "execution_count": 5,
   "id": "fd596e4e",
   "metadata": {},
   "outputs": [],
   "source": [
    "def ins_convert(insulin_units, mol):\n",
    "    pmol = np.multiply(insulin_units, 6.0) \n",
    "    if mol == 'mol':\n",
    "        mole = 1000\n",
    "        mol = np.divide(pmol, mole)\n",
    "        return(mol)\n",
    "    else:\n",
    "        return(mol)"
   ]
  },
  {
   "cell_type": "code",
   "execution_count": 4,
   "id": "b2f7d7fc",
   "metadata": {},
   "outputs": [
    {
     "name": "stdout",
     "output_type": "stream",
     "text": [
      "/Users/gracer/Documents/BBC_21-2939_insulin/20001.csv\n",
      "/Users/gracer/Documents/BBC_21-2939_insulin/20003.csv\n",
      "/Users/gracer/Documents/BBC_21-2939_insulin/20002.csv\n",
      "/Users/gracer/Documents/BBC_21-2939_insulin/20004.csv\n",
      "/Users/gracer/Documents/BBC_21-2939_insulin/20010.csv\n",
      "/Users/gracer/Documents/BBC_21-2939_insulin/20008.csv\n"
     ]
    }
   ],
   "source": [
    "path2insulin = os.path.join('/Users/gracer/Documents/BBC_21-2939_insulin','*.csv')\n",
    "converted_ins = []\n",
    "for sub in glob.glob(path2insulin):\n",
    "    print(sub)\n",
    "    df = pd.read_csv(sub, sep = ',', encoding='latin-1')\n",
    "    converted_ins.append(df)\n",
    "    \n",
    "    \n",
    "ins_conv_df = pd.concat(converted_ins)"
   ]
  },
  {
   "cell_type": "code",
   "execution_count": 6,
   "id": "9f712b72",
   "metadata": {},
   "outputs": [],
   "source": [
    "ins_conv_df['insulin_pmol'] = ins_convert(ins_conv_df['insulin_uIU_mL'],'mol')"
   ]
  },
  {
   "cell_type": "code",
   "execution_count": null,
   "id": "01ac0d8d",
   "metadata": {},
   "outputs": [],
   "source": [
    "in_sync[x] = np.angle(hilbert(insulin_df[x], axis=0))"
   ]
  },
  {
   "cell_type": "code",
   "execution_count": 15,
   "id": "08770d62",
   "metadata": {},
   "outputs": [
    {
     "data": {
      "text/html": [
       "<div>\n",
       "<style scoped>\n",
       "    .dataframe tbody tr th:only-of-type {\n",
       "        vertical-align: middle;\n",
       "    }\n",
       "\n",
       "    .dataframe tbody tr th {\n",
       "        vertical-align: top;\n",
       "    }\n",
       "\n",
       "    .dataframe thead th {\n",
       "        text-align: right;\n",
       "    }\n",
       "</style>\n",
       "<table border=\"1\" class=\"dataframe\">\n",
       "  <thead>\n",
       "    <tr style=\"text-align: right;\">\n",
       "      <th></th>\n",
       "      <th>pid</th>\n",
       "      <th>sex</th>\n",
       "      <th>label</th>\n",
       "      <th>insulin_uIU_mL</th>\n",
       "      <th>time</th>\n",
       "      <th>glucose_mg_dL</th>\n",
       "      <th>insulin_pmol</th>\n",
       "    </tr>\n",
       "  </thead>\n",
       "  <tbody>\n",
       "    <tr>\n",
       "      <th>0</th>\n",
       "      <td>20001</td>\n",
       "      <td>Male</td>\n",
       "      <td>Insulin-endo      T1</td>\n",
       "      <td>38.0</td>\n",
       "      <td>1</td>\n",
       "      <td>183.0</td>\n",
       "      <td>0.228</td>\n",
       "    </tr>\n",
       "    <tr>\n",
       "      <th>1</th>\n",
       "      <td>20001</td>\n",
       "      <td>Male</td>\n",
       "      <td>Insulin-endo      T2</td>\n",
       "      <td>22.0</td>\n",
       "      <td>2</td>\n",
       "      <td>183.0</td>\n",
       "      <td>0.132</td>\n",
       "    </tr>\n",
       "    <tr>\n",
       "      <th>2</th>\n",
       "      <td>20001</td>\n",
       "      <td>Male</td>\n",
       "      <td>Insulin-endo      T3</td>\n",
       "      <td>41.0</td>\n",
       "      <td>3</td>\n",
       "      <td>183.0</td>\n",
       "      <td>0.246</td>\n",
       "    </tr>\n",
       "    <tr>\n",
       "      <th>3</th>\n",
       "      <td>20001</td>\n",
       "      <td>Male</td>\n",
       "      <td>Insulin-endo      T4</td>\n",
       "      <td>48.0</td>\n",
       "      <td>4</td>\n",
       "      <td>183.0</td>\n",
       "      <td>0.288</td>\n",
       "    </tr>\n",
       "    <tr>\n",
       "      <th>4</th>\n",
       "      <td>20001</td>\n",
       "      <td>Male</td>\n",
       "      <td>Insulin-endo      T5</td>\n",
       "      <td>49.0</td>\n",
       "      <td>5</td>\n",
       "      <td>183.0</td>\n",
       "      <td>0.294</td>\n",
       "    </tr>\n",
       "    <tr>\n",
       "      <th>...</th>\n",
       "      <td>...</td>\n",
       "      <td>...</td>\n",
       "      <td>...</td>\n",
       "      <td>...</td>\n",
       "      <td>...</td>\n",
       "      <td>...</td>\n",
       "      <td>...</td>\n",
       "    </tr>\n",
       "    <tr>\n",
       "      <th>41</th>\n",
       "      <td>20008</td>\n",
       "      <td>Male</td>\n",
       "      <td>Insulin-endo     T42</td>\n",
       "      <td>3.0</td>\n",
       "      <td>42</td>\n",
       "      <td>NaN</td>\n",
       "      <td>0.018</td>\n",
       "    </tr>\n",
       "    <tr>\n",
       "      <th>42</th>\n",
       "      <td>20008</td>\n",
       "      <td>Male</td>\n",
       "      <td>Insulin-endo     T43</td>\n",
       "      <td>3.0</td>\n",
       "      <td>43</td>\n",
       "      <td>NaN</td>\n",
       "      <td>0.018</td>\n",
       "    </tr>\n",
       "    <tr>\n",
       "      <th>43</th>\n",
       "      <td>20008</td>\n",
       "      <td>Male</td>\n",
       "      <td>Insulin-endo     T44</td>\n",
       "      <td>2.0</td>\n",
       "      <td>44</td>\n",
       "      <td>NaN</td>\n",
       "      <td>0.012</td>\n",
       "    </tr>\n",
       "    <tr>\n",
       "      <th>44</th>\n",
       "      <td>20008</td>\n",
       "      <td>Male</td>\n",
       "      <td>Insulin-endo     T45</td>\n",
       "      <td>2.0</td>\n",
       "      <td>45</td>\n",
       "      <td>NaN</td>\n",
       "      <td>0.012</td>\n",
       "    </tr>\n",
       "    <tr>\n",
       "      <th>45</th>\n",
       "      <td>20008</td>\n",
       "      <td>Male</td>\n",
       "      <td>Insulin-endo     T46</td>\n",
       "      <td>2.0</td>\n",
       "      <td>46</td>\n",
       "      <td>NaN</td>\n",
       "      <td>0.012</td>\n",
       "    </tr>\n",
       "  </tbody>\n",
       "</table>\n",
       "<p>325 rows × 7 columns</p>\n",
       "</div>"
      ],
      "text/plain": [
       "      pid   sex                 label  insulin_uIU_mL  time  glucose_mg_dL  \\\n",
       "0   20001  Male  Insulin-endo      T1            38.0     1          183.0   \n",
       "1   20001  Male  Insulin-endo      T2            22.0     2          183.0   \n",
       "2   20001  Male  Insulin-endo      T3            41.0     3          183.0   \n",
       "3   20001  Male  Insulin-endo      T4            48.0     4          183.0   \n",
       "4   20001  Male  Insulin-endo      T5            49.0     5          183.0   \n",
       "..    ...   ...                   ...             ...   ...            ...   \n",
       "41  20008  Male  Insulin-endo     T42             3.0    42            NaN   \n",
       "42  20008  Male  Insulin-endo     T43             3.0    43            NaN   \n",
       "43  20008  Male  Insulin-endo     T44             2.0    44            NaN   \n",
       "44  20008  Male  Insulin-endo     T45             2.0    45            NaN   \n",
       "45  20008  Male  Insulin-endo     T46             2.0    46            NaN   \n",
       "\n",
       "    insulin_pmol  \n",
       "0          0.228  \n",
       "1          0.132  \n",
       "2          0.246  \n",
       "3          0.288  \n",
       "4          0.294  \n",
       "..           ...  \n",
       "41         0.018  \n",
       "42         0.018  \n",
       "43         0.012  \n",
       "44         0.012  \n",
       "45         0.012  \n",
       "\n",
       "[325 rows x 7 columns]"
      ]
     },
     "execution_count": 15,
     "metadata": {},
     "output_type": "execute_result"
    }
   ],
   "source": [
    "ins_conv_df"
   ]
  },
  {
   "cell_type": "code",
   "execution_count": null,
   "id": "a03a857c",
   "metadata": {},
   "outputs": [],
   "source": [
    "_phase_vector_length_sine_only(phase)"
   ]
  },
  {
   "cell_type": "code",
   "execution_count": 33,
   "id": "706a204f",
   "metadata": {},
   "outputs": [],
   "source": [
    "\n",
    "\n",
    "\n",
    "\n",
    "\n",
    "x = pd.DataFrame(data=np.angle(\n",
    "                         hilbert(ins_conv_df.loc[ins_conv_df['pid'] == 20001]['insulin_pmol'].dropna(), axis=0)))  \n",
    "            \n",
    "            \n",
    "            \n",
    "            \n",
    "            \n",
    "            \n",
    "            \n",
    "            \n",
    "            \n",
    "            \n",
    "            \n",
    "            "
   ]
  },
  {
   "cell_type": "code",
   "execution_count": 44,
   "id": "75587cf9",
   "metadata": {
    "scrolled": true
   },
   "outputs": [
    {
     "data": {
      "text/plain": [
       "0.24986666666666665"
      ]
     },
     "execution_count": 44,
     "metadata": {},
     "output_type": "execute_result"
    }
   ],
   "source": [
    "y.mean()"
   ]
  },
  {
   "cell_type": "code",
   "execution_count": 327,
   "id": "16acb575",
   "metadata": {},
   "outputs": [],
   "source": [
    "#!/usr/bin/env python\n",
    "# Implementation of algorithm from https://stackoverflow.com/a/22640362/6029703\n",
    "import numpy as np\n",
    "import pylab\n",
    "\n",
    "def thresholding_algo(y, lag, threshold, influence):\n",
    "    signals = np.zeros(len(y))\n",
    "    filteredY = np.array(y)\n",
    "    avgFilter = [0]*len(y)\n",
    "    stdFilter = [0]*len(y)\n",
    "    avgFilter[lag - 1] = np.median(y[0:lag])\n",
    "    stdFilter[lag - 1] = np.std(y[0:lag])\n",
    "    for i in range(lag, len(y)):\n",
    "        if abs(y[i] - avgFilter[i-1]) > threshold * stdFilter [i-1]:\n",
    "            if y[i] > avgFilter[i-1]:\n",
    "                signals[i] = 1\n",
    "            else:\n",
    "                signals[i] = -1\n",
    "\n",
    "            filteredY[i] = influence * y[i] + (1 - influence) * filteredY[i-1]\n",
    "            avgFilter[i] = np.mean(filteredY[(i-lag+1):i+1])\n",
    "            stdFilter[i] = np.std(filteredY[(i-lag+1):i+1])\n",
    "        else:\n",
    "            signals[i] = 0\n",
    "            filteredY[i] = y[i]\n",
    "            avgFilter[i] = np.mean(filteredY[(i-lag+1):i+1])\n",
    "            stdFilter[i] = np.std(filteredY[(i-lag+1):i+1])\n",
    "\n",
    "    return dict(signals = np.asarray(signals),\n",
    "                avgFilter = np.asarray(avgFilter),\n",
    "                stdFilter = np.asarray(stdFilter))"
   ]
  },
  {
   "cell_type": "code",
   "execution_count": 302,
   "id": "737650bc",
   "metadata": {},
   "outputs": [
    {
     "data": {
      "text/plain": [
       "0.36480629978611434"
      ]
     },
     "execution_count": 302,
     "metadata": {},
     "output_type": "execute_result"
    }
   ],
   "source": [
    "# https://pywavelets.readthedocs.io/en/latest/index.html\n"
   ]
  },
  {
   "cell_type": "code",
   "execution_count": 328,
   "id": "20197c32",
   "metadata": {},
   "outputs": [],
   "source": [
    "y = ins_conv_df.loc[ins_conv_df['pid'] == 20001]['insulin_pmol']\n",
    "lag = 3\n",
    "threshold = 1\n",
    "influence = 1"
   ]
  },
  {
   "cell_type": "code",
   "execution_count": 329,
   "id": "0c00e3aa",
   "metadata": {
    "scrolled": true
   },
   "outputs": [],
   "source": [
    "x  = thresholding_algo(y, lag, threshold, influence)"
   ]
  },
  {
   "cell_type": "markdown",
   "id": "aea38b59",
   "metadata": {},
   "source": [
    "Next I need to take the signal filter and multiply it by 60 per minute (to get it into the TR)"
   ]
  },
  {
   "cell_type": "code",
   "execution_count": 330,
   "id": "aeb08d1b",
   "metadata": {},
   "outputs": [
    {
     "data": {
      "text/plain": [
       "<matplotlib.legend.Legend at 0x7f8e85a22c50>"
      ]
     },
     "execution_count": 330,
     "metadata": {},
     "output_type": "execute_result"
    },
    {
     "data": {
      "text/plain": [
       "<Figure size 2400x1200 with 0 Axes>"
      ]
     },
     "metadata": {},
     "output_type": "display_data"
    },
    {
     "data": {
      "image/png": "[encoded data removed]",
      "text/plain": [
       "<Figure size 432x288 with 1 Axes>"
      ]
     },
     "metadata": {},
     "output_type": "display_data"
    }
   ],
   "source": [
    "plt.figure(figsize=(16, 8), dpi=150)\n",
    "# in_sync[x] = np.angle(hilbert(insulin_df[x], axis=0))\n",
    "pd.DataFrame(x['signals']).plot(label='%s phase 20004', color = 'violet')\n",
    "ins_conv_df.loc[ins_conv_df['pid'] == 20001]['insulin_pmol'].plot(label='%s phase 20004', color = 'blue')\n",
    "\n",
    "# adding title to the plot\n",
    "plt.title('ROI phase')\n",
    "\n",
    "# adding Label to the x-axis\n",
    "plt.xlabel('time')\n",
    "\n",
    "# adding legend to the curve\n",
    "plt.legend()"
   ]
  },
  {
   "cell_type": "markdown",
   "id": "607b41ca",
   "metadata": {},
   "source": [
    "# Standardizing the timeseries (brain and insulin seperately)"
   ]
  },
  {
   "cell_type": "markdown",
   "id": "11b7409a",
   "metadata": {},
   "source": [
    "Switch to both robust, ~~then seperate the negative (abs) and postive values~~, then run through the pipeline.\n",
    "4/27 had to switch both to standard cause robust obliterated the insulin"
   ]
  },
  {
   "cell_type": "code",
   "execution_count": null,
   "id": "6ea587ab",
   "metadata": {},
   "outputs": [],
   "source": [
    "def combo(path2ts, path2insulin, outpath, instatus):\n",
    "    prets = pd.read_csv(path2ts, sep = '  ', header = None)\n",
    "    print(prets.shape)\n",
    "    x = prets.shape[1]\n",
    "    if x > len(heads):\n",
    "#         pdb.set_trace()\n",
    "        if x - len(heads) == 2:\n",
    "            cols = [-2,-1]\n",
    "            prets = prets.drop(prets.columns[cols],axis=1)\n",
    "        if x - len(heads) == 1:\n",
    "            cols = [-1]\n",
    "            prets = prets.drop(prets.columns[cols],axis=1)\n",
    "    transformer = StandardScaler().fit(prets)\n",
    "    ts = pd.DataFrame(data = transformer.transform(prets))\n",
    "    ts = ts.set_axis(heads, axis=1, inplace=False)\n",
    "    ts['TR'] = ts.index\n",
    "    ts['TR'] = pd.to_datetime(ts['TR'], unit='s')\n",
    "    ts_downsamp = ts.set_index('TR').resample('60S').mean().dropna().reset_index()\n",
    "    ts_downsamp = ts_downsamp.rename({'TR': 'time'}, axis=1)\n",
    "    df = ts_downsamp\n",
    "    print(df.shape)\n",
    "    \n",
    "    if instatus == \"clamp\":\n",
    "        in_ts = pd.read_csv(path2insulin, sep = ',', encoding='latin-1')\n",
    "        ins = np.array(in_ts['insulin_uIU_mL']).reshape(-1, 1)\n",
    "        inscaler = StandardScaler()\n",
    "        X = pd.DataFrame(inscaler.fit_transform(ins))\n",
    "        \n",
    "        gluc = np.array(in_ts['glucose_mg_dL']).reshape(-1, 1)\n",
    "        gluscaler = StandardScaler()\n",
    "        Y = pd.DataFrame(gluscaler.fit_transform(gluc))\n",
    "\n",
    "        in_ts['insulin_uIU_mL'] = X\n",
    "        in_ts['glucose_mg_dL'] = Y\n",
    "        \n",
    "        in_ts['time'] = in_ts['time'] - 1\n",
    "        in_ts['time'] = pd.to_datetime(in_ts['time'], unit='m')\n",
    "\n",
    "        df = pd.merge(df, in_ts, on='time', how='outer')\n",
    "        df = df.drop(['label','sex','pid'], 1)\n",
    "        df.drop(df.index[:4], inplace=True)\n",
    "        \n",
    "    fp = outpath\n",
    "    df.to_csv(fp, index=False)"
   ]
  },
  {
   "cell_type": "code",
   "execution_count": null,
   "id": "b373ed57",
   "metadata": {},
   "outputs": [],
   "source": [
    "labels = '/Users/gracer/Documents/BBC_21-2939_prepro_data/atlases/CIT168_Reinf_Learn_v1.1.0/labels.csv'\n",
    "bbasepath = '/Users/gracer/Documents/BBC_21-2939_prepro_data/derivatives/output/base'\n",
    "clamppath = '/Users/gracer/Documents/BBC_21-2939_prepro_data/derivatives/output/clamp'\n",
    "ppath = '/Users/gracer/Documents/BBC_21-2939_prepro_data/derivatives/output/'"
   ]
  },
  {
   "cell_type": "code",
   "execution_count": null,
   "id": "0dde00da",
   "metadata": {},
   "outputs": [],
   "source": [
    "ROI_names = pd.read_csv(labels,sep = ',')\n",
    "heads = list(ROI_names['ROI'])"
   ]
  },
  {
   "cell_type": "code",
   "execution_count": null,
   "id": "4291c6ec",
   "metadata": {
    "scrolled": true
   },
   "outputs": [],
   "source": [
    "for task in tasks:\n",
    "    for sub_path in glob.glob(os.path.join(ppath,'%s'%task,'*')):\n",
    "        print(sub_path)\n",
    "        sub = sub_path.split('/')[-1]\n",
    "        style = sub_path.split('/')[-2]\n",
    "        path2ts = os.path.join(sub_path,'corrlabel_ts.txt')\n",
    "        path2insulin = os.path.join('/Users/gracer/Documents/BBC_21-2939_insulin','%s.csv'%sub)\n",
    "        outpath = os.path.join(sub_path,'total_ts.csv')\n",
    "        combo(path2ts, path2insulin, outpath, style)"
   ]
  },
  {
   "cell_type": "code",
   "execution_count": null,
   "id": "ac3d329a",
   "metadata": {
    "scrolled": false
   },
   "outputs": [],
   "source": [
    "for task in tasks:\n",
    "    for outpath in glob.glob(os.path.join(ppath,'%s'%task,'*')):\n",
    "        sub = outpath.split('/')[-1]\n",
    "        print(sub)\n",
    "        txtfile = 'corrlabel_ts.txt'\n",
    "        correlations(outpath, txtfile)"
   ]
  },
  {
   "cell_type": "code",
   "execution_count": null,
   "id": "0b23c82d",
   "metadata": {},
   "outputs": [],
   "source": [
    "sub_timeseries_w_na = {}\n",
    "for txtfile in glob.glob(os.path.join(clamppath,'*','total_ts.csv')):\n",
    "    print(txtfile)\n",
    "    df = pd.read_csv(txtfile)\n",
    "    sub = txtfile.split('/')[-2]\n",
    "#     df.reset_index(inplace=True, drop=True)\n",
    "    df = df.set_index('time')\n",
    "    df = df.drop(['PBP','VTA','SNr','glucose_mg_dL'], 1)\n",
    "    sub_timeseries_w_na[sub] = df\n"
   ]
  },
  {
   "cell_type": "code",
   "execution_count": null,
   "id": "cd082c32",
   "metadata": {},
   "outputs": [],
   "source": [
    "def get_subject_roi(data, roi):\n",
    "    sub_rois = {}\n",
    "    for sub in data:\n",
    "        sub_rois[sub] = data[sub][roi]\n",
    "    return pd.DataFrame(sub_rois)"
   ]
  },
  {
   "cell_type": "code",
   "execution_count": null,
   "id": "bb83a7f0",
   "metadata": {
    "scrolled": true
   },
   "outputs": [],
   "source": [
    "heady = list(sub_timeseries_w_na['20001'].columns.values)"
   ]
  },
  {
   "cell_type": "code",
   "execution_count": null,
   "id": "92d4eaf1",
   "metadata": {},
   "outputs": [],
   "source": [
    "sub_timeseries = {}\n",
    "for sub,data in sub_timeseries_w_na.items():\n",
    "    print(sub)\n",
    "    sub_timeseries[sub] = data.dropna()"
   ]
  },
  {
   "cell_type": "code",
   "execution_count": null,
   "id": "ca2cadd8",
   "metadata": {},
   "outputs": [],
   "source": [
    "bg_img = '/Users/gracer/Documents/BBC_21-2939_prepro_data/derivatives/reg/20004_base_example_func_T12func.nii.gz'"
   ]
  },
  {
   "cell_type": "markdown",
   "id": "616a09be",
   "metadata": {},
   "source": [
    "## Time syncrony"
   ]
  },
  {
   "cell_type": "markdown",
   "id": "3a7b3d74",
   "metadata": {},
   "source": [
    "I think this is the way to go but I need to standardized the insulin data and the brain seperately then put them together so they are in the same metrics"
   ]
  },
  {
   "cell_type": "markdown",
   "id": "e829a326",
   "metadata": {},
   "source": [
    "https://naturalistic-data.org/content/Intersubject_Correlation.html#intersubject-phase-synchrony-tutorial"
   ]
  },
  {
   "cell_type": "code",
   "execution_count": 24,
   "id": "45c7a2db",
   "metadata": {},
   "outputs": [],
   "source": [
    "def _phase_vector_length_sine_only(phase_angles):\n",
    "    \"\"\"\n",
    "    Only going to get the sine of the phase_angles\n",
    "    Compute vector length of phase angles using circular statistics\n",
    "\n",
    "    Can take 1D (observation for a single feature) or 2D (observation x feature) signals\n",
    "\n",
    "    Implementation from:\n",
    "\n",
    "        Fisher, N. I. (1995). Statistical analysis of circular data. cambridge university press.\n",
    "\n",
    "    Args:\n",
    "        phase_angles: (np.array) 1D or 2D array of phase angles\n",
    "\n",
    "    Returns:\n",
    "         phase angle vector length: (np.array)\n",
    "\n",
    "    \"\"\"\n",
    "\n",
    "    axis = 0 if len(phase_angles.shape) == 1 else 1\n",
    "    return np.float32(\n",
    "#             np.mean(np.cos(phase_angles), axis=axis) ** 2 +\n",
    "              np.mean(np.sin(phase_angles), axis=axis))"
   ]
  },
  {
   "cell_type": "code",
   "execution_count": null,
   "id": "1edc37a4",
   "metadata": {},
   "outputs": [],
   "source": [
    "def b_bandpass_filter(data, low_cut, high_cut, fs, axis=0, order=5):\n",
    "    \"\"\"\n",
    "    Apply a bandpass butterworth filter with zero-phase filtering\n",
    "\n",
    "    Args:\n",
    "        data: (np.array)\n",
    "        low_cut: (float) lower bound cutoff for high pass filter\n",
    "        high_cut: (float) upper bound cutoff for low pass filter\n",
    "        fs: (float) sampling frequency in Hz\n",
    "        axis: (int) axis to perform filtering.\n",
    "        order: (int) filter order for butterworth bandpass\n",
    "\n",
    "    Returns:\n",
    "        bandpass filtered data.\n",
    "    \"\"\"\n",
    "    nyq = 0.5 * fs\n",
    "    b, a = butter(order, [low_cut / nyq, high_cut / nyq], btype=\"band\")\n",
    "    return filtfilt(b, a, data, axis=axis)"
   ]
  },
  {
   "cell_type": "code",
   "execution_count": null,
   "id": "965a733a",
   "metadata": {},
   "outputs": [],
   "source": [
    "def isps_insulin(data, pairwise=False):\n",
    "    #Updated with sine only phase \n",
    "    if not isinstance(data, (pd.DataFrame, np.ndarray)):\n",
    "        raise ValueError(\"data must be a pandas dataframe or numpy array (observations by subjects)\")\n",
    "    phase = np.angle(hilbert(pd.DataFrame(data), axis=0))\n",
    "    out = {\"average_angle\": _phase_mean_angle(phase)}\n",
    "    out[\"vector_length\"] = _phase_vector_length_sine_only(phase)\n",
    "    return out\n"
   ]
  },
  {
   "cell_type": "markdown",
   "id": "a38a8d31",
   "metadata": {},
   "source": [
    "# About frequencies\n",
    "* intrinsic mode functions (IMFs)\n",
    "* variational mode decomposition (VMD)  \n",
    "(1) estimate individual IMFs by computing the Hilbert transform of the original signal f  \n",
    "(2) shift each mode to its base frequency using heterodyne demodulation  \n",
    "(3) estimate the bandwidth of each mode as the H1 Gaussian smoothness of the demodulated signal.\n",
    "\n",
    "The frequencies used in this analysis are dervived from (10.3389/fnins.2019.00900). They found 4 frequencies. \n",
    "* VMD IMF1: 0.20–0.24 Hz\n",
    "* VMD IMF2: 0.13–0.17 Hz\n",
    "* VMD IMF3: 0.063–0.098 Hz\n",
    "* VMD IMF4: 0.021–0.036 Hz  \n",
    "Their results are summarized here: IMF4 being the most stable across brain regions and IMF2 being the least. Highest correlations between brain regions are found using IMF4, followed by IMF3, while no strong patterns were seen for IMFs 1 and 2. We have identified the frequency cluster IMF3 as most representative of neutrally relevant BOLD, both by frequency and by spatial contribution."
   ]
  },
  {
   "cell_type": "code",
   "execution_count": null,
   "id": "4db33235",
   "metadata": {},
   "outputs": [],
   "source": [
    "# tr = 1\n",
    "# roi = 'Pu'\n",
    "\n",
    "# frequencies = [(0.01, 0.027),(0.027, 0.073),(0.073, 0.198),(0.198, 0.25)]\n",
    "\n",
    "# time_freq = {}\n",
    "# for i,cutoff in enumerate(frequencies):\n",
    "#     time_freq[i] = isps(get_subject_roi(sub_timeseries, roi).dropna(), low_cut=cutoff[0], high_cut=cutoff[1], sampling_freq=1/tr, order=5)\n",
    "    "
   ]
  },
  {
   "cell_type": "markdown",
   "id": "ab80d5d7",
   "metadata": {},
   "source": [
    "# Get the phases of the rois\n",
    "This will get the phases for each roi per subject. This is using a bandpass filter and the hilbert transform in line with previous methods. "
   ]
  },
  {
   "cell_type": "code",
   "execution_count": null,
   "id": "21a9e18f",
   "metadata": {},
   "outputs": [],
   "source": [
    "phaze = {}\n",
    "tr = 1\n",
    "time = {}\n",
    "out = {}\n",
    "frequencies = [(0.021, 0.036),(0.063, 0.098),(0.13, 0.17),(0.2, 0.25)]\n",
    "frq = ['IMF4: 0.021–0.036 Hz','IMF3: 0.063–0.098 Hz','IMF2: 0.13–0.17 Hz','IMF1: 0.20–0.25 Hz']\n",
    "for roi in heady[0:-1]:\n",
    "    print(roi)\n",
    "    df = get_subject_roi(sub_timeseries, roi).dropna()\n",
    "    names = df.columns\n",
    "    time[roi] = df.index\n",
    "    phaze[roi]={}\n",
    "    for name in names:\n",
    "        phaze[roi][name]={}\n",
    "        for x, freq in enumerate(frequencies):\n",
    "            phaze[roi][name][frq[x]] = np.angle(\n",
    "                hilbert(b_bandpass_filter(get_subject_roi(sub_timeseries, roi).dropna()[name], low_cut=freq[0], high_cut=freq[1], fs=1/tr, order=5), \n",
    "                        axis=0,))\n",
    "\n",
    "\n"
   ]
  },
  {
   "cell_type": "markdown",
   "id": "86f10f92",
   "metadata": {},
   "source": [
    "# Get insulin phase\n",
    "This is a hilbert transform to smooth the insulin time series. This produces a smooth insulin curve per subject. We will refer to this as the phase"
   ]
  },
  {
   "cell_type": "code",
   "execution_count": null,
   "id": "1de985fe",
   "metadata": {},
   "outputs": [],
   "source": [
    "insulin_df = get_subject_roi(sub_timeseries, 'insulin_uIU_mL').dropna()\n",
    "subs = insulin_df.columns\n",
    "in_sync = {}\n",
    "for x in subs:\n",
    "    in_sync[x] = np.angle(hilbert(insulin_df[x], axis=0))"
   ]
  },
  {
   "cell_type": "code",
   "execution_count": null,
   "id": "89e69085",
   "metadata": {
    "scrolled": true
   },
   "outputs": [],
   "source": [
    "df_ins = pd.DataFrame.from_dict(in_sync)"
   ]
  },
  {
   "cell_type": "code",
   "execution_count": null,
   "id": "d0511b90",
   "metadata": {},
   "outputs": [],
   "source": [
    "def _phase_rayleigh_p(phase_angles):\n",
    "    \"\"\"Compute the p-value of the phase_angles using the Rayleigh statistic\n",
    "\n",
    "    Note: this test assumes every time point is independent, which is unlikely to be true in a timeseries with autocorrelation\n",
    "\n",
    "    Implementation from:\n",
    "\n",
    "        Fisher, N. I. (1995). Statistical analysis of circular data. cambridge university press.\n",
    "\n",
    "    Args:\n",
    "        phase_angles: (np.array) 1D or 2D array of phase angles\n",
    "\n",
    "    Returns:\n",
    "         p-values: (np.array)\n",
    "\n",
    "    \"\"\"\n",
    "\n",
    "    n = len(phase_angles) if len(phase_angles.shape) == 1 else phase_angles.shape[1]\n",
    "\n",
    "    Z = n * _phase_vector_length(phase_angles) ** 2\n",
    "    if n <= 50:\n",
    "        return np.exp(-1 * Z) * (\n",
    "            1\n",
    "            + (2 * Z - Z ** 2) / (4 * n)\n",
    "            - (24 * Z - 132 * Z ** 2 + 76 * Z ** 3 - 9 * Z ** 4) / (288 * n ** 2)\n",
    "        )\n",
    "    else:\n",
    "        return np.exp(-1 * Z)"
   ]
  },
  {
   "cell_type": "markdown",
   "id": "f764c05b",
   "metadata": {},
   "source": [
    "# Get the phase vector length of insulin and ROI\n",
    "~~Here we combine the smoothed insulin phases and the filtered and smoothed ROI phases on a per ROI bases. This means the 4 insulin curves (1 per subject) are combined with the 4 ROI curves (1 per subject). We then calculate the phase vector length. A small phase vector length means the curves are not similar, a large phase vector length means the curves are in the same direction. ~~\n",
    "\n",
    "\n",
    "Going to do this pairwise with 1 insulin curve and 1 ROI persubject"
   ]
  },
  {
   "cell_type": "code",
   "execution_count": null,
   "id": "713dc9f0",
   "metadata": {},
   "outputs": [],
   "source": [
    "len(in_sync['20008'])"
   ]
  },
  {
   "cell_type": "code",
   "execution_count": null,
   "id": "338c4f57",
   "metadata": {},
   "outputs": [],
   "source": [
    "phaze.keys()"
   ]
  },
  {
   "cell_type": "code",
   "execution_count": null,
   "id": "0552f839",
   "metadata": {
    "scrolled": true
   },
   "outputs": [],
   "source": [
    "faze = {}\n",
    "p_faze = {}\n",
    "kura = {}\n",
    "for roi,subs in phaze.items():\n",
    "    print(roi)\n",
    "    faze[roi]={}\n",
    "    p_faze[roi]={}\n",
    "    kura[roi]={}\n",
    "    for sub, freq in subs.items():\n",
    "        print(sub)\n",
    "        faze[roi][sub]={}\n",
    "        p_faze[roi][sub]={}\n",
    "        kura[roi][sub]={}\n",
    "        for hz, df in freq.items():\n",
    "#             print(frq)\n",
    "            allphase = np.hstack((in_sync[sub], df))\n",
    "            allphase = np.reshape(allphase, (40,2))\n",
    "#             plot_activity(allphase.T)\n",
    "#             plot_phase_coherence(allphase.T)\n",
    "            kura[roi][sub][hz] = [Kuramoto.phase_coherence(vec) for vec in allphase]\n",
    "            out = {\"average_angle\": _phase_mean_angle(allphase)}\n",
    "            faze[roi][sub][hz]=_phase_vector_length_sine_only(allphase)\n",
    "            p_faze[roi][sub][hz] = _phase_rayleigh_p(allphase)"
   ]
  },
  {
   "cell_type": "code",
   "execution_count": null,
   "id": "520077df",
   "metadata": {},
   "outputs": [],
   "source": [
    "kura['Pu']['20008']\n"
   ]
  },
  {
   "cell_type": "markdown",
   "id": "749841e8",
   "metadata": {},
   "source": [
    "# Plots of phase similarity\n",
    "These plots show the similarity between the insulin and ROI curves at different frequency bands of the ROI signal (we are assuming there is only a single band of insulin). Yellow indicates high syncronicity and black means no syncronicity. The larger bands show little similarity and are usually \"noise\""
   ]
  },
  {
   "cell_type": "code",
   "execution_count": null,
   "id": "50e38130",
   "metadata": {},
   "outputs": [],
   "source": [
    "total_df = []\n",
    "for sub, data in faze['HTH'].items():\n",
    "    x = pd.DataFrame.from_dict(data)\n",
    "    x['sub'] = sub\n",
    "    total_df.append(x)\n",
    "#     for freq, df in data.items():\n",
    "#         total_df."
   ]
  },
  {
   "cell_type": "code",
   "execution_count": null,
   "id": "1dc6152c",
   "metadata": {},
   "outputs": [],
   "source": [
    "sync_df = pd.concat(total_df)"
   ]
  },
  {
   "cell_type": "code",
   "execution_count": null,
   "id": "cbc705f0",
   "metadata": {},
   "outputs": [],
   "source": [
    "plt.hist(sync_df['IMF3: 0.063–0.098 Hz'], bins='auto')"
   ]
  },
  {
   "cell_type": "code",
   "execution_count": null,
   "id": "63074379",
   "metadata": {},
   "outputs": [],
   "source": [
    "sync_df"
   ]
  },
  {
   "cell_type": "markdown",
   "id": "8084d119",
   "metadata": {},
   "source": [
    "# Potential interpretations \n",
    "\n",
    "possible saturation of insulin rt == pattern of sync? in and out of sync? need the switch between saturation at the level of the hypothalamus. Check Km value of CNS insulin receptor. Check lit on difference in fMRI frequencies.    "
   ]
  },
  {
   "cell_type": "markdown",
   "id": "cd6c2c05",
   "metadata": {},
   "source": [
    "# To do\n",
    "\n",
    "* Sync graph across all subs, hypothalamus, hippo, and visual \n",
    "* Sync with glucose \n",
    "* connectivity and hth late breakings \n"
   ]
  },
  {
   "cell_type": "code",
   "execution_count": null,
   "id": "ec326181",
   "metadata": {},
   "outputs": [],
   "source": [
    "heady"
   ]
  },
  {
   "cell_type": "code",
   "execution_count": null,
   "id": "a4787366",
   "metadata": {},
   "outputs": [],
   "source": [
    "frq = 'IMF3: 0.063–0.098 Hz'\n",
    "roi = 'HTH'"
   ]
  },
  {
   "cell_type": "code",
   "execution_count": null,
   "id": "3a12f7d1",
   "metadata": {},
   "outputs": [],
   "source": [
    "total_df = []\n",
    "for sub, data in phaze[roi].items():\n",
    "    x = pd.DataFrame.from_dict(data)\n",
    "    x['sub'] = sub\n",
    "    x['time'] = time[roi]\n",
    "    x['time'] = pd.to_datetime(x['time'])\n",
    "    x['time'] = x['time'].dt.strftime('%H:%M:%S')\n",
    "    x = x.set_index('time')\n",
    "    total_df.append(x)\n",
    "df = pd.concat(total_df)"
   ]
  },
  {
   "cell_type": "code",
   "execution_count": null,
   "id": "bfcb521f",
   "metadata": {},
   "outputs": [],
   "source": [
    "total_df1 = []\n",
    "for sub, data in faze[roi].items():\n",
    "    x = pd.DataFrame.from_dict(data)\n",
    "    x['sub'] = sub\n",
    "    x['time'] = time[roi]\n",
    "    x['time'] = pd.to_datetime(x['time'])\n",
    "    x['time'] = x['time'].dt.strftime('%H:%M:%S')\n",
    "    x = x.set_index('time')\n",
    "    total_df1.append(x)\n",
    "sync_df = pd.concat(total_df1)"
   ]
  },
  {
   "cell_type": "code",
   "execution_count": null,
   "id": "c72e51c6",
   "metadata": {
    "scrolled": false
   },
   "outputs": [],
   "source": [
    "\n",
    "plt.figure(figsize=(16, 8), dpi=150)\n",
    "\n",
    "# sync_df.loc[sync_df['sub'] == '20001'][frq].plot(label='20001', color = 'red')\n",
    "sync_df.loc[sync_df['sub'] == '20002'][frq].plot(label='20002', color = 'blue')\n",
    "sync_df.loc[sync_df['sub'] == '20003'][frq].plot(label='20003', color = 'green')\n",
    "sync_df.loc[sync_df['sub'] == '20004'][frq].plot(label='20004', color = 'purple')\n",
    "sync_df.loc[sync_df['sub'] == '20008'][frq].plot(label='20008', color = 'orange')\n",
    "#     df.loc[df['sub'] == '20010'][x].plot(label='20010', color = 'black')\n",
    "\n",
    "# adding title to the plot\n",
    "plt.title('Synchronicity')\n",
    "\n",
    "# adding Label to the x-axis\n",
    "plt.xlabel('time')\n",
    "\n",
    "# adding legend to the curve\n",
    "plt.legend()"
   ]
  },
  {
   "cell_type": "code",
   "execution_count": null,
   "id": "12d7d76b",
   "metadata": {},
   "outputs": [],
   "source": [
    "plt.figure(figsize=(16, 8), dpi=150)\n",
    "\n",
    "# df.loc[df['sub'] == '20001'][frq].plot(label='20001', color = 'purple')\n",
    "df.loc[df['sub'] == '20002'][frq].plot(label='20002', color = 'fuchsia')\n",
    "# df.loc[df['sub'] == '20004'][frq].plot(label='20004', color = 'deeppink')\n",
    "# df.loc[df['sub'] == '20010'][frq].plot(label='%s phase 20010'%roi, color = 'violet')\n",
    "# df_ins['20001'].plot(label='20001', color = 'forestgreen')\n",
    "df_ins['20002'].plot(label='20002', color = 'limegreen')\n",
    "# df_ins['20004'].plot(label='20003', color = 'greenyellow')\n",
    "# df_ins['20010'].plot(label='insulin phase 20010', color = 'green')\n",
    "\n",
    "# sync_df.loc[sync_df['sub'] == '20010'][frq].plot(label='sync 20010', color = 'black')\n",
    "# sync_df.loc[sync_df['sub'] == '20004'][frq].plot(label='sync 20004', color = 'lightblue')\n",
    "\n",
    "# sync_df.loc[sync_df['sub'] == '20001'][frq].plot(label='sync 20001', color = 'violet')\n",
    "# sync_df.loc[sync_df['sub'] == '20002'][frq].plot(label='sync 20002', color = 'limegreen')\n",
    "\n",
    "# sync_df.loc[sync_df['sub'] == '20003'][frq].plot(label='sync 20003', color = 'orange')\n",
    "# sync_df.loc[sync_df['sub'] == '20004'][frq].plot(label='sync 20004', color = 'deeppink')\n",
    "\n",
    "# sync_df.loc[sync_df['sub'] == '200048'][frq].plot(label='sync 20008', color = 'purple')\n",
    "\n",
    "#     df.loc[df['sub'] == '20008'][x].plot(label='20008', color = 'orange')\n",
    "#     df.loc[df['sub'] == '20010'][x].plot(label='20010', color = 'black')\n",
    "\n",
    "# adding title to the plot\n",
    "plt.title('ROI phase')\n",
    "\n",
    "# adding Label to the x-axis\n",
    "plt.xlabel('time')\n",
    "\n",
    "# adding legend to the curve\n",
    "plt.legend()"
   ]
  },
  {
   "cell_type": "code",
   "execution_count": null,
   "id": "0b959498",
   "metadata": {},
   "outputs": [],
   "source": [
    "for roi, dat in faze.items():\n",
    "    sync_df = []\n",
    "    for sub, data in dat.items():\n",
    "        x = pd.DataFrame.from_dict(data)\n",
    "        x['sub'] = sub\n",
    "        x['time'] = time[roi]\n",
    "        x['time'] = pd.to_datetime(x['time'])\n",
    "        x['time'] = x['time'].dt.strftime('%H:%M:%S')\n",
    "        x = x.set_index('time')\n",
    "        sync_df.append(x)\n",
    "    sync_df = pd.concat(sync_df)\n",
    "    sync_df.to_csv(os.path.join(basepath,'derivatives','output','dfs','sync_%s.csv'%roi))  "
   ]
  },
  {
   "cell_type": "markdown",
   "id": "d909e691",
   "metadata": {},
   "source": [
    "# Kuramoto"
   ]
  },
  {
   "cell_type": "code",
   "execution_count": null,
   "id": "29d6cf78",
   "metadata": {},
   "outputs": [],
   "source": [
    "from kuramoto import Kuramoto, plot_phase_coherence, plot_activity\n"
   ]
  },
  {
   "cell_type": "code",
   "execution_count": null,
   "id": "74ce1d7c",
   "metadata": {},
   "outputs": [],
   "source": [
    "kura.keys()"
   ]
  },
  {
   "cell_type": "code",
   "execution_count": null,
   "id": "f0f293c4",
   "metadata": {},
   "outputs": [],
   "source": [
    "for roi, dat in kura.items():\n",
    "    k_df = []\n",
    "    for sub, data in kura[roi].items():\n",
    "        x = pd.DataFrame.from_dict(data)\n",
    "        x['sub'] = sub\n",
    "        x['time'] = time[roi]\n",
    "        x['time'] = pd.to_datetime(x['time'])\n",
    "        x['time'] = x['time'].dt.strftime('%H:%M:%S')\n",
    "        x = x.set_index('time')\n",
    "        k_df.append(x)\n",
    "    kura_df = pd.concat(k_df)\n",
    "    kura_df.to_csv(os.path.join(basepath,'derivatives','output','dfs','kuramoto_%s.csv'%roi))  "
   ]
  },
  {
   "cell_type": "code",
   "execution_count": null,
   "id": "465f0d65",
   "metadata": {},
   "outputs": [],
   "source": [
    "basepath"
   ]
  },
  {
   "cell_type": "code",
   "execution_count": null,
   "id": "1bcd2439",
   "metadata": {},
   "outputs": [],
   "source": [
    "kura_df = pd.concat(k_df)"
   ]
  },
  {
   "cell_type": "code",
   "execution_count": null,
   "id": "ef887e4d",
   "metadata": {},
   "outputs": [],
   "source": [
    "plt.figure(figsize=(16, 8), dpi=150, facecolor='white')\n",
    "frq = 'IMF3: 0.063–0.098 Hz'\n",
    "colors = ['mediumblue', 'teal','deeppink','firebrick','forestgreen','dodgerblue']\n",
    "i = 0 \n",
    "for sub, data in kura['HTH'].items():\n",
    "    print(sub)\n",
    "    print(i)\n",
    "    kura_df.loc[kura_df['sub'] == sub][frq].plot(label='%s'%sub, color = '%s'%colors[i], marker = 'o')\n",
    "    i = i+1\n",
    "\n",
    "# adding title to the plot\n",
    "plt.title('Order parameter Rt over time')\n",
    "\n",
    "# adding Label to the x-axis\n",
    "plt.xlabel('time')\n",
    "plt.ylabel('Kuramoto rder parameter (Rt)')\n",
    "\n",
    "# ax.set_facecolor('white')\n",
    "\n",
    "# adding legend to the curve\n",
    "plt.legend()"
   ]
  },
  {
   "cell_type": "code",
   "execution_count": null,
   "id": "701afed7",
   "metadata": {},
   "outputs": [],
   "source": [
    "big_df = []\n",
    "frq = 'IMF3: 0.063–0.098 Hz'\n",
    "for ROI, dat in kura.items():\n",
    "    print(dat.keys())\n",
    "    for sub, data in dat.items():\n",
    "        df = pd.DataFrame({'time':time['%s'%ROI],'sub':sub,'roi':ROI, '%s'%frq:data[frq]})\n",
    "        big_df.append(df)"
   ]
  },
  {
   "cell_type": "code",
   "execution_count": null,
   "id": "69c6010f",
   "metadata": {},
   "outputs": [],
   "source": [
    "all_df = pd.concat(big_df)"
   ]
  },
  {
   "cell_type": "code",
   "execution_count": null,
   "id": "ea72956d",
   "metadata": {},
   "outputs": [],
   "source": [
    "k_df = []\n",
    "for sub, data in kura['Hippo'].items():\n",
    "    x = pd.DataFrame.from_dict(data)\n",
    "    x['sub'] = sub\n",
    "    x['time'] = time['HTH']\n",
    "    x['time'] = pd.to_datetime(x['time'])\n",
    "    x['time'] = x['time'].dt.strftime('%H:%M:%S')\n",
    "    x = x.set_index('time')\n",
    "    k_df.append(x)\n",
    "kura_df = pd.concat(k_df)"
   ]
  },
  {
   "cell_type": "code",
   "execution_count": null,
   "id": "040d493f",
   "metadata": {},
   "outputs": [],
   "source": [
    "frq = 'IMF3: 0.063–0.098 Hz'\n",
    "r = 2\n",
    "step = 5\n",
    "\n",
    "a = all_df['sub'].unique()\n",
    "b = all_df['roi'].unique()\n",
    "keep = []\n",
    "for sub in a:\n",
    "    for roi in b:\n",
    "        keep.append(all_df.loc[(all_df['sub'] == sub) & (all_df['roi'] == roi)][all_df.loc[(all_df['sub'] == sub) & (all_df['roi'] == roi)][frq].round(r).eq(all_df[(all_df['sub'] == sub) & (all_df['roi'] == roi)][frq].shift().round(r)).rolling(step).sum().eq(step)])\n",
    "\n",
    "onset_df = pd.concat(keep)\n"
   ]
  },
  {
   "cell_type": "code",
   "execution_count": null,
   "id": "c14c2a80",
   "metadata": {},
   "outputs": [],
   "source": [
    "onset_df['Time 2'] = pd.to_datetime(onset_df['time']).values.astype(np.int64)"
   ]
  },
  {
   "cell_type": "code",
   "execution_count": null,
   "id": "453d6a2a",
   "metadata": {},
   "outputs": [],
   "source": [
    "y = onset_df.groupby('roi')['Time 2'].max() - onset_df.groupby('roi')['Time 2'].min()\n",
    "len_sync = pd.to_datetime(y, unit='ns')\n",
    "len_sync"
   ]
  },
  {
   "cell_type": "code",
   "execution_count": null,
   "id": "ea0a0da9",
   "metadata": {},
   "outputs": [],
   "source": []
  },
  {
   "cell_type": "markdown",
   "id": "b24ba0b2",
   "metadata": {},
   "source": [
    "# Null models"
   ]
  },
  {
   "cell_type": "markdown",
   "id": "ca9ed2de",
   "metadata": {},
   "source": [
    "## Phase Randomization\n",
    "Going to use phase randomization to generate a randome surrogate of the data. This should maintain the temporal and autoregressive structure of the data. Will need to figure out how to do this with the insulin data"
   ]
  },
  {
   "cell_type": "code",
   "execution_count": null,
   "id": "1876b8e0",
   "metadata": {},
   "outputs": [],
   "source": [
    "# def so_random(roi):\n",
    "#     randoms = {roi: {}}\n",
    "#     sub_rois = get_subject_roi(sub_timeseries, '%s'%roi)\n",
    "#     subs = list(sub_rois.columns)\n",
    "#     for sub in subs:\n",
    "#         it = list(range(0, 50000))\n",
    "#         so_ran = []\n",
    "#         for x, y in enumerate (it): \n",
    "#             so_ran.append(phase_randomize(sub_rois['%s'%sub].dropna()))\n",
    "#         randoms[roi][sub] = np.mean(so_ran, axis=0)\n",
    "#     return(randoms)"
   ]
  },
  {
   "cell_type": "code",
   "execution_count": null,
   "id": "d47c85b9",
   "metadata": {},
   "outputs": [],
   "source": [
    "list(sub_timeseries.keys())"
   ]
  },
  {
   "cell_type": "code",
   "execution_count": null,
   "id": "d7a4ca35",
   "metadata": {},
   "outputs": [],
   "source": [
    "def so_random(sub):\n",
    "    randoms = {sub: {}}\n",
    "    for roi in heady:\n",
    "        sub_rois = get_subject_roi(sub_timeseries, '%s'%roi).dropna()\n",
    "        it = list(range(0, 500000))\n",
    "        so_ran = []\n",
    "        for x, y in enumerate (it): \n",
    "            so_ran.append(phase_randomize(sub_rois['%s'%sub]))\n",
    "        randoms[sub][roi] = np.mean(so_ran, axis=0)\n",
    "    return(randoms)"
   ]
  },
  {
   "cell_type": "code",
   "execution_count": null,
   "id": "44f1b335",
   "metadata": {
    "scrolled": true
   },
   "outputs": [],
   "source": [
    "from tqdm import tqdm\n",
    "from multiprocess import Pool\n",
    "\n",
    "max_pool = 5\n",
    "subs = list(sub_timeseries.keys())\n",
    "with Pool(max_pool) as p:\n",
    "    pool_outputs = list(tqdm(p.imap(so_random, subs),total=len(subs)))    \n",
    "\n",
    "total_null ={}\n",
    "for x in pool_outputs:\n",
    "    key, value = list(x.items())[0]\n",
    "    total_null[key] = value"
   ]
  },
  {
   "cell_type": "code",
   "execution_count": null,
   "id": "69934fc9",
   "metadata": {},
   "outputs": [],
   "source": [
    "sub_timeseries['20008']"
   ]
  },
  {
   "cell_type": "code",
   "execution_count": null,
   "id": "6c9be57b",
   "metadata": {
    "scrolled": true
   },
   "outputs": [],
   "source": [
    "pd.DataFrame.from_dict(total_null['20008'])"
   ]
  },
  {
   "cell_type": "code",
   "execution_count": null,
   "id": "16c967c6",
   "metadata": {},
   "outputs": [],
   "source": [
    "sub = '20010'\n",
    "roi = 'Pu'\n",
    "plt.figure(figsize=(16, 8), dpi=150)\n",
    "\n",
    "sub_timeseries['%s'%sub]['%s'%roi].plot(label='%s'%sub, color = 'orange')\n",
    "pd.DataFrame.from_dict(total_null['%s'%sub])['%s'%roi].plot(label='null %s'%sub, color = 'red')\n",
    "\n",
    "# adding title to the plot\n",
    "plt.title('Null Synchronicity')\n",
    "\n",
    "# adding Label to the x-axis\n",
    "plt.xlabel('time')\n",
    "\n",
    "# adding legend to the curve\n",
    "plt.legend()"
   ]
  },
  {
   "cell_type": "code",
   "execution_count": null,
   "id": "e4329402",
   "metadata": {},
   "outputs": [],
   "source": [
    "null_phaze = {}\n",
    "tr = 1\n",
    "time = {}\n",
    "out = {}\n",
    "frequencies = [(0.021, 0.036),(0.063, 0.098),(0.13, 0.17),(0.2, 0.25)]\n",
    "frq = ['IMF4: 0.021–0.036 Hz','IMF3: 0.063–0.098 Hz','IMF2: 0.13–0.17 Hz','IMF1: 0.20–0.25 Hz']\n",
    "for roi in heady[0:-1]:\n",
    "    print(roi)\n",
    "    df = get_subject_roi(total_null, roi)\n",
    "    names = df.columns\n",
    "    time[roi] = df.index\n",
    "    null_phaze[roi]={}\n",
    "    for name in names:\n",
    "        null_phaze[roi][name]={}\n",
    "        for x, freq in enumerate(frequencies):\n",
    "            null_phaze[roi][name][frq[x]] = np.angle(\n",
    "                hilbert(b_bandpass_filter(get_subject_roi(total_null, roi).dropna()[name], low_cut=freq[0], high_cut=freq[1], fs=1/tr, order=5), \n",
    "                        axis=0,))\n",
    "\n"
   ]
  },
  {
   "cell_type": "code",
   "execution_count": null,
   "id": "4bf7a710",
   "metadata": {},
   "outputs": [],
   "source": [
    "null_phaze"
   ]
  },
  {
   "cell_type": "code",
   "execution_count": null,
   "id": "2ca9eb11",
   "metadata": {},
   "outputs": [],
   "source": [
    "null_insulin_df = get_subject_roi(total_null, 'insulin_uIU_mL').dropna()\n",
    "subs = null_insulin_df.columns\n",
    "null_in_sync = {}\n",
    "for x in subs:\n",
    "    null_in_sync[x] = np.angle(hilbert(null_insulin_df[x], axis=0))"
   ]
  },
  {
   "cell_type": "code",
   "execution_count": null,
   "id": "8c47b899",
   "metadata": {},
   "outputs": [],
   "source": [
    "null_faze = {}\n",
    "null_p_faze = {}\n",
    "null_kura = {}\n",
    "for roi,subs in null_phaze.items():\n",
    "    print(roi)\n",
    "    null_faze[roi]={}\n",
    "    null_p_faze[roi]={}\n",
    "    null_kura[roi]={}\n",
    "    for sub, freq in subs.items():\n",
    "        print(sub)\n",
    "        null_faze[roi][sub]={}\n",
    "        null_p_faze[roi][sub]={}\n",
    "        null_kura[roi][sub]={}\n",
    "        for hz, df in freq.items():\n",
    "            null_allphase = np.hstack((null_in_sync[sub], df))\n",
    "            null_allphase = np.reshape(null_allphase, (40,2))\n",
    "            null_kura[roi][sub][hz] = [Kuramoto.phase_coherence(vec) for vec in null_allphase]\n",
    "            null_out = {\"average_angle\": _phase_mean_angle(null_allphase)}\n",
    "            null_faze[roi][sub][hz]=_phase_vector_length_sine_only(null_allphase)\n",
    "            null_p_faze[roi][sub][hz] = _phase_rayleigh_p(null_allphase)"
   ]
  },
  {
   "cell_type": "code",
   "execution_count": null,
   "id": "592fea47",
   "metadata": {},
   "outputs": [],
   "source": [
    "heady"
   ]
  },
  {
   "cell_type": "code",
   "execution_count": null,
   "id": "c7dcd333",
   "metadata": {},
   "outputs": [],
   "source": [
    "frq = 'IMF3: 0.063–0.098 Hz'\n",
    "roi = 'dlPFC'\n",
    "null_total_df1 = []\n",
    "for sub, data in null_faze[roi].items():\n",
    "    x = pd.DataFrame.from_dict(data)\n",
    "    x['sub'] = sub\n",
    "    x['time'] = time[roi]\n",
    "    x['time'] = pd.to_datetime(x['time'])\n",
    "    x['time'] = x['time'].dt.strftime('%H:%M:%S')\n",
    "    x = x.set_index('time')\n",
    "    null_total_df1.append(x)\n",
    "null_sync_df = pd.concat(null_total_df1)"
   ]
  },
  {
   "cell_type": "code",
   "execution_count": null,
   "id": "b807934d",
   "metadata": {},
   "outputs": [],
   "source": [
    "plt.figure(figsize=(16, 8), dpi=150)\n",
    "\n",
    "# sync_df.loc[sync_df['sub'] == '20001'][frq].plot(label='20001', color = 'red')\n",
    "null_sync_df.loc[null_sync_df['sub'] == '20002'][frq].plot(label='20002', color = 'blue')\n",
    "# null_sync_df.loc[null_sync_df['sub'] == '20003'][frq].plot(label='20003', color = 'green')\n",
    "# null_sync_df.loc[null_sync_df['sub'] == '20004'][frq].plot(label='20004', color = 'purple')\n",
    "null_sync_df.loc[null_sync_df['sub'] == '20008'][frq].plot(label='20008', color = 'orange')\n",
    "#     df.loc[df['sub'] == '20010'][x].plot(label='20010', color = 'black')\n",
    "\n",
    "# adding title to the plot\n",
    "plt.title('Null Synchronicity')\n",
    "\n",
    "# adding Label to the x-axis\n",
    "plt.xlabel('time')\n",
    "\n",
    "# adding legend to the curve\n",
    "plt.legend()"
   ]
  },
  {
   "cell_type": "code",
   "execution_count": null,
   "id": "8315f0b8",
   "metadata": {},
   "outputs": [],
   "source": [
    "null_sync_df"
   ]
  },
  {
   "cell_type": "code",
   "execution_count": null,
   "id": "9131542f",
   "metadata": {},
   "outputs": [],
   "source": [
    "null_k_df = []\n",
    "for sub, data in null_kura['dlPFC'].items():\n",
    "    x = pd.DataFrame.from_dict(data)\n",
    "    x['sub'] = sub\n",
    "    x['time'] = time['HTH']\n",
    "    x['time'] = pd.to_datetime(x['time'])\n",
    "    x['time'] = x['time'].dt.strftime('%H:%M:%S')\n",
    "    x = x.set_index('time')\n",
    "    null_k_df.append(x)\n",
    "null_kura_df = pd.concat(null_k_df)"
   ]
  },
  {
   "cell_type": "code",
   "execution_count": null,
   "id": "ffe16885",
   "metadata": {},
   "outputs": [],
   "source": [
    "null_kura_df"
   ]
  },
  {
   "cell_type": "code",
   "execution_count": null,
   "id": "6f217bcd",
   "metadata": {},
   "outputs": [],
   "source": [
    "plt.figure(figsize=(16, 8), dpi=150, facecolor='white')\n",
    "frq = 'IMF3: 0.063–0.098 Hz'\n",
    "colors = ['mediumblue', 'teal','deeppink','firebrick','forestgreen','dodgerblue']\n",
    "i = 0 \n",
    "for sub, data in null_kura['dlPFC'].items():\n",
    "    print(sub)\n",
    "    print(i)\n",
    "    null_kura_df.loc[null_kura_df['sub'] == sub][frq].plot(label='%s'%sub, color = '%s'%colors[i], marker = 'o')\n",
    "    i = i+1\n",
    "\n",
    "# adding title to the plot\n",
    "plt.title('Order parameter Rt over time')\n",
    "\n",
    "# adding Label to the x-axis\n",
    "plt.xlabel('time')\n",
    "plt.ylabel('Kuramoto rder parameter (Rt)')\n",
    "\n",
    "# ax.set_facecolor('white')\n",
    "\n",
    "# adding legend to the curve\n",
    "plt.legend()"
   ]
  },
  {
   "cell_type": "markdown",
   "id": "5b2d6fd4",
   "metadata": {},
   "source": [
    "# Functional connectivity, ISPS"
   ]
  },
  {
   "cell_type": "code",
   "execution_count": null,
   "id": "56cd68a0",
   "metadata": {},
   "outputs": [],
   "source": [
    "kura_df.loc[kura_df['sub'] == sub][frq]"
   ]
  },
  {
   "cell_type": "code",
   "execution_count": null,
   "id": "ea41f89b",
   "metadata": {},
   "outputs": [],
   "source": [
    "n = 6\n",
    "R = np.arange(0,1, .01)\n",
    "Z = n*(R**2)\n",
    "thr = 75\n",
    "p = np.exp(-1*Z)*(1 + (2*Z - Z**2)/(4*n) - (24*Z - 132*Z**2 +76*Z**3 - 9*Z**4)/(288*n**2))\n",
    "\n",
    "plt.figure(figsize=(12, 4))\n",
    "plt.plot(R, p, linewidth=4)\n",
    "plt.axhline(p[thr], linestyle='--', color='red')\n",
    "plt.axvline(R[thr], linestyle='--', color='darkgrey')\n",
    "plt.ylabel('p-Value', fontsize=18)\n",
    "plt.xlabel('Synchrony (Resultant Vector)', fontsize=18)\n",
    "plt.title('Rayleigh p-value Simulation for N=4', fontsize=20)\n",
    "plt.legend(['ISPS Values', 'p < %s'%p[thr], 'ISPS = %s'%R[thr]])"
   ]
  },
  {
   "cell_type": "code",
   "execution_count": null,
   "id": "0d636af0",
   "metadata": {},
   "outputs": [],
   "source": [
    "def bootstrap_subject_matrix(similarity_matrix, random_state=None):\n",
    "    '''This function shuffles subjects within a similarity matrix based on recommendation by Chen et al., 2016'''\n",
    "    \n",
    "    random_state = check_random_state(random_state)\n",
    "    n_sub = similarity_matrix.shape[0]\n",
    "    bootstrap_subject = sorted(random_state.choice(np.arange(n_sub), size=n_sub, replace=True))\n",
    "    return similarity_matrix[bootstrap_subject, :][:, bootstrap_subject]\n"
   ]
  },
  {
   "cell_type": "code",
   "execution_count": null,
   "id": "21d27242",
   "metadata": {},
   "outputs": [],
   "source": [
    "synchrony = {}\n",
    "for roi in heady:\n",
    "    sstats = isps(get_subject_roi(sub_timeseries, roi).dropna(), low_cut=0.01, high_cut=0.027, sampling_freq=1/tr)\n",
    "    synchrony[roi] = sstats['vector_length']\n",
    "synchrony = pd.DataFrame(synchrony)"
   ]
  },
  {
   "cell_type": "code",
   "execution_count": null,
   "id": "1bbb26c2",
   "metadata": {},
   "outputs": [],
   "source": [
    "sync = Adjacency(1 - pairwise_distances(synchrony.T, metric='correlation'), matrix_type='similarity')"
   ]
  },
  {
   "cell_type": "code",
   "execution_count": null,
   "id": "3ff6ac4e",
   "metadata": {},
   "outputs": [],
   "source": [
    "syn = 1 - pairwise_distances(synchrony.T, metric='correlation')"
   ]
  },
  {
   "cell_type": "code",
   "execution_count": null,
   "id": "22277692",
   "metadata": {
    "scrolled": true
   },
   "outputs": [],
   "source": [
    "boots = []\n",
    "for x in range(50000):\n",
    "    X = bootstrap_subject_matrix(syn, random_state=x)\n",
    "    boots.append(X)"
   ]
  },
  {
   "cell_type": "code",
   "execution_count": null,
   "id": "ac8f5e60",
   "metadata": {},
   "outputs": [],
   "source": [
    "null = np.asarray(boots)"
   ]
  },
  {
   "cell_type": "code",
   "execution_count": null,
   "id": "a19c3e53",
   "metadata": {},
   "outputs": [],
   "source": [
    "output = np.mean(null, axis=0)"
   ]
  },
  {
   "cell_type": "code",
   "execution_count": null,
   "id": "a2599436",
   "metadata": {},
   "outputs": [],
   "source": [
    "from scipy import stats\n",
    "ttest = stats.ttest_ind(syn, output,equal_var=False)\n",
    "\n",
    "\n",
    "\n",
    "\n",
    "\n"
   ]
  },
  {
   "cell_type": "code",
   "execution_count": null,
   "id": "66dec8fd",
   "metadata": {},
   "outputs": [],
   "source": [
    "# f,a = plt.subplots(nrows = len(frequencies), figsize=(15,10))\n",
    "tr = 1\n",
    "frequencies = [(0.01, 0.027),(0.027, 0.073),(0.073, 0.198),(0.198, 0.25),(64,200)]\n",
    "sync_freq = {}\n",
    "for i,cutoff in enumerate(frequencies):\n",
    "    sync_freq[i] = {}\n",
    "    for roi in heady:\n",
    "        sync_freq[i][roi] = isps(get_subject_roi(sub_timeseries, roi).dropna(), low_cut=cutoff[0], high_cut=cutoff[1], sampling_freq=1/tr, order=5)['vector_length']\n",
    "#     phase_synchrony_brain = roi_to_brain(pd.DataFrame(synchrony).mean(), mask_x)\n",
    "#     phase_synchrony_brain.plot(cmap='RdBu_r', vmax=1, axes=a[i], threshold=R[thr], title=f\"Frequency cutoff: {cutoff[0]} - {cutoff[1]}\")\n",
    "    \n",
    "    \n",
    "    \n",
    "    \n",
    "    \n",
    "    \n",
    "    "
   ]
  },
  {
   "cell_type": "code",
   "execution_count": null,
   "id": "c405feab",
   "metadata": {
    "scrolled": true
   },
   "outputs": [],
   "source": [
    "sync_freq[2]['insulin_uIU_mL'] "
   ]
  },
  {
   "cell_type": "code",
   "execution_count": null,
   "id": "b61d4353",
   "metadata": {},
   "outputs": [],
   "source": [
    "frequencies[1]"
   ]
  },
  {
   "cell_type": "code",
   "execution_count": null,
   "id": "0fe400f7",
   "metadata": {},
   "outputs": [],
   "source": [
    "synchrony"
   ]
  },
  {
   "cell_type": "code",
   "execution_count": null,
   "id": "3652c20e",
   "metadata": {},
   "outputs": [],
   "source": [
    "tr = 1\n",
    "roi = 'insulin_uIU_mL'\n",
    "\n",
    "f,a = plt.subplots(nrows = len(frequencies), figsize=(15,10))\n",
    "for i,cutoff in enumerate(frequencies):\n",
    "    synchrony = {}\n",
    "    for roi in heady:\n",
    "        synchrony[roi] = isps(get_subject_roi(sub_timeseries, roi).dropna(), low_cut=cutoff[0], high_cut=cutoff[1], sampling_freq=1/tr, order=5)['vector_length']\n",
    "    phase_synchrony_brain = roi_to_brain(pd.DataFrame(synchrony).mean(), mask_x)\n",
    "    phase_synchrony_brain.plot(cmap='RdBu_r', vmax=1, axes=a[i], threshold=R[thr], title=f\"Frequency cutoff: {cutoff[0]} - {cutoff[1]}\")\n"
   ]
  },
  {
   "cell_type": "code",
   "execution_count": null,
   "id": "3ce51fac",
   "metadata": {},
   "outputs": [],
   "source": [
    "f,a = plt.subplots(ncols=2, figsize=(12, 6))\n",
    "\n",
    "sync.plot(vmin=-1, vmax=1, cmap='RdBu_r', axes=a[0], cbar=True)\n",
    "sync.threshold(upper = .1, binarize=True).plot(axes=a[1], cbar=False)\n",
    "a[0].set_title('ISPS Functional Connectivity Matrix', fontsize=18)\n",
    "a[1].set_title('Thresholded ISPS Functional Connectivity Matrix', fontsize=18)\n",
    "plt.tight_layout()"
   ]
  },
  {
   "cell_type": "code",
   "execution_count": null,
   "id": "01f4e9d6",
   "metadata": {},
   "outputs": [],
   "source": [
    "heady[11]"
   ]
  },
  {
   "cell_type": "code",
   "execution_count": null,
   "id": "567e7338",
   "metadata": {},
   "outputs": [],
   "source": [
    "plot_network(sync.threshold(upper = .3, binarize=True))"
   ]
  },
  {
   "cell_type": "code",
   "execution_count": null,
   "id": "c7c87917",
   "metadata": {},
   "outputs": [],
   "source": [
    "degree = pd.Series(dict(sync.threshold(upper=.2, binarize=True).to_graph().degree()))\n",
    "brain_degree = roi_to_brain(degree, mask_x)\n",
    "brain_degree.plot(cmap='RdBu_r')"
   ]
  },
  {
   "cell_type": "markdown",
   "id": "75cbb9dd",
   "metadata": {},
   "source": [
    "https://www.frontiersin.org/articles/10.3389/fnins.2019.00900/full"
   ]
  },
  {
   "cell_type": "code",
   "execution_count": null,
   "id": "dc9114ec",
   "metadata": {},
   "outputs": [],
   "source": []
  },
  {
   "cell_type": "code",
   "execution_count": null,
   "id": "e9e2d156",
   "metadata": {},
   "outputs": [],
   "source": [
    "from matplotlib.patches import Rectangle\n",
    "import matplotlib.pyplot as plt\n",
    "import matplotlib.colors as mcolors\n",
    "\n",
    "\n",
    "def plot_colortable(colors, title, sort_colors=True, emptycols=0):\n",
    "\n",
    "    cell_width = 212\n",
    "    cell_height = 22\n",
    "    swatch_width = 48\n",
    "    margin = 12\n",
    "    topmargin = 40\n",
    "\n",
    "    # Sort colors by hue, saturation, value and name.\n",
    "    if sort_colors is True:\n",
    "        by_hsv = sorted((tuple(mcolors.rgb_to_hsv(mcolors.to_rgb(color))),\n",
    "                         name)\n",
    "                        for name, color in colors.items())\n",
    "        names = [name for hsv, name in by_hsv]\n",
    "    else:\n",
    "        names = list(colors)\n",
    "\n",
    "    n = len(names)\n",
    "    ncols = 4 - emptycols\n",
    "    nrows = n // ncols + int(n % ncols > 0)\n",
    "\n",
    "    width = cell_width * 4 + 2 * margin\n",
    "    height = cell_height * nrows + margin + topmargin\n",
    "    dpi = 72\n",
    "\n",
    "    fig, ax = plt.subplots(figsize=(width / dpi, height / dpi), dpi=dpi)\n",
    "    fig.subplots_adjust(margin/width, margin/height,\n",
    "                        (width-margin)/width, (height-topmargin)/height)\n",
    "    ax.set_xlim(0, cell_width * 4)\n",
    "    ax.set_ylim(cell_height * (nrows-0.5), -cell_height/2.)\n",
    "    ax.yaxis.set_visible(False)\n",
    "    ax.xaxis.set_visible(False)\n",
    "    ax.set_axis_off()\n",
    "    ax.set_title(title, fontsize=24, loc=\"left\", pad=10)\n",
    "\n",
    "    for i, name in enumerate(names):\n",
    "        row = i % nrows\n",
    "        col = i // nrows\n",
    "        y = row * cell_height\n",
    "\n",
    "        swatch_start_x = cell_width * col\n",
    "        text_pos_x = cell_width * col + swatch_width + 7\n",
    "\n",
    "        ax.text(text_pos_x, y, name, fontsize=14,\n",
    "                horizontalalignment='left',\n",
    "                verticalalignment='center')\n",
    "\n",
    "        ax.add_patch(\n",
    "            Rectangle(xy=(swatch_start_x, y-9), width=swatch_width,\n",
    "                      height=18, facecolor=colors[name], edgecolor='0.7')\n",
    "        )\n",
    "\n",
    "    return fig\n",
    "\n",
    "plot_colortable(mcolors.BASE_COLORS, \"Base Colors\",\n",
    "                sort_colors=False, emptycols=1)\n",
    "plot_colortable(mcolors.TABLEAU_COLORS, \"Tableau Palette\",\n",
    "                sort_colors=False, emptycols=2)\n",
    "\n",
    "plot_colortable(mcolors.CSS4_COLORS, \"CSS Colors\")\n",
    "\n",
    "# Optionally plot the XKCD colors (Caution: will produce large figure)\n",
    "# xkcd_fig = plot_colortable(mcolors.XKCD_COLORS, \"XKCD Colors\")\n",
    "# xkcd_fig.savefig(\"XKCD_Colors.png\")\n",
    "\n",
    "plt.show()"
   ]
  },
  {
   "cell_type": "markdown",
   "id": "4bc51d99",
   "metadata": {},
   "source": [
    "Make viz figure too, make null models to compare the synchonicity "
   ]
  },
  {
   "cell_type": "code",
   "execution_count": null,
   "id": "65c92bfa",
   "metadata": {},
   "outputs": [],
   "source": []
  }
 ],
 "metadata": {
  "kernelspec": {
   "display_name": "Python 3 (ipykernel)",
   "language": "python",
   "name": "python3"
  },
  "language_info": {
   "codemirror_mode": {
    "name": "ipython",
    "version": 3
   },
   "file_extension": ".py",
   "mimetype": "text/x-python",
   "name": "python",
   "nbconvert_exporter": "python",
   "pygments_lexer": "ipython3",
   "version": "3.7.13"
  }
 },
 "nbformat": 4,
 "nbformat_minor": 5
}
