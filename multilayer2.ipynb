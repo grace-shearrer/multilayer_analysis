{
 "cells": [
  {
   "cell_type": "markdown",
   "id": "a36c15aa",
   "metadata": {},
   "source": [
    "## Noter\n",
    "This cannot be run in a virtual enviroment. Something something C++ "
   ]
  },
  {
   "cell_type": "code",
   "execution_count": 1,
   "id": "3f4e918c",
   "metadata": {},
   "outputs": [
    {
     "data": {
      "application/javascript": [
       "IPython.notebook.set_autosave_interval(5000)"
      ]
     },
     "metadata": {},
     "output_type": "display_data"
    },
    {
     "name": "stdout",
     "output_type": "stream",
     "text": [
      "Autosaving every 5 seconds\n"
     ]
    },
    {
     "data": {
      "application/javascript": [
       "IPython.notebook.set_autosave_interval(5000)"
      ]
     },
     "metadata": {},
     "output_type": "display_data"
    },
    {
     "name": "stdout",
     "output_type": "stream",
     "text": [
      "Autosaving every 5 seconds\n"
     ]
    }
   ],
   "source": [
    "import subprocess\n",
    "import pdb\n",
    "\n",
    "import os\n",
    "import glob\n",
    "import numpy as np\n",
    "from numpy.fft import fft, ifft, fftfreq\n",
    "import pandas as pd\n",
    "import matplotlib.pyplot as plt\n",
    "from matplotlib import gridspec\n",
    "from matplotlib.animation import FuncAnimation\n",
    "from scipy.stats import ttest_1samp\n",
    "\n",
    "\n",
    "\n",
    "import warnings\n",
    "import sys \n",
    "if not sys.warnoptions:\n",
    "    warnings.simplefilter(\"ignore\")\n",
    "\n",
    "import pandas as pd\n",
    "import scipy.io\n",
    "from scipy import stats\n",
    "\n",
    "\n",
    "import matplotlib.pyplot as plt\n",
    "import seaborn as sns \n",
    "from mpl_toolkits.mplot3d import Axes3D\n",
    "\n",
    "import time\n",
    "from copy import deepcopy\n",
    "\n",
    "from tqdm import tqdm\n",
    "from multiprocess import Pool\n",
    "\n",
    "\n",
    "from datetime import datetime as dt\n",
    "\n",
    "%autosave 5\n",
    "%matplotlib inline\n",
    "sns.set(style = 'white', context='talk', font_scale=1, rc={\"lines.linewidth\": 2})\n",
    "\n",
    "# %matplotlib notebook\n",
    "%matplotlib inline\n",
    "%autosave 5\n",
    "sns.set(style = 'white', context='poster', rc={\"lines.linewidth\": 2.5})\n",
    "sns.set(palette=\"colorblind\")\n",
    "\n",
    "\n",
    "\n",
    "from py3plex.core import multinet\n",
    "import networkx as nx\n",
    "from ts2vg import NaturalVG, HorizontalVG\n",
    "\n",
    "import pickle\n",
    "from datetime import datetime\n",
    "from time import time"
   ]
  },
  {
   "cell_type": "code",
   "execution_count": 2,
   "id": "6b5b6af5",
   "metadata": {},
   "outputs": [],
   "source": [
    "def adillyofapickle(basepath, dic, name):\n",
    "    st = datetime.fromtimestamp(time()).strftime(datefmt)\n",
    "    if os.path.exists(os.path.join(basepath,'tmp')):\n",
    "        print('already have tmp')\n",
    "    else:\n",
    "        os.makedirs(os.path.join(basepath,'tmp'))\n",
    "    pickle.dump(dic, open(os.path.join(basepath,'tmp','%s_%s'%(name,st)), 'wb'), protocol=4)\n"
   ]
  },
  {
   "cell_type": "code",
   "execution_count": 3,
   "id": "1657e0b1",
   "metadata": {},
   "outputs": [],
   "source": [
    "def onetoughjar(path2dic):\n",
    "    p = os.path.join(path2dic)\n",
    "    list_of_files = glob.glob(p)# * means all if need specific format then *.csv\n",
    "    print(list_of_files)\n",
    "    latest_file = max(list_of_files, key=os.path.getctime)\n",
    "    print(latest_file)\n",
    "    with open(latest_file, 'rb') as pickle_file:\n",
    "        try:\n",
    "            while True:\n",
    "                output = pickle.load(pickle_file)\n",
    "        except EOFError:\n",
    "            pass\n",
    "    return(output)"
   ]
  },
  {
   "cell_type": "code",
   "execution_count": 4,
   "id": "12ed66e0",
   "metadata": {},
   "outputs": [],
   "source": [
    "datefmt='%m-%d-%Y_%I-%M-%S'\n"
   ]
  },
  {
   "cell_type": "markdown",
   "id": "b65f8dff",
   "metadata": {},
   "source": [
    "# Load data"
   ]
  },
  {
   "cell_type": "code",
   "execution_count": 5,
   "id": "5e994567",
   "metadata": {},
   "outputs": [],
   "source": [
    "basepath = '/Users/gracer/Documents/BBC_21-2939_prepro_data'\n",
    "tasks = ['base','clamp']"
   ]
  },
  {
   "cell_type": "code",
   "execution_count": 13,
   "id": "ed20e7f9",
   "metadata": {},
   "outputs": [],
   "source": [
    "data = {}\n",
    "for task in tasks:\n",
    "    data['%s'%task] = {}\n",
    "    for fil in glob.glob(os.path.join(basepath,'derivatives','output','%s'%task, '*','multilayer_total_ts.csv')):\n",
    "        sub = fil.split('/')[-2]\n",
    "        data['%s'%task][sub] = pd.read_csv('%s'%fil) \n"
   ]
  },
  {
   "cell_type": "markdown",
   "id": "f2946a7d",
   "metadata": {},
   "source": [
    "# Time series to visible graph"
   ]
  },
  {
   "cell_type": "code",
   "execution_count": 20,
   "id": "4c475636",
   "metadata": {},
   "outputs": [],
   "source": [
    "def vizgraph(ts):\n",
    "    ts = np.array(ts)\n",
    "    nat = NaturalVG(directed=None).build(ts)\n",
    "    hoz = HorizontalVG(directed=None).build(ts)\n",
    "    nx_nat = nat.as_networkx()\n",
    "    nx_hoz = hoz.as_networkx()\n",
    "    return({'natural':nx_nat, 'horizontal':nx_hoz})\n",
    "\n"
   ]
  },
  {
   "cell_type": "code",
   "execution_count": 53,
   "id": "c9af62d1",
   "metadata": {
    "scrolled": true
   },
   "outputs": [
    {
     "name": "stdout",
     "output_type": "stream",
     "text": [
      "20008\n",
      "Pu\n"
     ]
    },
    {
     "name": "stderr",
     "output_type": "stream",
     "text": [
      "100%|██████████| 3/3 [00:00<00:00, 14.43it/s]"
     ]
    },
    {
     "name": "stdout",
     "output_type": "stream",
     "text": [
      "Ca\n"
     ]
    },
    {
     "name": "stderr",
     "output_type": "stream",
     "text": [
      "\n",
      "100%|██████████| 3/3 [00:00<00:00, 14.63it/s]"
     ]
    },
    {
     "name": "stdout",
     "output_type": "stream",
     "text": [
      "NAC\n"
     ]
    },
    {
     "name": "stderr",
     "output_type": "stream",
     "text": [
      "\n",
      "100%|██████████| 3/3 [00:00<00:00, 14.61it/s]"
     ]
    },
    {
     "name": "stdout",
     "output_type": "stream",
     "text": [
      "EXA\n"
     ]
    },
    {
     "name": "stderr",
     "output_type": "stream",
     "text": [
      "\n",
      "100%|██████████| 3/3 [00:00<00:00, 17.12it/s]"
     ]
    },
    {
     "name": "stdout",
     "output_type": "stream",
     "text": [
      "GPe\n"
     ]
    },
    {
     "name": "stderr",
     "output_type": "stream",
     "text": [
      "\n",
      "100%|██████████| 3/3 [00:00<00:00,  6.47it/s]"
     ]
    },
    {
     "name": "stdout",
     "output_type": "stream",
     "text": [
      "GPi\n"
     ]
    },
    {
     "name": "stderr",
     "output_type": "stream",
     "text": [
      "\n",
      "100%|██████████| 3/3 [00:00<00:00,  6.58it/s]"
     ]
    },
    {
     "name": "stdout",
     "output_type": "stream",
     "text": [
      "SNc\n"
     ]
    },
    {
     "name": "stderr",
     "output_type": "stream",
     "text": [
      "\n",
      "100%|██████████| 3/3 [00:00<00:00,  8.15it/s]"
     ]
    },
    {
     "name": "stdout",
     "output_type": "stream",
     "text": [
      "RN\n"
     ]
    },
    {
     "name": "stderr",
     "output_type": "stream",
     "text": [
      "\n",
      "100%|██████████| 3/3 [00:00<00:00,  4.14it/s]"
     ]
    },
    {
     "name": "stdout",
     "output_type": "stream",
     "text": [
      "SNr\n"
     ]
    },
    {
     "name": "stderr",
     "output_type": "stream",
     "text": [
      "\n",
      "100%|██████████| 3/3 [00:00<00:00, 26.36it/s]"
     ]
    },
    {
     "name": "stdout",
     "output_type": "stream",
     "text": [
      "PBP\n"
     ]
    },
    {
     "name": "stderr",
     "output_type": "stream",
     "text": [
      "\n",
      "100%|██████████| 3/3 [00:00<00:00, 27.21it/s]"
     ]
    },
    {
     "name": "stdout",
     "output_type": "stream",
     "text": [
      "VTA\n"
     ]
    },
    {
     "name": "stderr",
     "output_type": "stream",
     "text": [
      "\n",
      "100%|██████████| 3/3 [00:00<00:00, 27.11it/s]"
     ]
    },
    {
     "name": "stdout",
     "output_type": "stream",
     "text": [
      "VeP\n"
     ]
    },
    {
     "name": "stderr",
     "output_type": "stream",
     "text": [
      "\n",
      "100%|██████████| 3/3 [00:00<00:00, 15.20it/s]"
     ]
    },
    {
     "name": "stdout",
     "output_type": "stream",
     "text": [
      "HN\n"
     ]
    },
    {
     "name": "stderr",
     "output_type": "stream",
     "text": [
      "\n",
      "100%|██████████| 3/3 [00:00<00:00, 16.62it/s]"
     ]
    },
    {
     "name": "stdout",
     "output_type": "stream",
     "text": [
      "HTH\n"
     ]
    },
    {
     "name": "stderr",
     "output_type": "stream",
     "text": [
      "\n",
      "100%|██████████| 3/3 [00:00<00:00, 16.02it/s]"
     ]
    },
    {
     "name": "stdout",
     "output_type": "stream",
     "text": [
      "MN\n"
     ]
    },
    {
     "name": "stderr",
     "output_type": "stream",
     "text": [
      "\n",
      "100%|██████████| 3/3 [00:00<00:00, 16.83it/s]"
     ]
    },
    {
     "name": "stdout",
     "output_type": "stream",
     "text": [
      "STH\n"
     ]
    },
    {
     "name": "stderr",
     "output_type": "stream",
     "text": [
      "\n",
      "100%|██████████| 3/3 [00:00<00:00, 14.16it/s]"
     ]
    },
    {
     "name": "stdout",
     "output_type": "stream",
     "text": [
      "dlPFC\n"
     ]
    },
    {
     "name": "stderr",
     "output_type": "stream",
     "text": [
      "\n",
      "100%|██████████| 3/3 [00:00<00:00, 15.14it/s]"
     ]
    },
    {
     "name": "stdout",
     "output_type": "stream",
     "text": [
      "Viz\n"
     ]
    },
    {
     "name": "stderr",
     "output_type": "stream",
     "text": [
      "\n",
      "100%|██████████| 3/3 [00:00<00:00, 14.56it/s]"
     ]
    },
    {
     "name": "stdout",
     "output_type": "stream",
     "text": [
      "Hippo\n"
     ]
    },
    {
     "name": "stderr",
     "output_type": "stream",
     "text": [
      "\n",
      "100%|██████████| 3/3 [00:00<00:00, 14.19it/s]"
     ]
    },
    {
     "name": "stdout",
     "output_type": "stream",
     "text": [
      "AC\n"
     ]
    },
    {
     "name": "stderr",
     "output_type": "stream",
     "text": [
      "\n",
      "100%|██████████| 3/3 [00:00<00:00, 16.06it/s]"
     ]
    },
    {
     "name": "stdout",
     "output_type": "stream",
     "text": [
      "Ins\n"
     ]
    },
    {
     "name": "stderr",
     "output_type": "stream",
     "text": [
      "\n",
      "100%|██████████| 3/3 [00:00<00:00, 15.51it/s]"
     ]
    },
    {
     "name": "stdout",
     "output_type": "stream",
     "text": [
      "MTG\n"
     ]
    },
    {
     "name": "stderr",
     "output_type": "stream",
     "text": [
      "\n",
      "100%|██████████| 3/3 [00:00<00:00, 15.25it/s]"
     ]
    },
    {
     "name": "stdout",
     "output_type": "stream",
     "text": [
      "PC\n"
     ]
    },
    {
     "name": "stderr",
     "output_type": "stream",
     "text": [
      "\n",
      "100%|██████████| 3/3 [00:00<00:00, 14.04it/s]"
     ]
    },
    {
     "name": "stdout",
     "output_type": "stream",
     "text": [
      "20001\n",
      "Pu\n"
     ]
    },
    {
     "name": "stderr",
     "output_type": "stream",
     "text": [
      "\n",
      "100%|██████████| 3/3 [00:00<00:00, 20.35it/s]"
     ]
    },
    {
     "name": "stdout",
     "output_type": "stream",
     "text": [
      "Ca\n"
     ]
    },
    {
     "name": "stderr",
     "output_type": "stream",
     "text": [
      "\n",
      "100%|██████████| 3/3 [00:00<00:00, 20.91it/s]"
     ]
    },
    {
     "name": "stdout",
     "output_type": "stream",
     "text": [
      "NAC\n"
     ]
    },
    {
     "name": "stderr",
     "output_type": "stream",
     "text": [
      "\n",
      "100%|██████████| 3/3 [00:00<00:00, 21.36it/s]"
     ]
    },
    {
     "name": "stdout",
     "output_type": "stream",
     "text": [
      "EXA\n"
     ]
    },
    {
     "name": "stderr",
     "output_type": "stream",
     "text": [
      "\n",
      "100%|██████████| 3/3 [00:00<00:00, 21.69it/s]"
     ]
    },
    {
     "name": "stdout",
     "output_type": "stream",
     "text": [
      "GPe\n"
     ]
    },
    {
     "name": "stderr",
     "output_type": "stream",
     "text": [
      "\n",
      "100%|██████████| 3/3 [00:00<00:00,  6.37it/s]"
     ]
    },
    {
     "name": "stdout",
     "output_type": "stream",
     "text": [
      "GPi\n"
     ]
    },
    {
     "name": "stderr",
     "output_type": "stream",
     "text": [
      "\n",
      "100%|██████████| 3/3 [00:00<00:00,  5.68it/s]"
     ]
    },
    {
     "name": "stdout",
     "output_type": "stream",
     "text": [
      "SNc\n"
     ]
    },
    {
     "name": "stderr",
     "output_type": "stream",
     "text": [
      "\n",
      "100%|██████████| 3/3 [00:01<00:00,  2.88it/s]"
     ]
    },
    {
     "name": "stdout",
     "output_type": "stream",
     "text": [
      "RN\n"
     ]
    },
    {
     "name": "stderr",
     "output_type": "stream",
     "text": [
      "\n",
      "100%|██████████| 3/3 [00:00<00:00, 22.20it/s]"
     ]
    },
    {
     "name": "stdout",
     "output_type": "stream",
     "text": [
      "SNr\n"
     ]
    },
    {
     "name": "stderr",
     "output_type": "stream",
     "text": [
      "\n",
      "100%|██████████| 3/3 [00:00<00:00, 37.39it/s]"
     ]
    },
    {
     "name": "stdout",
     "output_type": "stream",
     "text": [
      "PBP\n"
     ]
    },
    {
     "name": "stderr",
     "output_type": "stream",
     "text": [
      "\n",
      "100%|██████████| 3/3 [00:00<00:00, 36.99it/s]"
     ]
    },
    {
     "name": "stdout",
     "output_type": "stream",
     "text": [
      "VTA\n"
     ]
    },
    {
     "name": "stderr",
     "output_type": "stream",
     "text": [
      "\n",
      "100%|██████████| 3/3 [00:00<00:00, 37.18it/s]"
     ]
    },
    {
     "name": "stdout",
     "output_type": "stream",
     "text": [
      "VeP\n"
     ]
    },
    {
     "name": "stderr",
     "output_type": "stream",
     "text": [
      "\n",
      "100%|██████████| 3/3 [00:00<00:00, 21.47it/s]"
     ]
    },
    {
     "name": "stdout",
     "output_type": "stream",
     "text": [
      "HN\n"
     ]
    },
    {
     "name": "stderr",
     "output_type": "stream",
     "text": [
      "\n",
      "100%|██████████| 3/3 [00:00<00:00, 21.22it/s]"
     ]
    },
    {
     "name": "stdout",
     "output_type": "stream",
     "text": [
      "HTH\n"
     ]
    },
    {
     "name": "stderr",
     "output_type": "stream",
     "text": [
      "\n",
      "100%|██████████| 3/3 [00:00<00:00, 21.60it/s]"
     ]
    },
    {
     "name": "stdout",
     "output_type": "stream",
     "text": [
      "MN\n"
     ]
    },
    {
     "name": "stderr",
     "output_type": "stream",
     "text": [
      "\n",
      "100%|██████████| 3/3 [00:00<00:00, 23.20it/s]"
     ]
    },
    {
     "name": "stdout",
     "output_type": "stream",
     "text": [
      "STH\n"
     ]
    },
    {
     "name": "stderr",
     "output_type": "stream",
     "text": [
      "\n",
      "100%|██████████| 3/3 [00:00<00:00, 20.07it/s]"
     ]
    },
    {
     "name": "stdout",
     "output_type": "stream",
     "text": [
      "dlPFC\n"
     ]
    },
    {
     "name": "stderr",
     "output_type": "stream",
     "text": [
      "\n",
      "100%|██████████| 3/3 [00:00<00:00, 21.40it/s]"
     ]
    },
    {
     "name": "stdout",
     "output_type": "stream",
     "text": [
      "Viz\n"
     ]
    },
    {
     "name": "stderr",
     "output_type": "stream",
     "text": [
      "\n",
      "100%|██████████| 3/3 [00:00<00:00, 19.95it/s]"
     ]
    },
    {
     "name": "stdout",
     "output_type": "stream",
     "text": [
      "Hippo\n"
     ]
    },
    {
     "name": "stderr",
     "output_type": "stream",
     "text": [
      "\n",
      "100%|██████████| 3/3 [00:00<00:00, 19.14it/s]"
     ]
    },
    {
     "name": "stdout",
     "output_type": "stream",
     "text": [
      "AC\n"
     ]
    },
    {
     "name": "stderr",
     "output_type": "stream",
     "text": [
      "\n",
      "100%|██████████| 3/3 [00:00<00:00, 21.80it/s]"
     ]
    },
    {
     "name": "stdout",
     "output_type": "stream",
     "text": [
      "Ins\n"
     ]
    },
    {
     "name": "stderr",
     "output_type": "stream",
     "text": [
      "\n",
      "100%|██████████| 3/3 [00:00<00:00, 21.11it/s]"
     ]
    },
    {
     "name": "stdout",
     "output_type": "stream",
     "text": [
      "MTG\n"
     ]
    },
    {
     "name": "stderr",
     "output_type": "stream",
     "text": [
      "\n",
      "100%|██████████| 3/3 [00:00<00:00, 19.86it/s]"
     ]
    },
    {
     "name": "stdout",
     "output_type": "stream",
     "text": [
      "PC\n"
     ]
    },
    {
     "name": "stderr",
     "output_type": "stream",
     "text": [
      "\n",
      "100%|██████████| 3/3 [00:00<00:00, 19.86it/s]"
     ]
    },
    {
     "name": "stdout",
     "output_type": "stream",
     "text": [
      "20002\n",
      "Pu\n"
     ]
    },
    {
     "name": "stderr",
     "output_type": "stream",
     "text": [
      "\n",
      "100%|██████████| 3/3 [00:00<00:00, 16.95it/s]"
     ]
    },
    {
     "name": "stdout",
     "output_type": "stream",
     "text": [
      "Ca\n"
     ]
    },
    {
     "name": "stderr",
     "output_type": "stream",
     "text": [
      "\n",
      "100%|██████████| 3/3 [00:00<00:00, 16.42it/s]"
     ]
    },
    {
     "name": "stdout",
     "output_type": "stream",
     "text": [
      "NAC\n"
     ]
    },
    {
     "name": "stderr",
     "output_type": "stream",
     "text": [
      "\n",
      "100%|██████████| 3/3 [00:00<00:00, 17.59it/s]"
     ]
    },
    {
     "name": "stdout",
     "output_type": "stream",
     "text": [
      "EXA\n"
     ]
    },
    {
     "name": "stderr",
     "output_type": "stream",
     "text": [
      "\n",
      "100%|██████████| 3/3 [00:00<00:00, 18.83it/s]"
     ]
    },
    {
     "name": "stdout",
     "output_type": "stream",
     "text": [
      "GPe\n"
     ]
    },
    {
     "name": "stderr",
     "output_type": "stream",
     "text": [
      "\n",
      "100%|██████████| 3/3 [00:00<00:00, 17.53it/s]"
     ]
    },
    {
     "name": "stdout",
     "output_type": "stream",
     "text": [
      "GPi\n"
     ]
    },
    {
     "name": "stderr",
     "output_type": "stream",
     "text": [
      "\n",
      "100%|██████████| 3/3 [00:00<00:00,  5.38it/s]"
     ]
    },
    {
     "name": "stdout",
     "output_type": "stream",
     "text": [
      "SNc\n"
     ]
    },
    {
     "name": "stderr",
     "output_type": "stream",
     "text": [
      "\n",
      "100%|██████████| 3/3 [00:00<00:00,  5.52it/s]"
     ]
    },
    {
     "name": "stdout",
     "output_type": "stream",
     "text": [
      "RN\n"
     ]
    },
    {
     "name": "stderr",
     "output_type": "stream",
     "text": [
      "\n",
      "100%|██████████| 3/3 [00:01<00:00,  2.89it/s]"
     ]
    },
    {
     "name": "stdout",
     "output_type": "stream",
     "text": [
      "SNr\n"
     ]
    },
    {
     "name": "stderr",
     "output_type": "stream",
     "text": [
      "\n",
      "100%|██████████| 3/3 [00:00<00:00, 31.87it/s]"
     ]
    },
    {
     "name": "stdout",
     "output_type": "stream",
     "text": [
      "PBP\n"
     ]
    },
    {
     "name": "stderr",
     "output_type": "stream",
     "text": [
      "\n",
      "100%|██████████| 3/3 [00:00<00:00, 32.02it/s]"
     ]
    },
    {
     "name": "stdout",
     "output_type": "stream",
     "text": [
      "VTA\n"
     ]
    },
    {
     "name": "stderr",
     "output_type": "stream",
     "text": [
      "\n",
      "100%|██████████| 3/3 [00:00<00:00, 31.90it/s]"
     ]
    },
    {
     "name": "stdout",
     "output_type": "stream",
     "text": [
      "VeP\n"
     ]
    },
    {
     "name": "stderr",
     "output_type": "stream",
     "text": [
      "\n",
      "100%|██████████| 3/3 [00:00<00:00, 17.97it/s]\n"
     ]
    },
    {
     "name": "stdout",
     "output_type": "stream",
     "text": [
      "HN\n"
     ]
    },
    {
     "name": "stderr",
     "output_type": "stream",
     "text": [
      "100%|██████████| 3/3 [00:00<00:00, 31.57it/s]"
     ]
    },
    {
     "name": "stdout",
     "output_type": "stream",
     "text": [
      "HTH\n"
     ]
    },
    {
     "name": "stderr",
     "output_type": "stream",
     "text": [
      "\n",
      "100%|██████████| 3/3 [00:00<00:00, 19.02it/s]"
     ]
    },
    {
     "name": "stdout",
     "output_type": "stream",
     "text": [
      "MN\n"
     ]
    },
    {
     "name": "stderr",
     "output_type": "stream",
     "text": [
      "\n",
      "100%|██████████| 3/3 [00:00<00:00, 19.11it/s]"
     ]
    },
    {
     "name": "stdout",
     "output_type": "stream",
     "text": [
      "STH\n"
     ]
    },
    {
     "name": "stderr",
     "output_type": "stream",
     "text": [
      "\n",
      "100%|██████████| 3/3 [00:00<00:00, 18.15it/s]\n"
     ]
    },
    {
     "name": "stdout",
     "output_type": "stream",
     "text": [
      "dlPFC\n"
     ]
    },
    {
     "name": "stderr",
     "output_type": "stream",
     "text": [
      "100%|██████████| 3/3 [00:00<00:00, 16.37it/s]"
     ]
    },
    {
     "name": "stdout",
     "output_type": "stream",
     "text": [
      "Viz\n"
     ]
    },
    {
     "name": "stderr",
     "output_type": "stream",
     "text": [
      "\n",
      "100%|██████████| 3/3 [00:00<00:00, 17.05it/s]"
     ]
    },
    {
     "name": "stdout",
     "output_type": "stream",
     "text": [
      "Hippo\n"
     ]
    },
    {
     "name": "stderr",
     "output_type": "stream",
     "text": [
      "\n",
      "100%|██████████| 3/3 [00:00<00:00, 16.82it/s]"
     ]
    },
    {
     "name": "stdout",
     "output_type": "stream",
     "text": [
      "AC\n"
     ]
    },
    {
     "name": "stderr",
     "output_type": "stream",
     "text": [
      "\n",
      "100%|██████████| 3/3 [00:00<00:00, 17.47it/s]"
     ]
    },
    {
     "name": "stdout",
     "output_type": "stream",
     "text": [
      "Ins\n"
     ]
    },
    {
     "name": "stderr",
     "output_type": "stream",
     "text": [
      "\n",
      "100%|██████████| 3/3 [00:00<00:00, 17.58it/s]"
     ]
    },
    {
     "name": "stdout",
     "output_type": "stream",
     "text": [
      "MTG\n"
     ]
    },
    {
     "name": "stderr",
     "output_type": "stream",
     "text": [
      "\n",
      "100%|██████████| 3/3 [00:00<00:00, 16.50it/s]"
     ]
    },
    {
     "name": "stdout",
     "output_type": "stream",
     "text": [
      "PC\n"
     ]
    },
    {
     "name": "stderr",
     "output_type": "stream",
     "text": [
      "\n",
      "100%|██████████| 3/3 [00:00<00:00, 16.51it/s]"
     ]
    },
    {
     "name": "stdout",
     "output_type": "stream",
     "text": [
      "20003\n",
      "Pu\n"
     ]
    },
    {
     "name": "stderr",
     "output_type": "stream",
     "text": [
      "\n",
      "100%|██████████| 3/3 [00:00<00:00, 15.63it/s]"
     ]
    },
    {
     "name": "stdout",
     "output_type": "stream",
     "text": [
      "Ca\n"
     ]
    },
    {
     "name": "stderr",
     "output_type": "stream",
     "text": [
      "\n",
      "100%|██████████| 3/3 [00:00<00:00, 16.47it/s]"
     ]
    },
    {
     "name": "stdout",
     "output_type": "stream",
     "text": [
      "NAC\n"
     ]
    },
    {
     "name": "stderr",
     "output_type": "stream",
     "text": [
      "\n",
      "100%|██████████| 3/3 [00:00<00:00, 16.18it/s]"
     ]
    },
    {
     "name": "stdout",
     "output_type": "stream",
     "text": [
      "EXA\n"
     ]
    },
    {
     "name": "stderr",
     "output_type": "stream",
     "text": [
      "\n",
      "100%|██████████| 3/3 [00:00<00:00, 18.32it/s]\n"
     ]
    },
    {
     "name": "stdout",
     "output_type": "stream",
     "text": [
      "GPe\n"
     ]
    },
    {
     "name": "stderr",
     "output_type": "stream",
     "text": [
      "100%|██████████| 3/3 [00:00<00:00, 15.74it/s]"
     ]
    },
    {
     "name": "stdout",
     "output_type": "stream",
     "text": [
      "GPi\n"
     ]
    },
    {
     "name": "stderr",
     "output_type": "stream",
     "text": [
      "\n",
      "100%|██████████| 3/3 [00:00<00:00, 16.51it/s]"
     ]
    },
    {
     "name": "stdout",
     "output_type": "stream",
     "text": [
      "SNc\n"
     ]
    },
    {
     "name": "stderr",
     "output_type": "stream",
     "text": [
      "\n",
      "100%|██████████| 3/3 [00:00<00:00, 17.89it/s]"
     ]
    },
    {
     "name": "stdout",
     "output_type": "stream",
     "text": [
      "RN\n"
     ]
    },
    {
     "name": "stderr",
     "output_type": "stream",
     "text": [
      "\n",
      "100%|██████████| 3/3 [00:00<00:00,  4.59it/s]"
     ]
    },
    {
     "name": "stdout",
     "output_type": "stream",
     "text": [
      "SNr\n"
     ]
    },
    {
     "name": "stderr",
     "output_type": "stream",
     "text": [
      "\n",
      "100%|██████████| 3/3 [00:00<00:00,  5.07it/s]"
     ]
    },
    {
     "name": "stdout",
     "output_type": "stream",
     "text": [
      "PBP\n"
     ]
    },
    {
     "name": "stderr",
     "output_type": "stream",
     "text": [
      "\n",
      "100%|██████████| 3/3 [00:01<00:00,  2.91it/s]"
     ]
    },
    {
     "name": "stdout",
     "output_type": "stream",
     "text": [
      "VTA\n"
     ]
    },
    {
     "name": "stderr",
     "output_type": "stream",
     "text": [
      "\n",
      "100%|██████████| 3/3 [00:00<00:00, 27.82it/s]"
     ]
    },
    {
     "name": "stdout",
     "output_type": "stream",
     "text": [
      "VeP\n"
     ]
    },
    {
     "name": "stderr",
     "output_type": "stream",
     "text": [
      "\n",
      "100%|██████████| 3/3 [00:00<00:00, 16.37it/s]"
     ]
    },
    {
     "name": "stdout",
     "output_type": "stream",
     "text": [
      "HN\n"
     ]
    },
    {
     "name": "stderr",
     "output_type": "stream",
     "text": [
      "\n",
      "100%|██████████| 3/3 [00:00<00:00, 18.73it/s]\n"
     ]
    },
    {
     "name": "stdout",
     "output_type": "stream",
     "text": [
      "HTH\n"
     ]
    },
    {
     "name": "stderr",
     "output_type": "stream",
     "text": [
      "100%|██████████| 3/3 [00:00<00:00, 18.00it/s]\n"
     ]
    },
    {
     "name": "stdout",
     "output_type": "stream",
     "text": [
      "MN\n"
     ]
    },
    {
     "name": "stderr",
     "output_type": "stream",
     "text": [
      "100%|██████████| 3/3 [00:00<00:00, 18.45it/s]\n"
     ]
    },
    {
     "name": "stdout",
     "output_type": "stream",
     "text": [
      "STH\n"
     ]
    },
    {
     "name": "stderr",
     "output_type": "stream",
     "text": [
      "100%|██████████| 3/3 [00:00<00:00, 16.71it/s]"
     ]
    },
    {
     "name": "stdout",
     "output_type": "stream",
     "text": [
      "dlPFC\n"
     ]
    },
    {
     "name": "stderr",
     "output_type": "stream",
     "text": [
      "\n",
      "100%|██████████| 3/3 [00:00<00:00, 15.50it/s]\n"
     ]
    },
    {
     "name": "stdout",
     "output_type": "stream",
     "text": [
      "Viz\n"
     ]
    },
    {
     "name": "stderr",
     "output_type": "stream",
     "text": [
      "100%|██████████| 3/3 [00:00<00:00, 16.04it/s]"
     ]
    },
    {
     "name": "stdout",
     "output_type": "stream",
     "text": [
      "Hippo\n"
     ]
    },
    {
     "name": "stderr",
     "output_type": "stream",
     "text": [
      "\n",
      "100%|██████████| 3/3 [00:00<00:00, 15.82it/s]"
     ]
    },
    {
     "name": "stdout",
     "output_type": "stream",
     "text": [
      "AC\n"
     ]
    },
    {
     "name": "stderr",
     "output_type": "stream",
     "text": [
      "\n",
      "100%|██████████| 3/3 [00:00<00:00, 17.42it/s]"
     ]
    },
    {
     "name": "stdout",
     "output_type": "stream",
     "text": [
      "Ins\n"
     ]
    },
    {
     "name": "stderr",
     "output_type": "stream",
     "text": [
      "\n",
      "100%|██████████| 3/3 [00:00<00:00, 16.59it/s]"
     ]
    },
    {
     "name": "stdout",
     "output_type": "stream",
     "text": [
      "MTG\n"
     ]
    },
    {
     "name": "stderr",
     "output_type": "stream",
     "text": [
      "\n",
      "100%|██████████| 3/3 [00:00<00:00, 14.19it/s]"
     ]
    },
    {
     "name": "stdout",
     "output_type": "stream",
     "text": [
      "PC\n"
     ]
    },
    {
     "name": "stderr",
     "output_type": "stream",
     "text": [
      "\n",
      "100%|██████████| 3/3 [00:00<00:00, 14.96it/s]"
     ]
    },
    {
     "name": "stdout",
     "output_type": "stream",
     "text": [
      "20004\n",
      "Pu\n"
     ]
    },
    {
     "name": "stderr",
     "output_type": "stream",
     "text": [
      "\n",
      "100%|██████████| 3/3 [00:00<00:00, 14.09it/s]"
     ]
    },
    {
     "name": "stdout",
     "output_type": "stream",
     "text": [
      "Ca\n"
     ]
    },
    {
     "name": "stderr",
     "output_type": "stream",
     "text": [
      "\n",
      "100%|██████████| 3/3 [00:00<00:00, 14.05it/s]"
     ]
    },
    {
     "name": "stdout",
     "output_type": "stream",
     "text": [
      "NAC\n"
     ]
    },
    {
     "name": "stderr",
     "output_type": "stream",
     "text": [
      "\n",
      "100%|██████████| 3/3 [00:00<00:00, 13.66it/s]"
     ]
    },
    {
     "name": "stdout",
     "output_type": "stream",
     "text": [
      "EXA\n"
     ]
    },
    {
     "name": "stderr",
     "output_type": "stream",
     "text": [
      "\n",
      "100%|██████████| 3/3 [00:00<00:00, 15.08it/s]"
     ]
    },
    {
     "name": "stdout",
     "output_type": "stream",
     "text": [
      "GPe\n"
     ]
    },
    {
     "name": "stderr",
     "output_type": "stream",
     "text": [
      "\n",
      "100%|██████████| 3/3 [00:00<00:00, 14.06it/s]"
     ]
    },
    {
     "name": "stdout",
     "output_type": "stream",
     "text": [
      "GPi\n"
     ]
    },
    {
     "name": "stderr",
     "output_type": "stream",
     "text": [
      "\n",
      "100%|██████████| 3/3 [00:00<00:00, 14.00it/s]"
     ]
    },
    {
     "name": "stdout",
     "output_type": "stream",
     "text": [
      "SNc\n"
     ]
    },
    {
     "name": "stderr",
     "output_type": "stream",
     "text": [
      "\n",
      "100%|██████████| 3/3 [00:00<00:00, 14.19it/s]"
     ]
    },
    {
     "name": "stdout",
     "output_type": "stream",
     "text": [
      "RN\n"
     ]
    },
    {
     "name": "stderr",
     "output_type": "stream",
     "text": [
      "\n",
      "100%|██████████| 3/3 [00:00<00:00, 13.97it/s]"
     ]
    },
    {
     "name": "stdout",
     "output_type": "stream",
     "text": [
      "SNr\n"
     ]
    },
    {
     "name": "stderr",
     "output_type": "stream",
     "text": [
      "\n",
      "100%|██████████| 3/3 [00:00<00:00, 24.17it/s]"
     ]
    },
    {
     "name": "stdout",
     "output_type": "stream",
     "text": [
      "PBP\n"
     ]
    },
    {
     "name": "stderr",
     "output_type": "stream",
     "text": [
      "\n",
      "100%|██████████| 3/3 [00:00<00:00, 23.99it/s]"
     ]
    },
    {
     "name": "stdout",
     "output_type": "stream",
     "text": [
      "VTA\n"
     ]
    },
    {
     "name": "stderr",
     "output_type": "stream",
     "text": [
      "\n",
      "100%|██████████| 3/3 [00:00<00:00, 24.03it/s]"
     ]
    },
    {
     "name": "stdout",
     "output_type": "stream",
     "text": [
      "VeP\n"
     ]
    },
    {
     "name": "stderr",
     "output_type": "stream",
     "text": [
      "\n",
      "100%|██████████| 3/3 [00:00<00:00, 14.18it/s]"
     ]
    },
    {
     "name": "stdout",
     "output_type": "stream",
     "text": [
      "HN\n"
     ]
    },
    {
     "name": "stderr",
     "output_type": "stream",
     "text": [
      "\n",
      "100%|██████████| 3/3 [00:00<00:00, 15.14it/s]\n"
     ]
    },
    {
     "name": "stdout",
     "output_type": "stream",
     "text": [
      "HTH\n"
     ]
    },
    {
     "name": "stderr",
     "output_type": "stream",
     "text": [
      "100%|██████████| 3/3 [00:00<00:00, 14.96it/s]"
     ]
    },
    {
     "name": "stdout",
     "output_type": "stream",
     "text": [
      "MN\n"
     ]
    },
    {
     "name": "stderr",
     "output_type": "stream",
     "text": [
      "\n",
      "100%|██████████| 3/3 [00:00<00:00, 14.85it/s]"
     ]
    },
    {
     "name": "stdout",
     "output_type": "stream",
     "text": [
      "STH\n"
     ]
    },
    {
     "name": "stderr",
     "output_type": "stream",
     "text": [
      "\n",
      "100%|██████████| 3/3 [00:00<00:00,  3.53it/s]"
     ]
    },
    {
     "name": "stdout",
     "output_type": "stream",
     "text": [
      "dlPFC\n"
     ]
    },
    {
     "name": "stderr",
     "output_type": "stream",
     "text": [
      "\n",
      "100%|██████████| 3/3 [00:00<00:00,  3.65it/s]"
     ]
    },
    {
     "name": "stdout",
     "output_type": "stream",
     "text": [
      "Viz\n"
     ]
    },
    {
     "name": "stderr",
     "output_type": "stream",
     "text": [
      "\n",
      "100%|██████████| 3/3 [00:01<00:00,  2.07it/s]"
     ]
    },
    {
     "name": "stdout",
     "output_type": "stream",
     "text": [
      "Hippo\n"
     ]
    },
    {
     "name": "stderr",
     "output_type": "stream",
     "text": [
      "\n",
      "100%|██████████| 3/3 [00:00<00:00, 12.79it/s]"
     ]
    },
    {
     "name": "stdout",
     "output_type": "stream",
     "text": [
      "AC\n"
     ]
    },
    {
     "name": "stderr",
     "output_type": "stream",
     "text": [
      "\n",
      "100%|██████████| 3/3 [00:00<00:00, 13.97it/s]"
     ]
    },
    {
     "name": "stdout",
     "output_type": "stream",
     "text": [
      "Ins\n"
     ]
    },
    {
     "name": "stderr",
     "output_type": "stream",
     "text": [
      "\n",
      "100%|██████████| 3/3 [00:00<00:00, 14.17it/s]"
     ]
    },
    {
     "name": "stdout",
     "output_type": "stream",
     "text": [
      "MTG\n"
     ]
    },
    {
     "name": "stderr",
     "output_type": "stream",
     "text": [
      "\n",
      "100%|██████████| 3/3 [00:00<00:00, 12.68it/s]"
     ]
    },
    {
     "name": "stdout",
     "output_type": "stream",
     "text": [
      "PC\n"
     ]
    },
    {
     "name": "stderr",
     "output_type": "stream",
     "text": [
      "\n",
      "100%|██████████| 3/3 [00:00<00:00, 12.39it/s]"
     ]
    },
    {
     "name": "stdout",
     "output_type": "stream",
     "text": [
      "20010\n",
      "Pu\n"
     ]
    },
    {
     "name": "stderr",
     "output_type": "stream",
     "text": [
      "\n",
      "100%|██████████| 3/3 [00:00<00:00, 21.48it/s]"
     ]
    },
    {
     "name": "stdout",
     "output_type": "stream",
     "text": [
      "Ca\n"
     ]
    },
    {
     "name": "stderr",
     "output_type": "stream",
     "text": [
      "\n",
      "100%|██████████| 3/3 [00:00<00:00, 22.28it/s]"
     ]
    },
    {
     "name": "stdout",
     "output_type": "stream",
     "text": [
      "NAC\n"
     ]
    },
    {
     "name": "stderr",
     "output_type": "stream",
     "text": [
      "\n",
      "100%|██████████| 3/3 [00:00<00:00, 20.24it/s]"
     ]
    },
    {
     "name": "stdout",
     "output_type": "stream",
     "text": [
      "EXA\n"
     ]
    },
    {
     "name": "stderr",
     "output_type": "stream",
     "text": [
      "\n",
      "100%|██████████| 3/3 [00:00<00:00, 21.24it/s]"
     ]
    },
    {
     "name": "stdout",
     "output_type": "stream",
     "text": [
      "GPe\n"
     ]
    },
    {
     "name": "stderr",
     "output_type": "stream",
     "text": [
      "\n",
      "100%|██████████| 3/3 [00:00<00:00, 20.38it/s]"
     ]
    },
    {
     "name": "stdout",
     "output_type": "stream",
     "text": [
      "GPi\n"
     ]
    },
    {
     "name": "stderr",
     "output_type": "stream",
     "text": [
      "\n",
      "100%|██████████| 3/3 [00:00<00:00, 21.11it/s]"
     ]
    },
    {
     "name": "stdout",
     "output_type": "stream",
     "text": [
      "SNc\n"
     ]
    },
    {
     "name": "stderr",
     "output_type": "stream",
     "text": [
      "\n",
      "100%|██████████| 3/3 [00:00<00:00, 22.11it/s]"
     ]
    },
    {
     "name": "stdout",
     "output_type": "stream",
     "text": [
      "RN\n"
     ]
    },
    {
     "name": "stderr",
     "output_type": "stream",
     "text": [
      "\n",
      "100%|██████████| 3/3 [00:00<00:00, 21.12it/s]"
     ]
    },
    {
     "name": "stdout",
     "output_type": "stream",
     "text": [
      "SNr\n"
     ]
    },
    {
     "name": "stderr",
     "output_type": "stream",
     "text": [
      "\n",
      "100%|██████████| 3/3 [00:00<00:00, 36.55it/s]"
     ]
    },
    {
     "name": "stdout",
     "output_type": "stream",
     "text": [
      "PBP\n"
     ]
    },
    {
     "name": "stderr",
     "output_type": "stream",
     "text": [
      "\n",
      "100%|██████████| 3/3 [00:00<00:00, 36.12it/s]"
     ]
    },
    {
     "name": "stdout",
     "output_type": "stream",
     "text": [
      "VTA\n"
     ]
    },
    {
     "name": "stderr",
     "output_type": "stream",
     "text": [
      "\n",
      "100%|██████████| 3/3 [00:00<00:00, 36.54it/s]"
     ]
    },
    {
     "name": "stdout",
     "output_type": "stream",
     "text": [
      "VeP\n"
     ]
    },
    {
     "name": "stderr",
     "output_type": "stream",
     "text": [
      "\n",
      "100%|██████████| 3/3 [00:00<00:00, 20.11it/s]"
     ]
    },
    {
     "name": "stdout",
     "output_type": "stream",
     "text": [
      "HN\n"
     ]
    },
    {
     "name": "stderr",
     "output_type": "stream",
     "text": [
      "\n",
      "100%|██████████| 3/3 [00:00<00:00, 21.23it/s]"
     ]
    },
    {
     "name": "stdout",
     "output_type": "stream",
     "text": [
      "HTH\n"
     ]
    },
    {
     "name": "stderr",
     "output_type": "stream",
     "text": [
      "\n",
      "100%|██████████| 3/3 [00:00<00:00, 21.40it/s]"
     ]
    },
    {
     "name": "stdout",
     "output_type": "stream",
     "text": [
      "MN\n"
     ]
    },
    {
     "name": "stderr",
     "output_type": "stream",
     "text": [
      "\n",
      "100%|██████████| 3/3 [00:00<00:00, 22.93it/s]"
     ]
    },
    {
     "name": "stdout",
     "output_type": "stream",
     "text": [
      "STH\n"
     ]
    },
    {
     "name": "stderr",
     "output_type": "stream",
     "text": [
      "\n",
      "100%|██████████| 3/3 [00:00<00:00, 20.41it/s]"
     ]
    },
    {
     "name": "stdout",
     "output_type": "stream",
     "text": [
      "dlPFC\n"
     ]
    },
    {
     "name": "stderr",
     "output_type": "stream",
     "text": [
      "\n",
      "100%|██████████| 3/3 [00:00<00:00, 21.46it/s]"
     ]
    },
    {
     "name": "stdout",
     "output_type": "stream",
     "text": [
      "Viz\n"
     ]
    },
    {
     "name": "stderr",
     "output_type": "stream",
     "text": [
      "\n",
      "100%|██████████| 3/3 [00:00<00:00, 21.80it/s]"
     ]
    },
    {
     "name": "stdout",
     "output_type": "stream",
     "text": [
      "Hippo\n"
     ]
    },
    {
     "name": "stderr",
     "output_type": "stream",
     "text": [
      "\n",
      "100%|██████████| 3/3 [00:00<00:00, 19.59it/s]"
     ]
    },
    {
     "name": "stdout",
     "output_type": "stream",
     "text": [
      "AC\n"
     ]
    },
    {
     "name": "stderr",
     "output_type": "stream",
     "text": [
      "\n",
      "100%|██████████| 3/3 [00:00<00:00, 22.91it/s]"
     ]
    },
    {
     "name": "stdout",
     "output_type": "stream",
     "text": [
      "Ins\n"
     ]
    },
    {
     "name": "stderr",
     "output_type": "stream",
     "text": [
      "\n",
      "100%|██████████| 3/3 [00:00<00:00, 22.57it/s]"
     ]
    },
    {
     "name": "stdout",
     "output_type": "stream",
     "text": [
      "MTG\n"
     ]
    },
    {
     "name": "stderr",
     "output_type": "stream",
     "text": [
      "\n",
      "100%|██████████| 3/3 [00:00<00:00, 19.67it/s]"
     ]
    },
    {
     "name": "stdout",
     "output_type": "stream",
     "text": [
      "PC\n"
     ]
    },
    {
     "name": "stderr",
     "output_type": "stream",
     "text": [
      "\n",
      "100%|██████████| 3/3 [00:00<00:00, 20.94it/s]\n"
     ]
    }
   ],
   "source": [
    "max_pool = 3\n",
    "graphs ={}\n",
    "models = ['high','low','base']\n",
    "for sub, df in data['clamp'].items():\n",
    "    print(sub)\n",
    "    graphs[sub] ={}\n",
    "    for roi in list(df.iloc[:, : 23].columns):\n",
    "        graphs[sub][roi] ={}\n",
    "        print(roi)\n",
    "        ts1 = df['%s'%roi].loc[df['model'] == 1]\n",
    "        ts2 = df['%s'%roi].loc[df['model'] == -1]\n",
    "        ts0 = df['%s'%roi].loc[df['model'] == 0]\n",
    "        times = [ts1, ts2, ts0]\n",
    "        with Pool(max_pool) as p:\n",
    "            pool_outputs = list(tqdm(p.imap(vizgraph, times),total=len(times)))    \n",
    "        for i, x in enumerate(pool_outputs):\n",
    "            graphs[sub][roi]['%s'%models[i]] = x"
   ]
  },
  {
   "cell_type": "code",
   "execution_count": 44,
   "id": "09f24adc",
   "metadata": {},
   "outputs": [
    {
     "data": {
      "text/plain": [
       "EdgeDataView([(100, 101, {}), (100, 96, {}), (100, 98, {}), (100, 99, {}), (101, 99, {}), (101, 98, {}), (101, 97, {}), (101, 96, {}), (101, 89, {}), (101, 88, {}), (101, 87, {}), (101, 82, {}), (101, 74, {}), (101, 73, {}), (101, 71, {}), (101, 70, {}), (101, 69, {}), (101, 65, {}), (101, 63, {}), (101, 59, {}), (101, 58, {}), (101, 55, {}), (101, 44, {}), (101, 43, {}), (101, 18, {}), (101, 16, {}), (101, 13, {}), (101, 1, {}), (101, 102, {}), (101, 103, {}), (101, 104, {}), (101, 105, {}), (101, 106, {}), (101, 108, {}), (101, 109, {}), (101, 110, {}), (101, 111, {}), (101, 112, {}), (101, 113, {}), (101, 114, {}), (101, 115, {}), (101, 124, {}), (101, 125, {}), (101, 126, {}), (101, 153, {}), (101, 189, {}), (101, 210, {}), (101, 621, {}), (101, 622, {}), (99, 96, {}), (99, 98, {}), (98, 96, {}), (98, 97, {}), (97, 96, {}), (96, 1, {}), (96, 95, {}), (96, 94, {}), (96, 93, {}), (96, 90, {}), (96, 89, {}), (96, 88, {}), (96, 87, {}), (96, 74, {}), (96, 73, {}), (96, 71, {}), (96, 70, {}), (96, 69, {}), (96, 65, {}), (96, 58, {}), (96, 55, {}), (96, 13, {}), (89, 88, {}), (89, 93, {}), (89, 90, {}), (89, 91, {}), (89, 92, {}), (88, 87, {}), (88, 90, {}), (88, 91, {}), (88, 92, {}), (88, 93, {}), (87, 1, {}), (87, 55, {}), (87, 58, {}), (87, 86, {}), (87, 85, {}), (87, 84, {}), (87, 82, {}), (87, 74, {}), (87, 73, {}), (87, 70, {}), (87, 69, {}), (87, 65, {}), (87, 93, {}), (82, 55, {}), (82, 58, {}), (82, 65, {}), (82, 85, {}), (82, 69, {}), (82, 81, {}), (82, 80, {}), (82, 76, {}), (82, 75, {}), (82, 74, {}), (82, 73, {}), (82, 70, {}), (82, 83, {}), (82, 84, {}), (74, 55, {}), (74, 58, {}), (74, 65, {}), (74, 85, {}), (74, 69, {}), (74, 70, {}), (74, 73, {}), (74, 75, {}), (74, 76, {}), (74, 77, {}), (74, 78, {}), (74, 79, {}), (74, 80, {}), (73, 55, {}), (73, 58, {}), (73, 65, {}), (73, 85, {}), (73, 69, {}), (73, 70, {}), (73, 72, {}), (73, 71, {}), (71, 70, {}), (71, 72, {}), (70, 85, {}), (70, 69, {}), (70, 72, {}), (69, 55, {}), (69, 58, {}), (69, 65, {}), (69, 85, {}), (69, 68, {}), (69, 67, {}), (69, 66, {}), (65, 55, {}), (65, 58, {}), (65, 64, {}), (65, 63, {}), (65, 59, {}), (65, 66, {}), (65, 67, {}), (65, 68, {}), (65, 84, {}), (65, 85, {}), (63, 58, {}), (63, 62, {}), (63, 61, {}), (63, 59, {}), (63, 64, {}), (59, 58, {}), (59, 60, {}), (59, 61, {}), (58, 55, {}), (58, 57, {}), (58, 56, {}), (58, 60, {}), (58, 61, {}), (58, 84, {}), (58, 85, {}), (55, 1, {}), (55, 54, {}), (55, 48, {}), (55, 46, {}), (55, 45, {}), (55, 44, {}), (55, 43, {}), (55, 13, {}), (55, 56, {}), (55, 57, {}), (55, 80, {}), (55, 84, {}), (55, 85, {}), (44, 43, {}), (44, 45, {}), (44, 46, {}), (44, 47, {}), (44, 48, {}), (44, 50, {}), (44, 51, {}), (44, 52, {}), (44, 53, {}), (44, 54, {}), (43, 1, {}), (43, 42, {}), (43, 41, {}), (43, 40, {}), (43, 39, {}), (43, 38, {}), (43, 37, {}), (43, 33, {}), (43, 32, {}), (43, 18, {}), (43, 16, {}), (43, 13, {}), (43, 53, {}), (43, 54, {}), (18, 16, {}), (18, 32, {}), (18, 17, {}), (18, 19, {}), (18, 20, {}), (18, 22, {}), (18, 30, {}), (16, 1, {}), (16, 13, {}), (16, 15, {}), (16, 17, {}), (16, 22, {}), (16, 30, {}), (16, 32, {}), (13, 1, {}), (13, 12, {}), (13, 11, {}), (13, 8, {}), (13, 6, {}), (13, 5, {}), (13, 3, {}), (13, 14, {}), (13, 15, {}), (13, 22, {}), (13, 30, {}), (13, 32, {}), (1, 0, {}), (1, 2, {}), (1, 3, {}), (1, 4, {}), (1, 5, {}), (1, 6, {}), (1, 8, {}), (1, 10, {}), (1, 11, {}), (1, 22, {}), (1, 26, {}), (1, 30, {}), (1, 32, {}), (1, 37, {}), (1, 54, {}), (102, 126, {}), (102, 115, {}), (102, 103, {}), (102, 104, {}), (102, 105, {}), (102, 106, {}), (102, 108, {}), (102, 109, {}), (102, 110, {}), (102, 111, {}), (102, 112, {}), (102, 114, {}), (103, 115, {}), (103, 114, {}), (103, 112, {}), (103, 104, {}), (103, 105, {}), (103, 106, {}), (103, 109, {}), (103, 110, {}), (103, 111, {}), (104, 114, {}), (104, 112, {}), (104, 111, {}), (104, 105, {}), (104, 106, {}), (104, 109, {}), (104, 110, {}), (105, 114, {}), (105, 111, {}), (105, 110, {}), (105, 106, {}), (106, 114, {}), (106, 111, {}), (106, 110, {}), (106, 107, {}), (106, 108, {}), (106, 109, {}), (108, 109, {}), (108, 107, {}), (109, 111, {}), (109, 110, {}), (109, 107, {}), (110, 111, {}), (111, 114, {}), (111, 112, {}), (111, 107, {}), (112, 114, {}), (112, 113, {}), (113, 114, {}), (114, 115, {}), (115, 126, {}), (115, 116, {}), (115, 118, {}), (115, 120, {}), (115, 121, {}), (115, 123, {}), (115, 124, {}), (115, 125, {}), (124, 126, {}), (124, 123, {}), (124, 122, {}), (124, 121, {}), (124, 118, {}), (124, 117, {}), (124, 116, {}), (124, 125, {}), (125, 126, {}), (126, 210, {}), (126, 121, {}), (126, 118, {}), (126, 117, {}), (126, 116, {}), (126, 127, {}), (126, 128, {}), (126, 144, {}), (126, 149, {}), (126, 152, {}), (126, 153, {}), (153, 210, {}), (153, 152, {}), (153, 151, {}), (153, 150, {}), (153, 149, {}), (153, 146, {}), (153, 145, {}), (153, 144, {}), (153, 138, {}), (153, 134, {}), (153, 133, {}), (153, 131, {}), (153, 130, {}), (153, 129, {}), (153, 128, {}), (153, 127, {}), (153, 154, {}), (153, 155, {}), (153, 159, {}), (153, 162, {}), (153, 187, {}), (153, 188, {}), (153, 189, {}), (189, 210, {}), (189, 188, {}), (189, 187, {}), (189, 184, {}), (189, 182, {}), (189, 181, {}), (189, 178, {}), (189, 177, {}), (189, 175, {}), (189, 174, {}), (189, 168, {}), (189, 167, {}), (189, 164, {}), (189, 163, {}), (189, 162, {}), (189, 155, {}), (189, 154, {}), (189, 190, {}), (189, 192, {}), (189, 193, {}), (189, 196, {}), (189, 197, {}), (189, 200, {}), (189, 201, {}), (189, 202, {}), (189, 205, {}), (189, 206, {}), (189, 207, {}), (189, 208, {}), (210, 209, {}), (210, 208, {}), (210, 207, {}), (210, 206, {}), (210, 205, {}), (210, 204, {}), (210, 203, {}), (210, 202, {}), (210, 197, {}), (210, 196, {}), (210, 195, {}), (210, 194, {}), (210, 193, {}), (210, 190, {}), (210, 162, {}), (210, 155, {}), (210, 154, {}), (210, 128, {}), (210, 127, {}), (210, 211, {}), (210, 212, {}), (210, 213, {}), (210, 214, {}), (210, 215, {}), (210, 217, {}), (210, 219, {}), (210, 220, {}), (210, 221, {}), (210, 231, {}), (210, 233, {}), (210, 234, {}), (210, 235, {}), (210, 262, {}), (210, 272, {}), (210, 273, {}), (210, 275, {}), (210, 288, {}), (210, 289, {}), (210, 292, {}), (210, 306, {}), (210, 324, {}), (210, 325, {}), (210, 352, {}), (210, 353, {}), (210, 354, {}), (210, 355, {}), (210, 468, {}), (210, 621, {}), (210, 622, {}), (621, 622, {}), (621, 355, {}), (621, 468, {}), (621, 620, {}), (621, 619, {}), (621, 618, {}), (621, 609, {}), (621, 608, {}), (621, 607, {}), (621, 606, {}), (621, 599, {}), (621, 596, {}), (621, 583, {}), (621, 573, {}), (621, 565, {}), (621, 563, {}), (621, 558, {}), (621, 557, {}), (621, 526, {}), (621, 491, {}), (621, 472, {}), (622, 619, {}), (622, 618, {}), (622, 611, {}), (622, 610, {}), (622, 609, {}), (622, 608, {}), (622, 607, {}), (622, 606, {}), (622, 599, {}), (622, 596, {}), (622, 583, {}), (622, 573, {}), (622, 565, {}), (622, 563, {}), (622, 558, {}), (622, 557, {}), (622, 526, {}), (622, 491, {}), (622, 472, {}), (622, 468, {}), (622, 362, {}), (622, 356, {}), (622, 355, {}), (622, 235, {}), (622, 623, {}), (622, 626, {}), (622, 635, {}), (622, 637, {}), (622, 638, {}), (622, 640, {}), (622, 641, {}), (622, 643, {}), (622, 644, {}), (622, 645, {}), (622, 657, {}), (622, 658, {}), (622, 660, {}), (622, 662, {}), (622, 664, {}), (622, 681, {}), (622, 683, {}), (622, 716, {}), (622, 720, {}), (622, 732, {}), (622, 757, {}), (622, 790, {}), (622, 795, {}), (2, 3, {}), (3, 4, {}), (3, 5, {}), (3, 6, {}), (3, 8, {}), (3, 10, {}), (3, 11, {}), (4, 5, {}), (5, 11, {}), (5, 6, {}), (5, 8, {}), (6, 11, {}), (6, 8, {}), (6, 7, {}), (8, 11, {}), (8, 7, {}), (8, 9, {}), (8, 10, {}), (10, 11, {}), (10, 9, {}), (11, 9, {}), (11, 12, {}), (22, 32, {}), (22, 30, {}), (22, 21, {}), (22, 20, {}), (22, 19, {}), (22, 23, {}), (22, 26, {}), (26, 32, {}), (26, 30, {}), (26, 23, {}), (26, 24, {}), (26, 25, {}), (26, 27, {}), (26, 28, {}), (30, 32, {}), (30, 29, {}), (30, 28, {}), (30, 24, {}), (30, 23, {}), (30, 31, {}), (32, 31, {}), (32, 24, {}), (32, 23, {}), (32, 33, {}), (32, 37, {}), (37, 33, {}), (37, 36, {}), (37, 35, {}), (37, 34, {}), (37, 38, {}), (54, 53, {}), (54, 52, {}), (54, 51, {}), (54, 49, {}), (54, 48, {}), (54, 46, {}), (54, 45, {}), (209, 208, {}), (208, 207, {}), (208, 202, {}), (208, 193, {}), (208, 190, {}), (207, 190, {}), (207, 206, {}), (207, 204, {}), (207, 203, {}), (207, 202, {}), (207, 193, {}), (206, 190, {}), (206, 205, {}), (206, 204, {}), (206, 203, {}), (206, 202, {}), (206, 193, {}), (205, 202, {}), (205, 204, {}), (205, 203, {}), (204, 202, {}), (204, 203, {}), (203, 202, {}), (202, 190, {}), (202, 201, {}), (202, 199, {}), (202, 198, {}), (202, 197, {}), (202, 196, {}), (202, 195, {}), (202, 194, {}), (202, 193, {}), (197, 190, {}), (197, 193, {}), (197, 201, {}), (197, 196, {}), (197, 195, {}), (197, 198, {}), (197, 199, {}), (197, 200, {}), (196, 193, {}), (196, 195, {}), (195, 193, {}), (195, 194, {}), (194, 193, {}), (193, 190, {}), (193, 192, {}), (193, 191, {}), (193, 201, {}), (190, 191, {}), (190, 192, {}), (190, 201, {}), (162, 155, {}), (162, 161, {}), (162, 160, {}), (162, 159, {}), (162, 158, {}), (162, 163, {}), (162, 164, {}), (162, 165, {}), (162, 166, {}), (162, 167, {}), (162, 172, {}), (162, 173, {}), (162, 174, {}), (162, 180, {}), (162, 181, {}), (162, 182, {}), (162, 183, {}), (162, 184, {}), (162, 187, {}), (162, 188, {}), (155, 154, {}), (155, 156, {}), (155, 157, {}), (155, 158, {}), (155, 159, {}), (155, 188, {}), (128, 127, {}), (128, 129, {}), (128, 130, {}), (128, 131, {}), (128, 132, {}), (128, 133, {}), (128, 134, {}), (128, 138, {}), (128, 141, {}), (128, 142, {}), (128, 143, {}), (128, 144, {}), (128, 149, {}), (128, 152, {}), (211, 221, {}), (211, 212, {}), (211, 213, {}), (211, 219, {}), (211, 220, {}), (212, 221, {}), (212, 213, {}), (213, 221, {}), (213, 220, {}), (213, 214, {}), (213, 215, {}), (213, 219, {}), (214, 221, {}), (214, 220, {}), (214, 215, {}), (215, 221, {}), (215, 220, {}), (215, 219, {}), (215, 216, {}), (215, 217, {}), (217, 221, {}), (217, 219, {}), (217, 216, {}), (217, 218, {}), (219, 221, {}), (219, 220, {}), (219, 218, {}), (219, 216, {}), (220, 221, {}), (220, 216, {}), (221, 235, {}), (221, 216, {}), (221, 222, {}), (221, 223, {}), (221, 224, {}), (221, 225, {}), (221, 226, {}), (221, 227, {}), (221, 229, {}), (221, 230, {}), (221, 231, {}), (221, 233, {}), (221, 234, {}), (231, 235, {}), (231, 234, {}), (231, 233, {}), (231, 230, {}), (231, 232, {}), (233, 234, {}), (233, 232, {}), (233, 230, {}), (234, 235, {}), (234, 230, {}), (234, 223, {}), (234, 222, {}), (235, 230, {}), (235, 223, {}), (235, 222, {}), (235, 236, {}), (235, 238, {}), (235, 239, {}), (235, 242, {}), (235, 243, {}), (235, 247, {}), (235, 249, {}), (235, 250, {}), (235, 251, {}), (235, 255, {}), (235, 256, {}), (235, 258, {}), (235, 259, {}), (235, 260, {}), (235, 261, {}), (235, 262, {}), (235, 272, {}), (235, 273, {}), (235, 275, {}), (235, 289, {}), (235, 292, {}), (235, 325, {}), (235, 355, {}), (262, 236, {}), (262, 275, {}), (262, 273, {}), (262, 261, {}), (262, 259, {}), (262, 258, {}), (262, 256, {}), (262, 251, {}), (262, 239, {}), (262, 237, {}), (262, 263, {}), (262, 264, {}), (262, 265, {}), (262, 266, {}), (262, 267, {}), (262, 268, {}), (262, 269, {}), (262, 272, {}), (272, 236, {}), (272, 273, {}), (272, 271, {}), (272, 270, {}), (272, 269, {}), (272, 268, {}), (273, 236, {}), (273, 275, {}), (273, 269, {}), (273, 268, {}), (273, 274, {}), (275, 292, {}), (275, 289, {}), (275, 236, {}), (275, 274, {}), (275, 237, {}), (275, 276, {}), (275, 283, {}), (275, 285, {}), (275, 288, {}), (288, 289, {}), (288, 276, {}), (288, 287, {}), (288, 286, {}), (288, 285, {}), (288, 283, {}), (288, 278, {}), (288, 277, {}), (289, 292, {}), (289, 286, {}), (289, 285, {}), (289, 283, {}), (289, 279, {}), (289, 278, {}), (289, 277, {}), (289, 276, {}), (289, 236, {}), (289, 290, {}), (289, 291, {}), (292, 355, {}), (292, 325, {}), (292, 291, {}), (292, 290, {}), (292, 276, {}), (292, 236, {}), (292, 293, {}), (292, 295, {}), (292, 296, {}), (292, 302, {}), (292, 304, {}), (292, 305, {}), (292, 306, {}), (292, 324, {}), (306, 325, {}), (306, 305, {}), (306, 304, {}), (306, 302, {}), (306, 301, {}), (306, 300, {}), (306, 299, {}), (306, 298, {}), (306, 297, {}), (306, 296, {}), (306, 293, {}), (306, 307, {}), (306, 309, {}), (306, 311, {}), (306, 319, {}), (306, 320, {}), (306, 321, {}), (306, 322, {}), (306, 323, {}), (306, 324, {}), (324, 325, {}), (324, 323, {}), (324, 322, {}), (324, 320, {}), (324, 319, {}), (324, 316, {}), (324, 315, {}), (324, 313, {}), (324, 312, {}), (324, 311, {}), (324, 309, {}), (324, 307, {}), (325, 355, {}), (325, 322, {}), (325, 320, {}), (325, 319, {}), (325, 316, {}), (325, 315, {}), (325, 314, {}), (325, 313, {}), (325, 312, {}), (325, 311, {}), (325, 309, {}), (325, 307, {}), (325, 326, {}), (325, 334, {}), (325, 346, {}), (325, 347, {}), (325, 351, {}), (325, 352, {}), (325, 353, {}), (325, 354, {}), (352, 355, {}), (352, 326, {}), (352, 353, {}), (352, 351, {}), (352, 347, {}), (352, 338, {}), (352, 337, {}), (352, 336, {}), (352, 335, {}), (352, 334, {}), (352, 327, {}), (353, 355, {}), (353, 326, {}), (353, 347, {}), (353, 338, {}), (353, 337, {}), (353, 336, {}), (353, 335, {}), (353, 334, {}), (353, 327, {}), (353, 354, {}), (354, 355, {}), (355, 347, {}), (355, 338, {}), (355, 337, {}), (355, 336, {}), (355, 335, {}), (355, 334, {}), (355, 330, {}), (355, 327, {}), (355, 326, {}), (355, 236, {}), (355, 356, {}), (355, 362, {}), (355, 374, {}), (355, 375, {}), (355, 382, {}), (355, 387, {}), (355, 392, {}), (355, 395, {}), (355, 398, {}), (355, 399, {}), (355, 400, {}), (355, 401, {}), (355, 405, {}), (355, 413, {}), (355, 415, {}), (355, 416, {}), (355, 457, {}), (355, 468, {}), (468, 356, {}), (468, 467, {}), (468, 465, {}), (468, 464, {}), (468, 463, {}), (468, 462, {}), (468, 461, {}), (468, 460, {}), (468, 459, {}), (468, 458, {}), (468, 457, {}), (468, 437, {}), (468, 436, {}), (468, 435, {}), (468, 431, {}), (468, 420, {}), (468, 416, {}), (468, 362, {}), (468, 469, {}), (468, 472, {}), (468, 485, {}), (468, 490, {}), (468, 491, {}), (468, 511, {}), (468, 514, {}), (468, 525, {}), (468, 526, {}), (468, 557, {}), (95, 93, {}), (95, 94, {}), (94, 93, {}), (93, 92, {}), (93, 91, {}), (93, 90, {}), (90, 91, {}), (121, 116, {}), (121, 120, {}), (121, 118, {}), (121, 117, {}), (121, 122, {}), (121, 123, {}), (118, 116, {}), (118, 117, {}), (118, 119, {}), (118, 120, {}), (117, 116, {}), (116, 120, {}), (116, 123, {}), (144, 129, {}), (144, 143, {}), (144, 142, {}), (144, 139, {}), (144, 138, {}), (144, 134, {}), (144, 133, {}), (144, 131, {}), (144, 130, {}), (144, 145, {}), (144, 149, {}), (144, 152, {}), (149, 145, {}), (149, 148, {}), (149, 146, {}), (149, 150, {}), (149, 151, {}), (149, 152, {}), (152, 145, {}), (152, 151, {}), (152, 150, {}), (619, 618, {}), (619, 620, {}), (618, 596, {}), (618, 617, {}), (618, 616, {}), (618, 614, {}), (618, 613, {}), (618, 612, {}), (618, 611, {}), (618, 610, {}), (618, 609, {}), (618, 608, {}), (618, 607, {}), (618, 606, {}), (618, 599, {}), (611, 617, {}), (611, 616, {}), (611, 609, {}), (611, 610, {}), (611, 612, {}), (610, 617, {}), (610, 616, {}), (610, 609, {}), (610, 612, {}), (610, 613, {}), (610, 615, {}), (609, 606, {}), (609, 617, {}), (609, 607, {}), (609, 608, {}), (609, 616, {}), (609, 612, {}), (609, 613, {}), (609, 615, {}), (608, 606, {}), (608, 617, {}), (608, 607, {}), (608, 615, {}), (608, 616, {}), (607, 606, {}), (607, 617, {}), (607, 612, {}), (607, 613, {}), (607, 615, {}), (607, 616, {}), (606, 596, {}), (606, 599, {}), (606, 605, {}), (606, 604, {}), (606, 602, {}), (606, 612, {}), (606, 613, {}), (606, 614, {}), (606, 615, {}), (606, 616, {}), (606, 617, {}), (599, 596, {}), (599, 598, {}), (599, 597, {}), (599, 600, {}), (599, 601, {}), (599, 602, {}), (599, 604, {}), (599, 605, {}), (596, 557, {}), (596, 558, {}), (596, 595, {}), (596, 594, {}), (596, 592, {}), (596, 591, {}), (596, 589, {}), (596, 588, {}), (596, 587, {}), (596, 586, {}), (596, 583, {}), (596, 563, {}), (596, 597, {}), (596, 598, {}), (596, 604, {}), (596, 605, {}), (596, 617, {}), (583, 557, {}), (583, 558, {}), (583, 563, {}), (583, 582, {}), (583, 581, {}), (583, 576, {}), (583, 574, {}), (583, 573, {}), (583, 584, {}), (583, 585, {}), (583, 586, {}), (583, 589, {}), (583, 590, {}), (583, 591, {}), (583, 594, {}), (583, 595, {}), (573, 557, {}), (573, 558, {}), (573, 563, {}), (573, 572, {}), (573, 568, {}), (573, 567, {}), (573, 566, {}), (573, 565, {}), (573, 574, {}), (573, 575, {}), (573, 576, {}), (573, 581, {}), (565, 563, {}), (565, 564, {}), (565, 566, {}), (565, 567, {}), (565, 568, {}), (565, 570, {}), (565, 571, {}), (565, 572, {}), (563, 557, {}), (563, 558, {}), (563, 562, {}), (563, 561, {}), (563, 560, {}), (563, 559, {}), (563, 564, {}), (563, 568, {}), (563, 570, {}), (563, 571, {}), (563, 572, {}), (558, 557, {}), (558, 559, {}), (558, 560, {}), (558, 561, {}), (558, 562, {}), (557, 472, {}), (557, 526, {}), (557, 556, {}), (557, 555, {}), (557, 554, {}), (557, 550, {}), (557, 549, {}), (557, 548, {}), (557, 538, {}), (557, 527, {}), (557, 560, {}), (557, 561, {}), (557, 562, {}), (557, 572, {}), (557, 581, {}), (526, 472, {}), (526, 491, {}), (526, 525, {}), (526, 522, {}), (526, 515, {}), (526, 514, {}), (526, 511, {}), (526, 527, {}), (526, 528, {}), (526, 529, {}), (526, 531, {}), (526, 532, {}), (526, 533, {}), (526, 534, {}), (526, 536, {}), (526, 537, {}), (526, 538, {}), (526, 547, {}), (526, 548, {}), (491, 472, {}), (491, 490, {}), (491, 485, {}), (491, 492, {}), (491, 493, {}), (491, 494, {}), (491, 495, {}), (491, 496, {}), (491, 497, {}), (491, 498, {}), (491, 501, {}), (491, 502, {}), (491, 509, {}), (491, 511, {}), (491, 514, {}), (491, 525, {}), (472, 471, {}), (472, 470, {}), (472, 469, {}), (472, 473, {}), (472, 474, {}), (472, 475, {}), (472, 477, {}), (472, 478, {}), (472, 479, {}), (472, 480, {}), (472, 481, {}), (472, 482, {}), (472, 483, {}), (472, 484, {}), (472, 485, {}), (472, 490, {}), (472, 511, {}), (472, 514, {}), (472, 525, {}), (362, 356, {}), (362, 416, {}), (362, 361, {}), (362, 360, {}), (362, 359, {}), (362, 358, {}), (362, 357, {}), (362, 363, {}), (362, 364, {}), (362, 366, {}), (362, 367, {}), (362, 368, {}), (362, 369, {}), (362, 373, {}), (362, 374, {}), (362, 382, {}), (362, 387, {}), (362, 399, {}), (362, 400, {}), (362, 401, {}), (362, 405, {}), (362, 413, {}), (362, 415, {}), (356, 357, {}), (356, 358, {}), (356, 359, {}), (356, 374, {}), (356, 382, {}), (356, 387, {}), (356, 392, {}), (356, 398, {}), (356, 399, {}), (356, 400, {}), (356, 401, {}), (356, 405, {}), (356, 413, {}), (356, 415, {}), (356, 416, {}), (623, 624, {}), (623, 625, {}), (623, 626, {}), (623, 638, {}), (623, 640, {}), (623, 641, {}), (623, 643, {}), (623, 644, {}), (623, 645, {}), (623, 657, {}), (623, 658, {}), (623, 660, {}), (623, 681, {}), (623, 683, {}), (623, 720, {}), (623, 732, {}), (623, 757, {}), (623, 795, {}), (626, 625, {}), (626, 624, {}), (626, 627, {}), (626, 628, {}), (626, 629, {}), (626, 633, {}), (626, 634, {}), (626, 635, {}), (626, 637, {}), (626, 638, {}), (626, 640, {}), (626, 641, {}), (626, 643, {}), (626, 644, {}), (626, 645, {}), (626, 657, {}), (626, 658, {}), (626, 660, {}), (626, 681, {}), (626, 683, {}), (626, 732, {}), (626, 757, {}), (626, 795, {}), (635, 627, {}), (635, 645, {}), (635, 628, {}), (635, 629, {}), (635, 644, {}), (635, 643, {}), (635, 634, {}), (635, 633, {}), (635, 632, {}), (635, 631, {}), (635, 630, {}), (635, 636, {}), (635, 637, {}), (635, 638, {}), (637, 627, {}), (637, 628, {}), (637, 638, {}), (637, 636, {}), (638, 627, {}), (638, 645, {}), (638, 628, {}), (638, 629, {}), (638, 644, {}), (638, 643, {}), (638, 639, {}), (638, 640, {}), (638, 641, {}), (640, 645, {}), (640, 644, {}), (640, 641, {}), (640, 639, {}), (641, 627, {}), (641, 645, {}), (641, 628, {}), (641, 629, {}), (641, 644, {}), (641, 643, {}), (641, 642, {}), (643, 627, {}), (643, 645, {}), (643, 628, {}), (643, 629, {}), (643, 644, {}), (643, 642, {}), (644, 627, {}), (644, 645, {}), (644, 628, {}), (644, 629, {}), (645, 660, {}), (645, 658, {}), (645, 627, {}), (645, 629, {}), (645, 628, {}), (645, 646, {}), (645, 647, {}), (645, 653, {}), (645, 654, {}), (645, 655, {}), (645, 656, {}), (645, 657, {}), (657, 658, {}), (657, 656, {}), (657, 655, {}), (657, 653, {}), (657, 652, {}), (657, 651, {}), (657, 650, {}), (657, 649, {}), (657, 648, {}), (657, 647, {}), (657, 646, {}), (658, 660, {}), (658, 652, {}), (658, 651, {}), (658, 650, {}), (658, 649, {}), (658, 648, {}), (658, 647, {}), (658, 646, {}), (658, 629, {}), (658, 628, {}), (658, 627, {}), (658, 659, {}), (660, 681, {}), (660, 659, {}), (660, 629, {}), (660, 628, {}), (660, 627, {}), (660, 661, {}), (660, 662, {}), (662, 681, {}), (662, 661, {}), (662, 663, {}), (662, 664, {}), (664, 681, {}), (664, 663, {}), (664, 665, {}), (664, 669, {}), (664, 671, {}), (664, 675, {}), (664, 676, {}), (664, 677, {}), (664, 679, {}), (664, 680, {}), (681, 680, {}), (681, 679, {}), (681, 678, {}), (681, 677, {}), (681, 676, {}), (681, 675, {}), (681, 674, {}), (681, 673, {}), (681, 672, {}), (681, 671, {}), (681, 669, {}), (681, 667, {}), (681, 666, {}), (681, 665, {}), (681, 682, {}), (681, 683, {}), (683, 682, {}), (683, 684, {}), (683, 685, {}), (683, 686, {}), (683, 692, {}), (683, 693, {}), (683, 694, {}), (683, 695, {}), (683, 697, {}), (683, 698, {}), (683, 700, {}), (683, 716, {}), (683, 720, {}), (683, 732, {}), (716, 732, {}), (716, 700, {}), (716, 715, {}), (716, 714, {}), (716, 712, {}), (716, 711, {}), (716, 708, {}), (716, 706, {}), (716, 705, {}), (716, 717, {}), (716, 718, {}), (716, 719, {}), (716, 720, {}), (720, 732, {}), (720, 719, {}), (720, 718, {}), (720, 717, {}), (720, 721, {}), (720, 723, {}), (720, 724, {}), (720, 730, {}), (720, 731, {}), (732, 731, {}), (732, 730, {}), (732, 729, {}), (732, 728, {}), (732, 727, {}), (732, 726, {}), (732, 725, {}), (732, 724, {}), (732, 723, {}), (732, 721, {}), (732, 705, {}), (732, 700, {}), (732, 685, {}), (732, 684, {}), (732, 733, {}), (732, 734, {}), (732, 735, {}), (732, 736, {}), (732, 749, {}), (732, 750, {}), (732, 757, {}), (757, 756, {}), (757, 755, {}), (757, 752, {}), (757, 750, {}), (757, 737, {}), (757, 736, {}), (757, 735, {}), (757, 734, {}), (757, 758, {}), (757, 760, {}), (757, 761, {}), (757, 770, {}), (757, 771, {}), (757, 773, {}), (757, 774, {}), (757, 785, {}), (757, 786, {}), (757, 789, {}), (757, 790, {}), (757, 795, {}), (790, 795, {}), (790, 789, {}), (790, 788, {}), (790, 787, {}), (790, 786, {}), (790, 783, {}), (790, 779, {}), (790, 778, {}), (790, 776, {}), (790, 774, {}), (790, 761, {}), (790, 760, {}), (790, 758, {}), (790, 791, {}), (795, 794, {}), (795, 793, {}), (795, 792, {}), (795, 791, {}), (795, 774, {}), (795, 761, {}), (795, 760, {}), (795, 758, {}), (795, 796, {}), (795, 808, {}), (795, 809, {}), (795, 810, {}), (795, 812, {}), (795, 819, {}), (795, 820, {}), (795, 822, {}), (795, 825, {}), (48, 53, {}), (48, 51, {}), (48, 46, {}), (48, 47, {}), (48, 49, {}), (48, 50, {}), (46, 53, {}), (46, 51, {}), (46, 45, {}), (46, 47, {}), (56, 57, {}), (80, 79, {}), (80, 76, {}), (80, 75, {}), (80, 81, {}), (84, 85, {}), (84, 83, {}), (85, 86, {}), (120, 119, {}), (123, 122, {}), (151, 150, {}), (146, 145, {}), (146, 148, {}), (146, 147, {}), (145, 147, {}), (145, 148, {}), (138, 129, {}), (138, 142, {}), (138, 130, {}), (138, 134, {}), (138, 137, {}), (138, 136, {}), (138, 135, {}), (138, 139, {}), (138, 141, {}), (134, 129, {}), (134, 142, {}), (134, 130, {}), (134, 133, {}), (134, 135, {}), (134, 136, {}), (133, 129, {}), (133, 142, {}), (133, 130, {}), (133, 131, {}), (133, 132, {}), (131, 129, {}), (131, 142, {}), (131, 130, {}), (131, 132, {}), (130, 129, {}), (130, 142, {}), (130, 132, {}), (129, 132, {}), (129, 141, {}), (129, 142, {}), (159, 158, {}), (159, 160, {}), (187, 188, {}), (187, 186, {}), (187, 185, {}), (187, 184, {}), (187, 178, {}), (187, 177, {}), (187, 175, {}), (187, 174, {}), (187, 168, {}), (187, 167, {}), (187, 164, {}), (187, 163, {}), (188, 184, {}), (188, 182, {}), (188, 181, {}), (188, 178, {}), (188, 177, {}), (188, 175, {}), (188, 174, {}), (188, 168, {}), (188, 167, {}), (188, 164, {}), (188, 163, {}), (230, 229, {}), (230, 228, {}), (230, 227, {}), (230, 223, {}), (230, 222, {}), (223, 222, {}), (223, 227, {}), (223, 224, {}), (223, 225, {}), (223, 226, {}), (222, 225, {}), (222, 226, {}), (222, 227, {}), (236, 237, {}), (236, 238, {}), (236, 239, {}), (236, 243, {}), (236, 247, {}), (236, 249, {}), (236, 250, {}), (236, 251, {}), (236, 256, {}), (236, 258, {}), (236, 259, {}), (236, 260, {}), (236, 261, {}), (238, 237, {}), (238, 239, {}), (239, 251, {}), (239, 237, {}), (239, 240, {}), (239, 241, {}), (239, 242, {}), (239, 243, {}), (242, 243, {}), (242, 240, {}), (242, 241, {}), (243, 251, {}), (243, 237, {}), (243, 241, {}), (243, 240, {}), (243, 244, {}), (243, 245, {}), (243, 246, {}), (243, 247, {}), (243, 249, {}), (243, 250, {}), (247, 251, {}), (247, 250, {}), (247, 246, {}), (247, 245, {}), (247, 244, {}), (247, 248, {}), (247, 249, {}), (249, 251, {}), (249, 250, {}), (249, 248, {}), (250, 251, {}), (251, 261, {}), (251, 237, {}), (251, 252, {}), (251, 253, {}), (251, 254, {}), (251, 255, {}), (251, 256, {}), (255, 256, {}), (255, 254, {}), (255, 252, {}), (256, 261, {}), (256, 254, {}), (256, 252, {}), (256, 257, {}), (256, 258, {}), (258, 261, {}), (258, 257, {}), (258, 259, {}), (259, 261, {}), (259, 260, {}), (260, 261, {}), (261, 237, {}), (624, 625, {}), (42, 38, {}), (42, 39, {}), (42, 41, {}), (41, 38, {}), (41, 39, {}), (41, 40, {}), (40, 39, {}), (39, 38, {}), (33, 34, {}), (33, 35, {}), (33, 36, {}), (53, 52, {}), (53, 51, {}), (60, 61, {}), (61, 62, {}), (184, 163, {}), (184, 164, {}), (184, 167, {}), (184, 183, {}), (184, 182, {}), (184, 181, {}), (184, 178, {}), (184, 177, {}), (184, 175, {}), (184, 174, {}), (184, 185, {}), (182, 163, {}), (182, 167, {}), (182, 174, {}), (182, 183, {}), (182, 181, {}), (182, 178, {}), (182, 177, {}), (182, 175, {}), (181, 174, {}), (181, 177, {}), (181, 180, {}), (181, 179, {}), (181, 178, {}), (178, 183, {}), (178, 177, {}), (178, 179, {}), (178, 180, {}), (177, 174, {}), (177, 183, {}), (177, 175, {}), (177, 176, {}), (177, 179, {}), (177, 180, {}), (175, 174, {}), (175, 183, {}), (175, 176, {}), (174, 167, {}), (174, 173, {}), (174, 172, {}), (174, 169, {}), (174, 168, {}), (174, 176, {}), (174, 180, {}), (174, 183, {}), (168, 167, {}), (168, 169, {}), (168, 170, {}), (168, 171, {}), (168, 172, {}), (168, 173, {}), (167, 163, {}), (167, 164, {}), (167, 166, {}), (167, 165, {}), (167, 170, {}), (167, 171, {}), (167, 172, {}), (167, 173, {}), (167, 183, {}), (164, 163, {}), (164, 165, {}), (164, 166, {}), (164, 183, {}), (163, 183, {}), (192, 191, {}), (200, 201, {}), (200, 198, {}), (200, 199, {}), (201, 199, {}), (201, 198, {}), (224, 227, {}), (224, 225, {}), (225, 227, {}), (225, 226, {}), (226, 227, {}), (227, 228, {}), (227, 229, {}), (229, 228, {}), (347, 326, {}), (347, 334, {}), (347, 351, {}), (347, 346, {}), (347, 339, {}), (347, 338, {}), (347, 337, {}), (347, 336, {}), (347, 335, {}), (347, 348, {}), (347, 349, {}), (347, 350, {}), (338, 334, {}), (338, 351, {}), (338, 335, {}), (338, 346, {}), (338, 336, {}), (338, 337, {}), (338, 339, {}), (338, 340, {}), (338, 341, {}), (338, 342, {}), (338, 343, {}), (338, 344, {}), (338, 345, {}), (337, 334, {}), (337, 351, {}), (337, 335, {}), (337, 346, {}), (337, 336, {}), (336, 334, {}), (336, 351, {}), (336, 335, {}), (336, 346, {}), (335, 334, {}), (335, 351, {}), (335, 344, {}), (335, 345, {}), (335, 346, {}), (334, 326, {}), (334, 327, {}), (334, 333, {}), (334, 332, {}), (334, 331, {}), (334, 330, {}), (334, 344, {}), (334, 345, {}), (334, 346, {}), (334, 351, {}), (330, 326, {}), (330, 327, {}), (330, 329, {}), (330, 331, {}), (330, 332, {}), (327, 326, {}), (327, 328, {}), (327, 329, {}), (326, 329, {}), (326, 346, {}), (326, 351, {}), (374, 416, {}), (374, 405, {}), (374, 373, {}), (374, 372, {}), (374, 371, {}), (374, 370, {}), (374, 369, {}), (374, 364, {}), (374, 363, {}), (374, 375, {}), (374, 382, {}), (375, 416, {}), (375, 382, {}), (375, 376, {}), (375, 377, {}), (375, 381, {}), (382, 416, {}), (382, 405, {}), (382, 381, {}), (382, 380, {}), (382, 379, {}), (382, 378, {}), (382, 377, {}), (382, 376, {}), (382, 383, {}), (382, 384, {}), (382, 386, {}), (382, 387, {}), (382, 399, {}), (382, 400, {}), (387, 416, {}), (387, 405, {}), (387, 400, {}), (387, 386, {}), (387, 384, {}), (387, 388, {}), (387, 389, {}), (387, 390, {}), (387, 392, {}), (387, 398, {}), (387, 399, {}), (392, 416, {}), (392, 400, {}), (392, 399, {}), (392, 391, {}), (392, 390, {}), (392, 389, {}), (392, 388, {}), (392, 393, {}), (392, 394, {}), (392, 395, {}), (392, 398, {}), (395, 400, {}), (395, 399, {}), (395, 394, {}), (395, 396, {}), (395, 397, {}), (395, 398, {}), (398, 399, {}), (398, 397, {}), (398, 396, {}), (399, 400, {}), (399, 397, {}), (399, 396, {}), (399, 394, {}), (400, 416, {}), (400, 405, {}), (400, 394, {}), (400, 401, {}), (401, 416, {}), (401, 405, {}), (401, 402, {}), (401, 404, {}), (405, 416, {}), (405, 404, {}), (405, 402, {}), (405, 406, {}), (405, 407, {}), (405, 409, {}), (405, 410, {}), (405, 411, {}), (405, 412, {}), (405, 413, {}), (405, 415, {}), (413, 416, {}), (413, 412, {}), (413, 411, {}), (413, 409, {}), (413, 408, {}), (413, 407, {}), (413, 406, {}), (413, 414, {}), (413, 415, {}), (415, 416, {}), (415, 414, {}), (416, 414, {}), (416, 411, {}), (416, 409, {}), (416, 408, {}), (416, 407, {}), (416, 406, {}), (416, 364, {}), (416, 363, {}), (416, 417, {}), (416, 418, {}), (416, 419, {}), (416, 420, {}), (416, 427, {}), (416, 428, {}), (416, 430, {}), (416, 431, {}), (416, 433, {}), (416, 435, {}), (416, 443, {}), (416, 455, {}), (416, 456, {}), (416, 457, {}), (457, 456, {}), (457, 455, {}), (457, 454, {}), (457, 453, {}), (457, 452, {}), (457, 449, {}), (457, 448, {}), (457, 447, {}), (457, 445, {}), (457, 444, {}), (457, 443, {}), (457, 437, {}), (457, 436, {}), (457, 435, {}), (457, 431, {}), (457, 420, {}), (457, 458, {}), (457, 459, {}), (457, 460, {}), (457, 462, {}), (457, 463, {}), (457, 464, {}), (457, 465, {}), (457, 466, {}), (457, 467, {}), (627, 628, {}), (627, 629, {}), (628, 629, {}), (629, 630, {}), (629, 631, {}), (629, 632, {}), (629, 633, {}), (629, 634, {}), (633, 631, {}), (633, 634, {}), (633, 632, {}), (634, 630, {}), (634, 631, {}), (634, 632, {}), (14, 15, {}), (50, 51, {}), (50, 49, {}), (51, 49, {}), (51, 52, {}), (141, 142, {}), (141, 140, {}), (141, 139, {}), (142, 140, {}), (142, 139, {}), (142, 143, {}), (322, 307, {}), (322, 323, {}), (322, 309, {}), (322, 311, {}), (322, 321, {}), (322, 320, {}), (322, 319, {}), (322, 315, {}), (322, 313, {}), (322, 312, {}), (320, 323, {}), (320, 319, {}), (320, 321, {}), (319, 307, {}), (319, 323, {}), (319, 311, {}), (319, 313, {}), (319, 318, {}), (319, 317, {}), (319, 316, {}), (319, 315, {}), (316, 315, {}), (316, 318, {}), (316, 317, {}), (315, 323, {}), (315, 311, {}), (315, 313, {}), (315, 314, {}), (315, 317, {}), (315, 318, {}), (314, 313, {}), (313, 323, {}), (313, 311, {}), (313, 312, {}), (313, 317, {}), (313, 318, {}), (312, 323, {}), (312, 311, {}), (311, 307, {}), (311, 323, {}), (311, 309, {}), (311, 310, {}), (311, 317, {}), (311, 318, {}), (309, 307, {}), (309, 323, {}), (309, 308, {}), (309, 310, {}), (307, 308, {}), (307, 323, {}), (346, 345, {}), (346, 344, {}), (346, 341, {}), (346, 340, {}), (346, 339, {}), (351, 350, {}), (351, 349, {}), (351, 348, {}), (357, 358, {}), (358, 359, {}), (359, 360, {}), (680, 665, {}), (680, 666, {}), (680, 667, {}), (680, 669, {}), (680, 671, {}), (680, 679, {}), (680, 677, {}), (680, 676, {}), (680, 675, {}), (680, 673, {}), (679, 665, {}), (679, 666, {}), (679, 667, {}), (679, 669, {}), (679, 671, {}), (679, 678, {}), (679, 677, {}), (679, 676, {}), (679, 675, {}), (679, 673, {}), (678, 677, {}), (677, 665, {}), (677, 666, {}), (677, 671, {}), (677, 676, {}), (677, 675, {}), (677, 673, {}), (676, 665, {}), (676, 666, {}), (676, 671, {}), (676, 675, {}), (676, 673, {}), (675, 665, {}), (675, 671, {}), (675, 674, {}), (675, 673, {}), (674, 671, {}), (674, 673, {}), (673, 671, {}), (673, 672, {}), (672, 671, {}), (671, 665, {}), (671, 666, {}), (671, 667, {}), (671, 669, {}), (671, 670, {}), (669, 665, {}), (669, 666, {}), (669, 667, {}), (669, 668, {}), (669, 670, {}), (667, 666, {}), (667, 668, {}), (666, 665, {}), (666, 668, {}), (665, 668, {}), (66, 67, {}), (66, 68, {}), (67, 68, {}), (91, 92, {}), (156, 158, {}), (156, 157, {}), (157, 158, {}), (291, 290, {}), (276, 277, {}), (276, 278, {}), (276, 279, {}), (276, 281, {}), (276, 282, {}), (276, 283, {}), (276, 285, {}), (293, 294, {}), (293, 295, {}), (293, 296, {}), (293, 304, {}), (293, 305, {}), (295, 296, {}), (295, 294, {}), (296, 297, {}), (296, 299, {}), (296, 300, {}), (296, 301, {}), (296, 302, {}), (296, 304, {}), (296, 305, {}), (302, 305, {}), (302, 297, {}), (302, 304, {}), (302, 301, {}), (302, 300, {}), (302, 299, {}), (302, 298, {}), (302, 303, {}), (304, 305, {}), (304, 297, {}), (304, 303, {}), (304, 298, {}), (305, 299, {}), (305, 298, {}), (305, 297, {}), (329, 328, {}), (467, 466, {}), (467, 465, {}), (467, 464, {}), (467, 463, {}), (467, 462, {}), (467, 461, {}), (467, 460, {}), (467, 459, {}), (467, 458, {}), (465, 458, {}), (465, 460, {}), (465, 464, {}), (465, 466, {}), (464, 458, {}), (464, 460, {}), (464, 463, {}), (464, 462, {}), (463, 460, {}), (463, 462, {}), (462, 460, {}), (462, 461, {}), (461, 460, {}), (460, 458, {}), (460, 459, {}), (459, 458, {}), (437, 436, {}), (437, 443, {}), (437, 438, {}), (437, 440, {}), (437, 442, {}), (436, 435, {}), (436, 438, {}), (436, 439, {}), (436, 440, {}), (436, 442, {}), (436, 443, {}), (436, 455, {}), (436, 456, {}), (435, 420, {}), (435, 434, {}), (435, 433, {}), (435, 431, {}), (435, 442, {}), (435, 443, {}), (435, 455, {}), (435, 456, {}), (431, 420, {}), (431, 430, {}), (431, 428, {}), (431, 421, {}), (431, 432, {}), (431, 433, {}), (420, 419, {}), (420, 418, {}), (420, 421, {}), (420, 422, {}), (420, 426, {}), (420, 427, {}), (420, 428, {}), (420, 430, {}), (420, 433, {}), (469, 470, {}), (469, 471, {}), (485, 490, {}), (485, 484, {}), (485, 475, {}), (485, 474, {}), (485, 473, {}), (485, 486, {}), (485, 487, {}), (485, 488, {}), (490, 489, {}), (490, 488, {}), (490, 486, {}), (511, 525, {}), (511, 510, {}), (511, 509, {}), (511, 502, {}), (511, 496, {}), (511, 495, {}), (511, 492, {}), (511, 512, {}), (511, 513, {}), (511, 514, {}), (514, 525, {}), (514, 513, {}), (514, 512, {}), (514, 515, {}), (514, 516, {}), (514, 517, {}), (514, 518, {}), (514, 519, {}), (514, 520, {}), (514, 521, {}), (514, 522, {}), (525, 524, {}), (525, 522, {}), (525, 515, {}), (684, 700, {}), (684, 685, {}), (684, 693, {}), (684, 694, {}), (684, 695, {}), (684, 697, {}), (684, 698, {}), (685, 700, {}), (685, 698, {}), (685, 697, {}), (685, 686, {}), (685, 693, {}), (685, 694, {}), (685, 695, {}), (686, 700, {}), (686, 698, {}), (686, 697, {}), (686, 687, {}), (686, 688, {}), (686, 689, {}), (686, 690, {}), (686, 691, {}), (686, 692, {}), (686, 693, {}), (686, 694, {}), (686, 695, {}), (692, 693, {}), (692, 687, {}), (692, 690, {}), (692, 691, {}), (693, 697, {}), (693, 695, {}), (693, 694, {}), (693, 691, {}), (693, 690, {}), (693, 689, {}), (693, 688, {}), (693, 687, {}), (694, 697, {}), (694, 695, {}), (694, 687, {}), (695, 697, {}), (695, 687, {}), (695, 696, {}), (697, 698, {}), (697, 696, {}), (697, 687, {}), (698, 700, {}), (698, 699, {}), (700, 699, {}), (700, 701, {}), (700, 702, {}), (700, 703, {}), (700, 704, {}), (700, 705, {}), (700, 715, {}), (24, 23, {}), (24, 25, {}), (139, 140, {}), (161, 160, {}), (165, 166, {}), (172, 171, {}), (172, 170, {}), (172, 169, {}), (172, 173, {}), (180, 179, {}), (286, 285, {}), (286, 287, {}), (285, 284, {}), (285, 283, {}), (285, 277, {}), (283, 282, {}), (283, 281, {}), (283, 280, {}), (283, 279, {}), (283, 278, {}), (283, 277, {}), (283, 284, {}), (279, 278, {}), (279, 280, {}), (279, 281, {}), (279, 282, {}), (278, 277, {}), (301, 297, {}), (301, 298, {}), (301, 299, {}), (301, 300, {}), (300, 297, {}), (300, 298, {}), (300, 299, {}), (299, 297, {}), (299, 298, {}), (298, 297, {}), (411, 412, {}), (411, 407, {}), (411, 410, {}), (411, 409, {}), (409, 407, {}), (409, 408, {}), (409, 410, {}), (408, 407, {}), (407, 412, {}), (407, 406, {}), (364, 363, {}), (364, 365, {}), (364, 366, {}), (364, 367, {}), (364, 369, {}), (363, 367, {}), (363, 369, {}), (417, 418, {}), (418, 419, {}), (427, 428, {}), (427, 421, {}), (427, 422, {}), (427, 426, {}), (427, 425, {}), (427, 424, {}), (427, 423, {}), (428, 430, {}), (428, 426, {}), (428, 425, {}), (428, 424, {}), (428, 423, {}), (428, 422, {}), (428, 421, {}), (428, 429, {}), (430, 429, {}), (433, 432, {}), (433, 434, {}), (443, 442, {}), (443, 438, {}), (443, 444, {}), (443, 445, {}), (443, 446, {}), (443, 447, {}), (443, 448, {}), (443, 451, {}), (443, 452, {}), (443, 455, {}), (443, 456, {}), (455, 456, {}), (455, 454, {}), (455, 453, {}), (455, 452, {}), (455, 448, {}), (455, 447, {}), (455, 444, {}), (456, 453, {}), (456, 452, {}), (456, 448, {}), (456, 447, {}), (456, 444, {}), (652, 655, {}), (652, 650, {}), (652, 651, {}), (652, 653, {}), (651, 656, {}), (651, 655, {}), (651, 650, {}), (651, 654, {}), (651, 653, {}), (650, 647, {}), (650, 656, {}), (650, 648, {}), (650, 655, {}), (650, 649, {}), (650, 653, {}), (650, 654, {}), (649, 647, {}), (649, 648, {}), (648, 647, {}), (648, 656, {}), (648, 653, {}), (648, 654, {}), (648, 655, {}), (647, 646, {}), (647, 653, {}), (647, 654, {}), (647, 655, {}), (647, 656, {}), (731, 721, {}), (731, 730, {}), (731, 727, {}), (731, 726, {}), (731, 725, {}), (731, 724, {}), (730, 721, {}), (730, 724, {}), (730, 725, {}), (730, 729, {}), (730, 728, {}), (730, 727, {}), (730, 726, {}), (729, 724, {}), (729, 725, {}), (729, 726, {}), (729, 728, {}), (729, 727, {}), (728, 726, {}), (728, 727, {}), (727, 726, {}), (726, 724, {}), (726, 725, {}), (725, 724, {}), (724, 721, {}), (724, 723, {}), (723, 721, {}), (723, 722, {}), (721, 722, {}), (705, 704, {}), (705, 706, {}), (705, 708, {}), (705, 710, {}), (705, 711, {}), (705, 714, {}), (705, 715, {}), (733, 734, {}), (734, 735, {}), (734, 736, {}), (734, 750, {}), (735, 750, {}), (735, 736, {}), (736, 750, {}), (736, 737, {}), (736, 738, {}), (736, 739, {}), (736, 740, {}), (736, 743, {}), (736, 744, {}), (736, 748, {}), (736, 749, {}), (749, 750, {}), (749, 737, {}), (749, 740, {}), (749, 748, {}), (749, 747, {}), (749, 746, {}), (749, 745, {}), (749, 744, {}), (749, 743, {}), (750, 748, {}), (750, 747, {}), (750, 746, {}), (750, 745, {}), (750, 744, {}), (750, 743, {}), (750, 742, {}), (750, 740, {}), (750, 738, {}), (750, 737, {}), (750, 751, {}), (750, 752, {}), (750, 755, {}), (750, 756, {}), (19, 20, {}), (20, 21, {}), (34, 35, {}), (35, 36, {}), (147, 148, {}), (361, 360, {}), (366, 367, {}), (366, 365, {}), (367, 369, {}), (367, 365, {}), (367, 368, {}), (368, 369, {}), (369, 370, {}), (369, 372, {}), (369, 373, {}), (373, 370, {}), (373, 372, {}), (373, 371, {}), (454, 452, {}), (454, 453, {}), (453, 452, {}), (452, 444, {}), (452, 451, {}), (452, 449, {}), (452, 448, {}), (452, 447, {}), (449, 448, {}), (449, 451, {}), (449, 450, {}), (448, 447, {}), (448, 451, {}), (447, 444, {}), (447, 446, {}), (447, 445, {}), (447, 451, {}), (445, 444, {}), (445, 446, {}), (444, 446, {}), (444, 451, {}), (471, 470, {}), (473, 484, {}), (473, 474, {}), (473, 475, {}), (473, 482, {}), (473, 483, {}), (474, 484, {}), (474, 475, {}), (474, 482, {}), (474, 483, {}), (475, 484, {}), (475, 476, {}), (475, 477, {}), (475, 478, {}), (475, 479, {}), (475, 480, {}), (475, 481, {}), (475, 482, {}), (475, 483, {}), (477, 484, {}), (477, 482, {}), (477, 481, {}), (477, 476, {}), (477, 478, {}), (477, 479, {}), (477, 480, {}), (478, 484, {}), (478, 482, {}), (478, 481, {}), (478, 476, {}), (478, 479, {}), (479, 484, {}), (479, 482, {}), (479, 481, {}), (479, 476, {}), (479, 480, {}), (480, 484, {}), (480, 482, {}), (480, 481, {}), (480, 476, {}), (481, 484, {}), (481, 482, {}), (481, 476, {}), (482, 484, {}), (482, 483, {}), (482, 476, {}), (483, 484, {}), (483, 476, {}), (484, 476, {}), (701, 702, {}), (702, 704, {}), (702, 703, {}), (703, 704, {}), (715, 711, {}), (715, 714, {}), (715, 712, {}), (756, 752, {}), (756, 755, {}), (755, 752, {}), (755, 754, {}), (755, 753, {}), (752, 751, {}), (752, 753, {}), (752, 754, {}), (737, 738, {}), (737, 739, {}), (737, 740, {}), (758, 759, {}), (758, 760, {}), (758, 761, {}), (758, 770, {}), (758, 771, {}), (758, 773, {}), (758, 774, {}), (758, 786, {}), (760, 774, {}), (760, 759, {}), (760, 761, {}), (761, 774, {}), (761, 762, {}), (761, 770, {}), (761, 771, {}), (761, 773, {}), (770, 762, {}), (770, 771, {}), (770, 763, {}), (770, 769, {}), (770, 768, {}), (770, 767, {}), (770, 766, {}), (770, 765, {}), (770, 764, {}), (771, 774, {}), (771, 773, {}), (771, 762, {}), (771, 768, {}), (771, 767, {}), (771, 766, {}), (771, 765, {}), (771, 764, {}), (771, 763, {}), (771, 772, {}), (773, 774, {}), (773, 772, {}), (773, 763, {}), (773, 762, {}), (774, 764, {}), (774, 763, {}), (774, 762, {}), (774, 775, {}), (774, 776, {}), (774, 778, {}), (774, 782, {}), (774, 783, {}), (774, 784, {}), (774, 785, {}), (774, 786, {}), (785, 786, {}), (785, 784, {}), (785, 783, {}), (785, 779, {}), (785, 778, {}), (785, 776, {}), (786, 783, {}), (786, 779, {}), (786, 778, {}), (786, 776, {}), (786, 787, {}), (786, 788, {}), (786, 789, {}), (789, 788, {}), (29, 28, {}), (28, 27, {}), (76, 79, {}), (76, 75, {}), (76, 78, {}), (76, 77, {}), (75, 79, {}), (75, 78, {}), (186, 185, {}), (199, 198, {}), (404, 402, {}), (404, 403, {}), (402, 403, {}), (421, 422, {}), (422, 423, {}), (422, 424, {}), (422, 425, {}), (422, 426, {}), (426, 425, {}), (426, 424, {}), (426, 423, {}), (492, 509, {}), (492, 502, {}), (492, 493, {}), (492, 494, {}), (492, 495, {}), (492, 501, {}), (493, 494, {}), (494, 495, {}), (495, 509, {}), (495, 502, {}), (495, 496, {}), (495, 498, {}), (495, 501, {}), (496, 502, {}), (496, 497, {}), (496, 498, {}), (496, 501, {}), (497, 502, {}), (497, 498, {}), (498, 502, {}), (498, 501, {}), (498, 499, {}), (498, 500, {}), (501, 502, {}), (501, 500, {}), (501, 499, {}), (502, 509, {}), (502, 503, {}), (502, 504, {}), (502, 505, {}), (502, 507, {}), (502, 508, {}), (509, 508, {}), (509, 507, {}), (509, 506, {}), (509, 505, {}), (509, 504, {}), (509, 503, {}), (509, 510, {}), (653, 655, {}), (653, 654, {}), (654, 655, {}), (655, 656, {}), (714, 711, {}), (714, 713, {}), (714, 712, {}), (712, 711, {}), (712, 713, {}), (711, 710, {}), (711, 709, {}), (711, 708, {}), (711, 706, {}), (708, 707, {}), (708, 706, {}), (708, 709, {}), (708, 710, {}), (706, 707, {}), (717, 718, {}), (717, 719, {}), (718, 719, {}), (794, 791, {}), (794, 792, {}), (794, 793, {}), (793, 792, {}), (792, 791, {}), (796, 797, {}), (796, 798, {}), (796, 799, {}), (796, 800, {}), (796, 801, {}), (796, 804, {}), (796, 805, {}), (796, 806, {}), (796, 808, {}), (796, 809, {}), (796, 810, {}), (796, 812, {}), (796, 819, {}), (796, 820, {}), (796, 822, {}), (796, 825, {}), (808, 797, {}), (808, 810, {}), (808, 809, {}), (808, 807, {}), (808, 806, {}), (808, 802, {}), (808, 801, {}), (808, 800, {}), (808, 799, {}), (808, 798, {}), (809, 797, {}), (809, 810, {}), (809, 799, {}), (809, 798, {}), (810, 825, {}), (810, 822, {}), (810, 797, {}), (810, 801, {}), (810, 800, {}), (810, 799, {}), (810, 798, {}), (810, 811, {}), (810, 812, {}), (812, 825, {}), (812, 822, {}), (812, 797, {}), (812, 811, {}), (812, 813, {}), (812, 814, {}), (812, 816, {}), (812, 817, {}), (812, 818, {}), (812, 819, {}), (812, 820, {}), (819, 822, {}), (819, 820, {}), (819, 818, {}), (819, 817, {}), (819, 816, {}), (819, 814, {}), (819, 813, {}), (820, 822, {}), (820, 817, {}), (820, 816, {}), (820, 814, {}), (820, 813, {}), (820, 821, {}), (822, 825, {}), (822, 821, {}), (822, 817, {}), (822, 816, {}), (822, 814, {}), (822, 813, {}), (822, 797, {}), (822, 823, {}), (822, 824, {}), (825, 824, {}), (825, 823, {}), (825, 814, {}), (825, 813, {}), (825, 798, {}), (825, 797, {}), (825, 826, {}), (825, 827, {}), (825, 828, {}), (825, 829, {}), (825, 831, {}), (825, 833, {}), (825, 834, {}), (825, 836, {}), (825, 854, {}), (825, 858, {}), (825, 862, {}), (825, 866, {}), (825, 867, {}), (269, 268, {}), (269, 270, {}), (269, 271, {}), (268, 267, {}), (268, 266, {}), (281, 280, {}), (281, 282, {}), (333, 332, {}), (332, 331, {}), (344, 343, {}), (344, 342, {}), (344, 341, {}), (344, 340, {}), (344, 339, {}), (344, 345, {}), (372, 370, {}), (372, 371, {}), (371, 370, {}), (442, 441, {}), (442, 440, {}), (442, 439, {}), (442, 438, {}), (489, 488, {}), (488, 487, {}), (488, 486, {}), (486, 487, {}), (522, 521, {}), (522, 520, {}), (522, 519, {}), (522, 518, {}), (522, 516, {}), (522, 515, {}), (522, 523, {}), (522, 524, {}), (515, 516, {}), (515, 517, {}), (515, 518, {}), (515, 520, {}), (515, 521, {}), (527, 538, {}), (527, 528, {}), (527, 529, {}), (527, 533, {}), (527, 534, {}), (527, 536, {}), (527, 537, {}), (528, 529, {}), (529, 538, {}), (529, 530, {}), (529, 531, {}), (529, 532, {}), (529, 533, {}), (529, 534, {}), (529, 537, {}), (531, 538, {}), (531, 534, {}), (531, 530, {}), (531, 532, {}), (531, 533, {}), (532, 538, {}), (532, 534, {}), (532, 533, {}), (533, 534, {}), (534, 538, {}), (534, 537, {}), (534, 530, {}), (534, 535, {}), (534, 536, {}), (536, 538, {}), (536, 537, {}), (536, 535, {}), (537, 538, {}), (538, 548, {}), (538, 547, {}), (538, 535, {}), (538, 530, {}), (538, 539, {}), (538, 540, {}), (538, 541, {}), (538, 542, {}), (538, 543, {}), (538, 544, {}), (538, 546, {}), (547, 548, {}), (547, 546, {}), (547, 545, {}), (547, 544, {}), (547, 542, {}), (547, 540, {}), (547, 539, {}), (548, 549, {}), (548, 554, {}), (548, 555, {}), (548, 556, {}), (710, 709, {}), (748, 740, {}), (748, 744, {}), (748, 745, {}), (748, 747, {}), (748, 746, {}), (747, 744, {}), (747, 745, {}), (747, 746, {}), (746, 744, {}), (746, 745, {}), (745, 744, {}), (744, 740, {}), (744, 743, {}), (743, 740, {}), (743, 742, {}), (742, 740, {}), (742, 741, {}), (740, 738, {}), (740, 739, {}), (740, 741, {}), (738, 739, {}), (788, 787, {}), (783, 776, {}), (783, 782, {}), (783, 781, {}), (783, 780, {}), (783, 779, {}), (783, 778, {}), (783, 784, {}), (779, 778, {}), (779, 780, {}), (779, 782, {}), (778, 776, {}), (778, 777, {}), (778, 780, {}), (778, 782, {}), (776, 775, {}), (776, 777, {}), (776, 782, {}), (776, 784, {}), (797, 798, {}), (797, 799, {}), (797, 800, {}), (797, 801, {}), (797, 805, {}), (797, 806, {}), (798, 799, {}), (798, 800, {}), (798, 801, {}), (798, 806, {}), (799, 800, {}), (799, 801, {}), (799, 806, {}), (800, 801, {}), (801, 802, {}), (801, 803, {}), (801, 804, {}), (801, 805, {}), (801, 806, {}), (804, 806, {}), (804, 805, {}), (804, 802, {}), (804, 803, {}), (805, 806, {}), (805, 803, {}), (805, 802, {}), (806, 803, {}), (806, 802, {}), (806, 807, {}), (263, 266, {}), (263, 265, {}), (263, 264, {}), (264, 265, {}), (265, 266, {}), (266, 267, {}), (350, 349, {}), (349, 348, {}), (381, 377, {}), (381, 378, {}), (381, 380, {}), (381, 379, {}), (380, 377, {}), (380, 379, {}), (379, 377, {}), (379, 378, {}), (378, 377, {}), (377, 376, {}), (383, 384, {}), (384, 386, {}), (384, 385, {}), (386, 385, {}), (438, 439, {}), (438, 440, {}), (439, 440, {}), (440, 441, {}), (524, 523, {}), (556, 549, {}), (556, 555, {}), (555, 549, {}), (555, 554, {}), (555, 550, {}), (554, 549, {}), (554, 553, {}), (554, 552, {}), (554, 551, {}), (554, 550, {}), (550, 549, {}), (550, 551, {}), (550, 553, {}), (549, 551, {}), (549, 552, {}), (549, 553, {}), (560, 562, {}), (560, 559, {}), (560, 561, {}), (561, 562, {}), (562, 559, {}), (572, 571, {}), (572, 570, {}), (572, 568, {}), (572, 567, {}), (572, 566, {}), (581, 580, {}), (581, 579, {}), (581, 578, {}), (581, 577, {}), (581, 576, {}), (581, 574, {}), (581, 582, {}), (630, 631, {}), (631, 632, {}), (687, 688, {}), (687, 689, {}), (687, 690, {}), (753, 754, {}), (824, 823, {}), (814, 813, {}), (814, 815, {}), (814, 816, {}), (814, 817, {}), (813, 816, {}), (813, 817, {}), (813, 818, {}), (826, 827, {}), (827, 836, {}), (827, 834, {}), (827, 828, {}), (827, 829, {}), (827, 831, {}), (827, 833, {}), (828, 834, {}), (828, 833, {}), (828, 829, {}), (829, 834, {}), (829, 833, {}), (829, 830, {}), (829, 831, {}), (831, 833, {}), (831, 830, {}), (831, 832, {}), (833, 834, {}), (833, 832, {}), (834, 836, {}), (834, 835, {}), (836, 835, {}), (836, 837, {}), (836, 838, {}), (836, 844, {}), (836, 845, {}), (836, 846, {}), (836, 848, {}), (836, 849, {}), (836, 850, {}), (836, 851, {}), (836, 854, {}), (836, 858, {}), (836, 862, {}), (836, 866, {}), (836, 867, {}), (854, 858, {}), (854, 853, {}), (854, 852, {}), (854, 851, {}), (854, 849, {}), (854, 848, {}), (854, 846, {}), (854, 839, {}), (854, 838, {}), (854, 855, {}), (858, 857, {}), (858, 856, {}), (858, 855, {}), (858, 838, {}), (858, 859, {}), (858, 860, {}), (858, 862, {}), (858, 867, {}), (862, 867, {}), (862, 861, {}), (862, 860, {}), (862, 863, {}), (862, 865, {}), (862, 866, {}), (866, 867, {}), (866, 865, {}), (866, 863, {}), (867, 863, {}), (867, 868, {}), (867, 869, {}), (867, 872, {}), (77, 79, {}), (77, 78, {}), (78, 79, {}), (135, 136, {}), (136, 137, {}), (170, 169, {}), (170, 171, {}), (171, 169, {}), (271, 270, {}), (317, 318, {}), (339, 340, {}), (339, 341, {}), (339, 343, {}), (394, 393, {}), (451, 450, {}), (512, 513, {}), (764, 762, {}), (764, 763, {}), (764, 765, {}), (764, 766, {}), (764, 767, {}), (764, 768, {}), (764, 769, {}), (763, 762, {}), (763, 769, {}), (762, 768, {}), (762, 769, {}), (782, 781, {}), (782, 780, {}), (817, 816, {}), (817, 818, {}), (816, 815, {}), (837, 838, {}), (838, 839, {}), (838, 841, {}), (838, 842, {}), (838, 843, {}), (838, 844, {}), (838, 845, {}), (838, 846, {}), (838, 848, {}), (838, 849, {}), (838, 850, {}), (838, 851, {}), (844, 839, {}), (844, 845, {}), (844, 842, {}), (844, 843, {}), (845, 846, {}), (845, 839, {}), (845, 843, {}), (845, 842, {}), (845, 841, {}), (845, 840, {}), (846, 851, {}), (846, 842, {}), (846, 841, {}), (846, 840, {}), (846, 839, {}), (846, 847, {}), (846, 848, {}), (848, 851, {}), (848, 847, {}), (848, 849, {}), (848, 850, {}), (849, 851, {}), (849, 850, {}), (850, 851, {}), (851, 839, {}), (851, 852, {}), (851, 853, {}), (252, 254, {}), (252, 253, {}), (253, 254, {}), (388, 389, {}), (388, 390, {}), (389, 390, {}), (390, 391, {}), (425, 423, {}), (425, 424, {}), (424, 423, {}), (508, 505, {}), (508, 507, {}), (508, 506, {}), (507, 505, {}), (507, 506, {}), (506, 505, {}), (505, 504, {}), (504, 503, {}), (516, 521, {}), (516, 517, {}), (516, 518, {}), (517, 518, {}), (518, 521, {}), (518, 519, {}), (518, 520, {}), (519, 521, {}), (519, 520, {}), (520, 521, {}), (546, 545, {}), (546, 544, {}), (546, 540, {}), (546, 539, {}), (545, 544, {}), (544, 539, {}), (544, 543, {}), (544, 542, {}), (544, 540, {}), (542, 539, {}), (542, 540, {}), (542, 541, {}), (542, 543, {}), (540, 539, {}), (540, 541, {}), (540, 543, {}), (539, 543, {}), (551, 553, {}), (551, 552, {}), (552, 553, {}), (595, 594, {}), (595, 592, {}), (595, 591, {}), (595, 589, {}), (595, 588, {}), (595, 587, {}), (595, 586, {}), (594, 586, {}), (594, 593, {}), (594, 592, {}), (594, 591, {}), (594, 589, {}), (594, 588, {}), (594, 587, {}), (592, 591, {}), (592, 593, {}), (591, 586, {}), (591, 587, {}), (591, 590, {}), (591, 589, {}), (591, 588, {}), (591, 593, {}), (589, 586, {}), (589, 587, {}), (589, 588, {}), (589, 590, {}), (588, 586, {}), (588, 587, {}), (587, 586, {}), (586, 585, {}), (586, 584, {}), (586, 590, {}), (597, 598, {}), (604, 605, {}), (604, 603, {}), (604, 602, {}), (605, 602, {}), (617, 616, {}), (617, 613, {}), (617, 612, {}), (688, 689, {}), (688, 690, {}), (689, 690, {}), (690, 691, {}), (857, 855, {}), (857, 856, {}), (856, 855, {}), (859, 860, {}), (860, 861, {}), (341, 340, {}), (341, 342, {}), (341, 343, {}), (397, 396, {}), (568, 566, {}), (568, 567, {}), (568, 569, {}), (568, 570, {}), (568, 571, {}), (570, 569, {}), (570, 571, {}), (616, 615, {}), (616, 614, {}), (616, 613, {}), (616, 612, {}), (614, 615, {}), (614, 613, {}), (613, 615, {}), (613, 612, {}), (612, 615, {}), (853, 852, {}), (839, 840, {}), (839, 841, {}), (839, 842, {}), (863, 864, {}), (863, 865, {}), (868, 869, {}), (869, 870, {}), (869, 871, {}), (869, 872, {}), (872, 871, {}), (872, 870, {}), (240, 241, {}), (576, 575, {}), (576, 574, {}), (576, 577, {}), (576, 578, {}), (576, 580, {}), (574, 575, {}), (584, 585, {}), (600, 602, {}), (600, 601, {}), (601, 602, {}), (602, 603, {}), (841, 842, {}), (841, 840, {}), (842, 840, {}), (842, 843, {}), (865, 864, {}), (870, 871, {}), (244, 245, {}), (245, 246, {}), (567, 566, {}), (768, 765, {}), (768, 769, {}), (768, 766, {}), (768, 767, {}), (769, 765, {}), (769, 767, {}), (769, 766, {}), (781, 780, {}), (802, 803, {}), (342, 343, {}), (580, 578, {}), (580, 579, {}), (579, 578, {}), (578, 577, {}), (767, 765, {}), (767, 766, {}), (766, 765, {}), (500, 499, {})])"
      ]
     },
     "execution_count": 44,
     "metadata": {},
     "output_type": "execute_result"
    }
   ],
   "source": [
    "graphs['20002']['VeP']['high']['natural'].edges(data=True)"
   ]
  },
  {
   "cell_type": "code",
   "execution_count": null,
   "id": "8a7a09ac",
   "metadata": {},
   "outputs": [],
   "source": []
  },
  {
   "cell_type": "code",
   "execution_count": 7,
   "id": "20b48f44",
   "metadata": {},
   "outputs": [],
   "source": [
    "savepath = os.path.join(basepath,'derivatives','output')"
   ]
  },
  {
   "cell_type": "code",
   "execution_count": 65,
   "id": "99da437a",
   "metadata": {},
   "outputs": [],
   "source": [
    "# adillyofapickle(savepath, graphs, 'graphs')"
   ]
  },
  {
   "cell_type": "code",
   "execution_count": 8,
   "id": "b5e7415c",
   "metadata": {},
   "outputs": [
    {
     "name": "stdout",
     "output_type": "stream",
     "text": [
      "['/Users/gracer/Documents/BBC_21-2939_prepro_data/derivatives/output/tmp/multi_graphs_w_weight_06-21-2022_07-07-02']\n",
      "/Users/gracer/Documents/BBC_21-2939_prepro_data/derivatives/output/tmp/multi_graphs_w_weight_06-21-2022_07-07-02\n"
     ]
    }
   ],
   "source": [
    "graphs = onetoughjar(os.path.join(savepath,'tmp','multi_graphs_w_weight*'))"
   ]
  },
  {
   "cell_type": "code",
   "execution_count": 15,
   "id": "8a7125b4",
   "metadata": {
    "scrolled": true
   },
   "outputs": [
    {
     "data": {
      "text/plain": [
       "<multinetx.core.multilayer.MultilayerGraph at 0x7f94f309bb50>"
      ]
     },
     "execution_count": 15,
     "metadata": {},
     "output_type": "execute_result"
    }
   ],
   "source": [
    "graphs['high']['20008']['mg']"
   ]
  },
  {
   "cell_type": "code",
   "execution_count": 17,
   "id": "f4197eb6",
   "metadata": {},
   "outputs": [],
   "source": [
    "import py3plex.core as pyplex\n",
    "from py3plex.core import multinet\n",
    "from py3plex.core import random_generators\n"
   ]
  },
  {
   "cell_type": "code",
   "execution_count": 26,
   "id": "c995cead",
   "metadata": {},
   "outputs": [],
   "source": [
    "simple_node = {\"source\" : \"node1\",\"type\":\"t1\"}"
   ]
  },
  {
   "cell_type": "code",
   "execution_count": 27,
   "id": "cb955788",
   "metadata": {},
   "outputs": [],
   "source": [
    "A.add_nodes(simple_node)"
   ]
  },
  {
   "cell_type": "code",
   "execution_count": 28,
   "id": "19c70db7",
   "metadata": {},
   "outputs": [
    {
     "name": "stdout",
     "output_type": "stream",
     "text": [
      "-------------------- \n",
      " Printing a single node. \n",
      " --------------------\n"
     ]
    }
   ],
   "source": [
    "A.monitor(\"Printing a single node.\")"
   ]
  },
  {
   "cell_type": "code",
   "execution_count": 31,
   "id": "aead1fd3",
   "metadata": {},
   "outputs": [
    {
     "name": "stdout",
     "output_type": "stream",
     "text": [
      "[(('node1', 't1'), {})]\n"
     ]
    }
   ],
   "source": [
    "print(list(A.get_nodes(data=True)))"
   ]
  },
  {
   "cell_type": "code",
   "execution_count": 36,
   "id": "0984173c",
   "metadata": {},
   "outputs": [],
   "source": [
    "simple_edge = {\"source\":\"node1\",\n",
    "                \"target\":\"node2\",\n",
    "                \"type\":\"mention\",\n",
    "                \"source_type\":\"t1\",\n",
    "                \"weight\" : 2, ## add arbitrary attributes!\n",
    "                \"sunrise_tomorrow\" : True,\n",
    "                \"target_type\":\"t2\"}"
   ]
  },
  {
   "cell_type": "code",
   "execution_count": 37,
   "id": "21188045",
   "metadata": {},
   "outputs": [],
   "source": [
    "A.add_edges(simple_edge)"
   ]
  },
  {
   "cell_type": "code",
   "execution_count": 41,
   "id": "b5753dae",
   "metadata": {},
   "outputs": [
    {
     "name": "stdout",
     "output_type": "stream",
     "text": [
      "[(('node1', 't1'), ('node2', 't2'), {'type': 'mention', 'weight': 2, 'sunrise_tomorrow': True})]\n"
     ]
    }
   ],
   "source": [
    "print(list(A.get_edges(data=True)))"
   ]
  },
  {
   "cell_type": "code",
   "execution_count": 25,
   "id": "beb078d2",
   "metadata": {},
   "outputs": [
    {
     "ename": "IndentationError",
     "evalue": "unexpected indent (<ipython-input-25-3e48fa38f442>, line 5)",
     "output_type": "error",
     "traceback": [
      "\u001b[0;36m  File \u001b[0;32m\"<ipython-input-25-3e48fa38f442>\"\u001b[0;36m, line \u001b[0;32m5\u001b[0m\n\u001b[0;31m    A = multinet.multi_layer_network()\u001b[0m\n\u001b[0m    ^\u001b[0m\n\u001b[0;31mIndentationError\u001b[0m\u001b[0;31m:\u001b[0m unexpected indent\n"
     ]
    }
   ],
   "source": [
    "from py3plex.core import multinet\n",
    "from py3plex.core import random_generators\n",
    "\n",
    " ## An example general multilayer network\n",
    " A = multinet.multi_layer_network()\n",
    "\n",
    " ## add a single node with type\n",
    " simple_node = {\"source\" : \"node1\",\"type\":\"t1\"}\n",
    " A.add_nodes(simple_node)\n",
    " A.monitor(\"Printing a single node.\")\n",
    " print(list(A.get_nodes(data=True)))\n",
    "\n",
    " ## add a single edge with type\n",
    " simple_edge = {\"source\":\"node1\",\n",
    "                \"target\":\"node2\",\n",
    "                \"type\":\"mention\",\n",
    "                \"source_type\":\"t1\",\n",
    "                \"weight\" : 2, ## add arbitrary attributes!\n",
    "                \"sunrise_tomorrow\" : True,\n",
    "                \"target_type\":\"t2\"}\n",
    "\n",
    " A.add_edges(simple_edge)\n",
    " A.monitor(\"Printing a single edge.\")\n",
    " print(list(A.get_edges(data=True)))\n",
    "\n",
    " ## multiple edges are added by simply packing existing edges into a list.\n",
    " simple_attributed_edges = [{\"source\":\"node1\",\"target\":\"node6\",\"type\":\"mention\",\"source_type\":\"t1\",\"target_type\":\"t5\"},{\"source\":\"node3\",\"target\":\"node2\",\"type\":\"mention\",\"source_type\":\"t1\",\"target_type\":\"t3\"}]\n",
    " A.add_edges(simple_attributed_edges)\n",
    " A.monitor(\"Printing multiple edges\")\n",
    " print(list(A.get_edges(data=True)))\n",
    "\n",
    " ## Edges can also be added as lists: [n1,l1,n2,l2,w]\n",
    " example_list_edge = [[\"node3\",\"t2\",\"node2\",\"t6\",1],[\"node3\",\"t2\",\"node2\",\"t6\",1]]\n",
    "\n",
    " ## specify that input is list, all else is recognized by Py3plex!\n",
    " A.add_edges(example_list_edge,input_type=\"list\")\n",
    " print(list(A.get_edges()))"
   ]
  },
  {
   "cell_type": "code",
   "execution_count": 9,
   "id": "62b88a3c",
   "metadata": {},
   "outputs": [
    {
     "ename": "FileNotFoundError",
     "evalue": "[Errno 2] No such file or directory: './datasets/simple_multiplex.edgelist '",
     "output_type": "error",
     "traceback": [
      "\u001b[0;31m---------------------------------------------------------------------------\u001b[0m",
      "\u001b[0;31mFileNotFoundError\u001b[0m                         Traceback (most recent call last)",
      "Cell \u001b[0;32mIn [9], line 1\u001b[0m\n\u001b[0;32m----> 1\u001b[0m multiplex_network \u001b[38;5;241m=\u001b[39m multinet\u001b[38;5;241m.\u001b[39mmulti_layer_network(network_type \u001b[38;5;241m=\u001b[39m \u001b[38;5;124m\"\u001b[39m\u001b[38;5;124mmultiplex\u001b[39m\u001b[38;5;124m\"\u001b[39m)\u001b[38;5;241m.\u001b[39mload_network(\u001b[38;5;124m\"\u001b[39m\u001b[38;5;124m./datasets/simple_multiplex.edgelist \u001b[39m\u001b[38;5;124m\"\u001b[39m,directed\u001b[38;5;241m=\u001b[39m\u001b[38;5;28;01mFalse\u001b[39;00m, input_type\u001b[38;5;241m=\u001b[39m\u001b[38;5;124m\"\u001b[39m\u001b[38;5;124mmultiplex_edges\u001b[39m\u001b[38;5;124m\"\u001b[39m)\n",
      "File \u001b[0;32m~/opt/anaconda3/lib/python3.8/site-packages/py3plex/core/multinet.py:113\u001b[0m, in \u001b[0;36mmulti_layer_network.load_network\u001b[0;34m(self, input_file, directed, input_type, label_delimiter)\u001b[0m\n\u001b[1;32m    110\u001b[0m \u001b[38;5;28;01mif\u001b[39;00m input_type \u001b[38;5;241m==\u001b[39m \u001b[38;5;124m\"\u001b[39m\u001b[38;5;124msparse\u001b[39m\u001b[38;5;124m\"\u001b[39m:\n\u001b[1;32m    111\u001b[0m     \u001b[38;5;28mself\u001b[39m\u001b[38;5;241m.\u001b[39msparse_enabled \u001b[38;5;241m=\u001b[39m \u001b[38;5;28;01mTrue\u001b[39;00m\n\u001b[0;32m--> 113\u001b[0m \u001b[38;5;28mself\u001b[39m\u001b[38;5;241m.\u001b[39mcore_network, \u001b[38;5;28mself\u001b[39m\u001b[38;5;241m.\u001b[39mlabels, \u001b[38;5;28mself\u001b[39m\u001b[38;5;241m.\u001b[39mactivity \u001b[38;5;241m=\u001b[39m \u001b[43mparsers\u001b[49m\u001b[38;5;241;43m.\u001b[39;49m\u001b[43mparse_network\u001b[49m\u001b[43m(\u001b[49m\n\u001b[1;32m    114\u001b[0m \u001b[43m    \u001b[49m\u001b[38;5;28;43mself\u001b[39;49m\u001b[38;5;241;43m.\u001b[39;49m\u001b[43minput_file\u001b[49m\u001b[43m,\u001b[49m\n\u001b[1;32m    115\u001b[0m \u001b[43m    \u001b[49m\u001b[38;5;28;43mself\u001b[39;49m\u001b[38;5;241;43m.\u001b[39;49m\u001b[43minput_type\u001b[49m\u001b[43m,\u001b[49m\n\u001b[1;32m    116\u001b[0m \u001b[43m    \u001b[49m\u001b[43mdirected\u001b[49m\u001b[38;5;241;43m=\u001b[39;49m\u001b[38;5;28;43mself\u001b[39;49m\u001b[38;5;241;43m.\u001b[39;49m\u001b[43mdirected\u001b[49m\u001b[43m,\u001b[49m\n\u001b[1;32m    117\u001b[0m \u001b[43m    \u001b[49m\u001b[43mlabel_delimiter\u001b[49m\u001b[38;5;241;43m=\u001b[39;49m\u001b[38;5;28;43mself\u001b[39;49m\u001b[38;5;241;43m.\u001b[39;49m\u001b[43mlabel_delimiter\u001b[49m\u001b[43m,\u001b[49m\n\u001b[1;32m    118\u001b[0m \u001b[43m    \u001b[49m\u001b[43mnetwork_type\u001b[49m\u001b[38;5;241;43m=\u001b[39;49m\u001b[38;5;28;43mself\u001b[39;49m\u001b[38;5;241;43m.\u001b[39;49m\u001b[43mnetwork_type\u001b[49m\u001b[43m)\u001b[49m\n\u001b[1;32m    120\u001b[0m \u001b[38;5;28;01mif\u001b[39;00m \u001b[38;5;28mself\u001b[39m\u001b[38;5;241m.\u001b[39mnetwork_type \u001b[38;5;241m==\u001b[39m \u001b[38;5;124m\"\u001b[39m\u001b[38;5;124mmultiplex\u001b[39m\u001b[38;5;124m\"\u001b[39m:\n\u001b[1;32m    121\u001b[0m     \u001b[38;5;28mself\u001b[39m\u001b[38;5;241m.\u001b[39mmonitor(\u001b[38;5;124m\"\u001b[39m\u001b[38;5;124mChecking multiplex edges..\u001b[39m\u001b[38;5;124m\"\u001b[39m)\n",
      "File \u001b[0;32m~/opt/anaconda3/lib/python3.8/site-packages/py3plex/core/parsers.py:529\u001b[0m, in \u001b[0;36mparse_network\u001b[0;34m(input_name, f_type, directed, label_delimiter, network_type)\u001b[0m\n\u001b[1;32m    525\u001b[0m     parsed_network, labels \u001b[38;5;241m=\u001b[39m parse_multiedge_tuple_list(\n\u001b[1;32m    526\u001b[0m         input_name, directed)\n\u001b[1;32m    528\u001b[0m \u001b[38;5;28;01melif\u001b[39;00m f_type \u001b[38;5;241m==\u001b[39m \u001b[38;5;124m\"\u001b[39m\u001b[38;5;124mmultiplex_edges\u001b[39m\u001b[38;5;124m\"\u001b[39m:\n\u001b[0;32m--> 529\u001b[0m     parsed_network, labels \u001b[38;5;241m=\u001b[39m \u001b[43mparse_multiplex_edges\u001b[49m\u001b[43m(\u001b[49m\u001b[43minput_name\u001b[49m\u001b[43m,\u001b[49m\u001b[43m \u001b[49m\u001b[43mdirected\u001b[49m\u001b[43m)\u001b[49m\n\u001b[1;32m    531\u001b[0m \u001b[38;5;28;01mif\u001b[39;00m network_type \u001b[38;5;241m==\u001b[39m \u001b[38;5;124m\"\u001b[39m\u001b[38;5;124mmultilayer\u001b[39m\u001b[38;5;124m\"\u001b[39m:\n\u001b[1;32m    532\u001b[0m     \u001b[38;5;28;01mreturn\u001b[39;00m (parsed_network, labels, time_series)\n",
      "File \u001b[0;32m~/opt/anaconda3/lib/python3.8/site-packages/py3plex/core/parsers.py:393\u001b[0m, in \u001b[0;36mparse_multiplex_edges\u001b[0;34m(input_name, directed)\u001b[0m\n\u001b[1;32m    390\u001b[0m     G \u001b[38;5;241m=\u001b[39m nx\u001b[38;5;241m.\u001b[39mMultiGraph()\n\u001b[1;32m    392\u001b[0m unique_layers \u001b[38;5;241m=\u001b[39m \u001b[38;5;28mset\u001b[39m()\n\u001b[0;32m--> 393\u001b[0m \u001b[38;5;28;01mwith\u001b[39;00m \u001b[38;5;28;43mopen\u001b[39;49m\u001b[43m(\u001b[49m\u001b[43minput_name\u001b[49m\u001b[43m)\u001b[49m \u001b[38;5;28;01mas\u001b[39;00m ef:\n\u001b[1;32m    394\u001b[0m     \u001b[38;5;28;01mfor\u001b[39;00m line \u001b[38;5;129;01min\u001b[39;00m ef:\n\u001b[1;32m    395\u001b[0m         parts \u001b[38;5;241m=\u001b[39m line\u001b[38;5;241m.\u001b[39mstrip()\u001b[38;5;241m.\u001b[39msplit(\u001b[38;5;124m\"\u001b[39m\u001b[38;5;124m \u001b[39m\u001b[38;5;124m\"\u001b[39m)\n",
      "\u001b[0;31mFileNotFoundError\u001b[0m: [Errno 2] No such file or directory: './datasets/simple_multiplex.edgelist '"
     ]
    }
   ],
   "source": [
    "multiplex_network = multinet.multi_layer_network(network_type = \"multiplex\").load_network(\"./datasets/simple_multiplex.edgelist \",directed=False, input_type=\"multiplex_edges\")\n",
    "\n"
   ]
  },
  {
   "cell_type": "code",
   "execution_count": null,
   "id": "144d41d2",
   "metadata": {},
   "outputs": [],
   "source": []
  }
 ],
 "metadata": {
  "kernelspec": {
   "display_name": "Python 3 (ipykernel)",
   "language": "python",
   "name": "python3"
  },
  "language_info": {
   "codemirror_mode": {
    "name": "ipython",
    "version": 3
   },
   "file_extension": ".py",
   "mimetype": "text/x-python",
   "name": "python",
   "nbconvert_exporter": "python",
   "pygments_lexer": "ipython3",
   "version": "3.9.12"
  }
 },
 "nbformat": 4,
 "nbformat_minor": 5
}
